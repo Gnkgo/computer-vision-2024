{
 "cells": [
  {
   "cell_type": "markdown",
   "metadata": {},
   "source": [
    "# Image Classification with PyTorch"
   ]
  },
  {
   "cell_type": "markdown",
   "metadata": {},
   "source": [
    "## Data loading\n"
   ]
  },
  {
   "cell_type": "code",
   "execution_count": 113,
   "metadata": {},
   "outputs": [],
   "source": [
    "import numpy as np\n",
    "import matplotlib.pyplot as plt\n",
    "\n",
    "import torch\n",
    "import torch.nn as nn\n",
    "import torch.nn.functional as F\n",
    "import torch.optim as optim\n",
    "from torch.utils.data import DataLoader\n",
    "import torchvision\n",
    "from torchvision import datasets, transforms"
   ]
  },
  {
   "cell_type": "code",
   "execution_count": 114,
   "metadata": {},
   "outputs": [],
   "source": [
    "# torchvision contains convinience functions for popular datasets\n",
    "ds_train = datasets.MNIST('data', train=True, download=True)"
   ]
  },
  {
   "cell_type": "markdown",
   "metadata": {},
   "source": [
    "Each sample is a 28x28 image"
   ]
  },
  {
   "cell_type": "code",
   "execution_count": 115,
   "metadata": {},
   "outputs": [
    {
     "name": "stdout",
     "output_type": "stream",
     "text": [
      "(<PIL.Image.Image image mode=L size=28x28 at 0x253801ECE50>, 5)\n"
     ]
    },
    {
     "data": {
      "image/jpeg": "[encoded data removed]",
      "image/png": "[encoded data removed]",
      "text/plain": [
       "<PIL.Image.Image image mode=L size=120x120>"
      ]
     },
     "execution_count": 115,
     "metadata": {},
     "output_type": "execute_result"
    }
   ],
   "source": [
    "# if we index this dataset, we get a single data point: a PIL image and an Integer\n",
    "print(ds_train[0])\n",
    "ds_train[0][0].resize((120,120))"
   ]
  },
  {
   "cell_type": "markdown",
   "metadata": {},
   "source": [
    "Let's transform the data to something that our Pytorch models will understand\n",
    "for this purpose, we can supply a transform function to the datase"
   ]
  },
  {
   "cell_type": "code",
   "execution_count": 116,
   "metadata": {},
   "outputs": [],
   "source": [
    "transform = transforms.Compose([\n",
    "    transforms.ToTensor(),\n",
    "])\n",
    "ds_train = datasets.MNIST('data', train=True, download=True, transform=transform)"
   ]
  },
  {
   "cell_type": "markdown",
   "metadata": {},
   "source": [
    "The image is now a `torch.Tensor`"
   ]
  },
  {
   "cell_type": "code",
   "execution_count": 117,
   "metadata": {},
   "outputs": [
    {
     "data": {
      "text/plain": [
       "torch.Tensor"
      ]
     },
     "execution_count": 117,
     "metadata": {},
     "output_type": "execute_result"
    }
   ],
   "source": [
    "type(ds_train[0][0])"
   ]
  },
  {
   "cell_type": "markdown",
   "metadata": {},
   "source": [
    "The normalization is something you learned about in the lecture. Normalizing with $\\mu=0, \\sigma=1$ corresponds to no normalization. Let's compute the proper normalization constants!"
   ]
  },
  {
   "cell_type": "code",
   "execution_count": 118,
   "metadata": {},
   "outputs": [],
   "source": [
    "# lets get only the images \n",
    "ims_train = ds_train.data\n",
    "ims_train = ims_train.float() / 255."
   ]
  },
  {
   "cell_type": "code",
   "execution_count": 119,
   "metadata": {},
   "outputs": [
    {
     "name": "stdout",
     "output_type": "stream",
     "text": [
      "mu:  tensor(0.1307)\n",
      "std:  tensor(0.3081)\n"
     ]
    }
   ],
   "source": [
    "#########################################################################\n",
    "# TODO: calculate the mean and std of MNIST images\n",
    "# hint: to look for operations on pytorch tensor, refer to the official PyTorch docs \n",
    "# https://pytorch.org/docs/stable/\n",
    "#########################################################################\n",
    "mu = torch.mean(ims_train)\n",
    "std = torch.std(ims_train)\n",
    "\n",
    "print(\"mu: \", mu)\n",
    "print(\"std: \", std)\n",
    "\n"
   ]
  },
  {
   "cell_type": "markdown",
   "metadata": {},
   "source": [
    "We normalize the data as below."
   ]
  },
  {
   "cell_type": "code",
   "execution_count": 120,
   "metadata": {},
   "outputs": [],
   "source": [
    "transform = transforms.Compose([\n",
    "    transforms.ToTensor(),\n",
    "    transforms.Normalize(mu, std)\n",
    "])\n",
    "ds_train = datasets.MNIST('data', train=True, download=True, transform=transform)\n",
    "ds_test = datasets.MNIST('data', train=False, download=True, transform=transform)"
   ]
  },
  {
   "cell_type": "code",
   "execution_count": 121,
   "metadata": {},
   "outputs": [
    {
     "data": {
      "text/plain": [
       "(tensor(-0.4241), tensor(2.8215))"
      ]
     },
     "execution_count": 121,
     "metadata": {},
     "output_type": "execute_result"
    }
   ],
   "source": [
    "ds_train[0][0].min(), ds_train[0][0].max()"
   ]
  },
  {
   "cell_type": "markdown",
   "metadata": {},
   "source": [
    "Next, we want to receive mini-batches, not only single data points.\n",
    "We use PyTorch's DataLoader class. Build a dataloader with a batch size of 64 and 4 workers (number of subprocess that peform the dataloading). Important: you need to shuffle the training data, not the test data.\n",
    "\n",
    "**NOTE**: if you encounter some unexpected errors in data loading, try setting `NUM_WORKERS = 0`"
   ]
  },
  {
   "cell_type": "code",
   "execution_count": 122,
   "metadata": {},
   "outputs": [],
   "source": [
    "BATCH_SIZE = 64\n",
    "NUM_WORKERS = 4\n",
    "#########################################################################\n",
    "# TODO: Build a dataloader for both train and test data.\n",
    "#########################################################################\n",
    "\n",
    "dl_train = DataLoader(ds_train, batch_size=BATCH_SIZE, shuffle=True, num_workers=NUM_WORKERS)\n",
    "dl_test = DataLoader(ds_test, batch_size=BATCH_SIZE, shuffle=False, num_workers=NUM_WORKERS)\n"
   ]
  },
  {
   "cell_type": "markdown",
   "metadata": {},
   "source": [
    "## MLP in Pytorch\n",
    "\n",
    "Ok, the dataloading works. Let's build our model, PyTorch makes this very easy. We will build replicate the model from our last exercises. However, now, we add another variable called `nLayer` that indicates how many linear layers that in your network. Please adapt your code from last exercise accordingly to allow different number of layers."
   ]
  },
  {
   "cell_type": "code",
   "execution_count": 123,
   "metadata": {},
   "outputs": [],
   "source": [
    "# These are the parameters to be used\n",
    "nInput = 784\n",
    "nOutput = 10\n",
    "nLayer = 2\n",
    "nHidden = 16\n",
    "act_fn = nn.ReLU()"
   ]
  },
  {
   "cell_type": "code",
   "execution_count": 124,
   "metadata": {},
   "outputs": [],
   "source": [
    "#########################################################################\n",
    "# TODO: Implement the __init__ of the MLP class. \n",
    "# insert the activation after every linear layer. Important: the number of \n",
    "# hidden layers should be variable!\n",
    "#########################################################################\n",
    "\n",
    "class MLP(nn.Module):\n",
    "    def __init__(self, nInput, nOutput, nLayer, nHidden, act_fn):\n",
    "        super(MLP, self).__init__()\n",
    "        layers = [] \n",
    "        \n",
    "        ##### implement this part #####\n",
    "        for i in range(nLayer - 1):\n",
    "            if i == 0:\n",
    "                layers.append(nn.Linear(nInput, nHidden))\n",
    "            else:\n",
    "                layers.append(nn.Linear(nHidden, nHidden))\n",
    "            layers.append(act_fn)\n",
    "            \n",
    "        layers.append(nn.Linear(nHidden, nOutput))\n",
    "        \n",
    "        \n",
    "        ###############################\n",
    "        \n",
    "        self.model = nn.Sequential(*layers)\n",
    "\n",
    "    def forward(self, x):\n",
    "        x = torch.flatten(x, 1)\n",
    "        return self.model(x)"
   ]
  },
  {
   "cell_type": "code",
   "execution_count": 125,
   "metadata": {
    "scrolled": true
   },
   "outputs": [
    {
     "data": {
      "text/plain": [
       "torch.Size([1, 10])"
      ]
     },
     "execution_count": 125,
     "metadata": {},
     "output_type": "execute_result"
    }
   ],
   "source": [
    "# Let's test if the forward pass works\n",
    "# this should print torch.Size([1, 10])\n",
    "t = torch.randn(1,1,28,28)\n",
    "mlp = MLP(nInput, nOutput, nLayer, nHidden, act_fn)\n",
    "mlp(t).shape"
   ]
  },
  {
   "cell_type": "code",
   "execution_count": 126,
   "metadata": {},
   "outputs": [
    {
     "data": {
      "text/plain": [
       "MLP(\n",
       "  (model): Sequential(\n",
       "    (0): Linear(in_features=784, out_features=16, bias=True)\n",
       "    (1): ReLU()\n",
       "    (2): Linear(in_features=16, out_features=10, bias=True)\n",
       "  )\n",
       ")"
      ]
     },
     "execution_count": 126,
     "metadata": {},
     "output_type": "execute_result"
    }
   ],
   "source": [
    "mlp"
   ]
  },
  {
   "cell_type": "markdown",
   "metadata": {},
   "source": [
    "We already implemented the test function for you"
   ]
  },
  {
   "cell_type": "code",
   "execution_count": 127,
   "metadata": {},
   "outputs": [],
   "source": [
    "def test(model, dl_test, device='cpu'):\n",
    "    model.eval()\n",
    "    test_loss = 0\n",
    "    correct = 0\n",
    "    with torch.no_grad():\n",
    "        for data, target in dl_test:\n",
    "            data, target = data.to(device), target.to(device)\n",
    "            output = model(data)\n",
    "            test_loss += F.cross_entropy(output, target, reduction='sum').item()  # sum up batch loss\n",
    "            pred = output.argmax(dim=1, keepdim=True)  # get the index of the max log-probability\n",
    "            correct += pred.eq(target.view_as(pred)).sum().item()\n",
    "\n",
    "    test_loss /= len(dl_test.dataset)\n",
    "\n",
    "    print('\\nTest set: Average loss: {:.4f}, Accuracy: {}/{} ({:.3f}%)\\n'.format(\n",
    "        test_loss, correct, len(dl_test.dataset),\n",
    "        100. * correct / len(dl_test.dataset)))"
   ]
  },
  {
   "cell_type": "markdown",
   "metadata": {},
   "source": [
    "Now you only need to implement the training and you are good to go"
   ]
  },
  {
   "cell_type": "code",
   "execution_count": 128,
   "metadata": {},
   "outputs": [],
   "source": [
    "#########################################################################\n",
    "# TODO: Implement the missing part of the training function. As a loss function we want to use cross entropy\n",
    "# It can be called with F.cross_entropy().\n",
    "# Hint: Pass through the model -> Backpropagate gradients -> Take gradient step\n",
    "#########################################################################\n",
    "\n",
    "def train(model, dl_train, optimizer, epoch, log_interval=100, device='cpu'):\n",
    "    model.train()\n",
    "    correct = 0\n",
    "    for batch_idx, (data, target) in enumerate(dl_train):\n",
    "        data, target = data.to(device), target.to(device)\n",
    "        \n",
    "        # first we need to zero the gradient, otherwise PyTorch would accumulate them\n",
    "        optimizer.zero_grad()         \n",
    "        \n",
    "        ##### implement this part #####\n",
    "        output = model(data)\n",
    "        loss = F.cross_entropy(output, target)\n",
    "        loss.backward()\n",
    "        optimizer.step()\n",
    "        \n",
    "        \n",
    "        ###############################\n",
    "\n",
    "        # stats\n",
    "        pred = output.argmax(dim=1, keepdim=True)  # get the index of the max log-probability\n",
    "        correct += pred.eq(target.view_as(pred)).sum().item()\n",
    "\n",
    "        if batch_idx % log_interval == 0:\n",
    "            print('Train Epoch: {} [{}/{} ({:.0f}%)]\\tLoss: {:.6f}'.format(\n",
    "                epoch, batch_idx * len(data), len(dl_train.dataset),\n",
    "                100. * batch_idx / len(dl_train), loss.item()))\n",
    "\n",
    "    print('\\nTrain set: Average loss: {:.4f}, Accuracy: {}/{} ({:.1f}%)\\n'.format(\n",
    "        loss, correct, len(dl_train.dataset),\n",
    "        100. * correct / len(dl_train.dataset)))"
   ]
  },
  {
   "cell_type": "markdown",
   "metadata": {},
   "source": [
    "Ok, the setup is almost done. The only missing part is the optimizer. We are going to use Adam."
   ]
  },
  {
   "cell_type": "code",
   "execution_count": 130,
   "metadata": {},
   "outputs": [],
   "source": [
    "# reinitialize the mlp, so we can play with parameters right here\n",
    "mlp = MLP(nInput, nOutput, nLayer, nHidden, act_fn)\n",
    "optimizer = optim.Adam(mlp.parameters())"
   ]
  },
  {
   "cell_type": "code",
   "execution_count": 94,
   "metadata": {
    "scrolled": true
   },
   "outputs": [
    {
     "name": "stdout",
     "output_type": "stream",
     "text": [
      "Train Epoch: 1 [0/60000 (0%)]\tLoss: 2.392770\n",
      "Train Epoch: 1 [6400/60000 (11%)]\tLoss: 0.702946\n",
      "Train Epoch: 1 [12800/60000 (21%)]\tLoss: 0.387258\n",
      "Train Epoch: 1 [19200/60000 (32%)]\tLoss: 0.423201\n",
      "Train Epoch: 1 [25600/60000 (43%)]\tLoss: 0.240142\n",
      "Train Epoch: 1 [32000/60000 (53%)]\tLoss: 0.316468\n",
      "Train Epoch: 1 [38400/60000 (64%)]\tLoss: 0.398919\n",
      "Train Epoch: 1 [44800/60000 (75%)]\tLoss: 0.252065\n",
      "Train Epoch: 1 [51200/60000 (85%)]\tLoss: 0.417062\n",
      "Train Epoch: 1 [57600/60000 (96%)]\tLoss: 0.232928\n",
      "\n",
      "Train set: Average loss: 0.3208, Accuracy: 52528/60000 (87.5%)\n",
      "\n",
      "\n",
      "Test set: Average loss: 0.2643, Accuracy: 9217/10000 (92.170%)\n",
      "\n",
      "Train Epoch: 2 [0/60000 (0%)]\tLoss: 0.276967\n",
      "Train Epoch: 2 [6400/60000 (11%)]\tLoss: 0.232311\n",
      "Train Epoch: 2 [12800/60000 (21%)]\tLoss: 0.209109\n",
      "Train Epoch: 2 [19200/60000 (32%)]\tLoss: 0.192087\n",
      "Train Epoch: 2 [25600/60000 (43%)]\tLoss: 0.209168\n",
      "Train Epoch: 2 [32000/60000 (53%)]\tLoss: 0.116224\n",
      "Train Epoch: 2 [38400/60000 (64%)]\tLoss: 0.114232\n",
      "Train Epoch: 2 [44800/60000 (75%)]\tLoss: 0.058123\n",
      "Train Epoch: 2 [51200/60000 (85%)]\tLoss: 0.204855\n",
      "Train Epoch: 2 [57600/60000 (96%)]\tLoss: 0.240848\n",
      "\n",
      "Train set: Average loss: 0.1249, Accuracy: 55435/60000 (92.4%)\n",
      "\n",
      "\n",
      "Test set: Average loss: 0.2304, Accuracy: 9323/10000 (93.230%)\n",
      "\n",
      "Train Epoch: 3 [0/60000 (0%)]\tLoss: 0.208121\n",
      "Train Epoch: 3 [6400/60000 (11%)]\tLoss: 0.148327\n",
      "Train Epoch: 3 [12800/60000 (21%)]\tLoss: 0.145787\n",
      "Train Epoch: 3 [19200/60000 (32%)]\tLoss: 0.297319\n",
      "Train Epoch: 3 [25600/60000 (43%)]\tLoss: 0.563787\n",
      "Train Epoch: 3 [32000/60000 (53%)]\tLoss: 0.125234\n",
      "Train Epoch: 3 [38400/60000 (64%)]\tLoss: 0.194929\n",
      "Train Epoch: 3 [44800/60000 (75%)]\tLoss: 0.269780\n",
      "Train Epoch: 3 [51200/60000 (85%)]\tLoss: 0.400461\n",
      "Train Epoch: 3 [57600/60000 (96%)]\tLoss: 0.220447\n",
      "\n",
      "Train set: Average loss: 0.2048, Accuracy: 56017/60000 (93.4%)\n",
      "\n",
      "\n",
      "Test set: Average loss: 0.2082, Accuracy: 9383/10000 (93.830%)\n",
      "\n",
      "Train Epoch: 4 [0/60000 (0%)]\tLoss: 0.184403\n",
      "Train Epoch: 4 [6400/60000 (11%)]\tLoss: 0.098148\n",
      "Train Epoch: 4 [12800/60000 (21%)]\tLoss: 0.186221\n",
      "Train Epoch: 4 [19200/60000 (32%)]\tLoss: 0.169456\n",
      "Train Epoch: 4 [25600/60000 (43%)]\tLoss: 0.248616\n",
      "Train Epoch: 4 [32000/60000 (53%)]\tLoss: 0.246583\n",
      "Train Epoch: 4 [38400/60000 (64%)]\tLoss: 0.216425\n",
      "Train Epoch: 4 [44800/60000 (75%)]\tLoss: 0.076663\n",
      "Train Epoch: 4 [51200/60000 (85%)]\tLoss: 0.103820\n",
      "Train Epoch: 4 [57600/60000 (96%)]\tLoss: 0.050740\n",
      "\n",
      "Train set: Average loss: 0.2881, Accuracy: 56484/60000 (94.1%)\n",
      "\n",
      "\n",
      "Test set: Average loss: 0.1886, Accuracy: 9447/10000 (94.470%)\n",
      "\n",
      "Train Epoch: 5 [0/60000 (0%)]\tLoss: 0.225078\n",
      "Train Epoch: 5 [6400/60000 (11%)]\tLoss: 0.170873\n",
      "Train Epoch: 5 [12800/60000 (21%)]\tLoss: 0.191490\n",
      "Train Epoch: 5 [19200/60000 (32%)]\tLoss: 0.238781\n",
      "Train Epoch: 5 [25600/60000 (43%)]\tLoss: 0.231742\n",
      "Train Epoch: 5 [32000/60000 (53%)]\tLoss: 0.111010\n",
      "Train Epoch: 5 [38400/60000 (64%)]\tLoss: 0.482487\n",
      "Train Epoch: 5 [44800/60000 (75%)]\tLoss: 0.100141\n",
      "Train Epoch: 5 [51200/60000 (85%)]\tLoss: 0.293138\n",
      "Train Epoch: 5 [57600/60000 (96%)]\tLoss: 0.280251\n",
      "\n",
      "Train set: Average loss: 0.4109, Accuracy: 56833/60000 (94.7%)\n",
      "\n",
      "\n",
      "Test set: Average loss: 0.1916, Accuracy: 9430/10000 (94.300%)\n",
      "\n",
      "Train Epoch: 6 [0/60000 (0%)]\tLoss: 0.072007\n",
      "Train Epoch: 6 [6400/60000 (11%)]\tLoss: 0.083282\n",
      "Train Epoch: 6 [12800/60000 (21%)]\tLoss: 0.176937\n",
      "Train Epoch: 6 [19200/60000 (32%)]\tLoss: 0.353610\n",
      "Train Epoch: 6 [25600/60000 (43%)]\tLoss: 0.261919\n",
      "Train Epoch: 6 [32000/60000 (53%)]\tLoss: 0.127378\n",
      "Train Epoch: 6 [38400/60000 (64%)]\tLoss: 0.220935\n",
      "Train Epoch: 6 [44800/60000 (75%)]\tLoss: 0.212507\n",
      "Train Epoch: 6 [51200/60000 (85%)]\tLoss: 0.166190\n",
      "Train Epoch: 6 [57600/60000 (96%)]\tLoss: 0.112207\n",
      "\n",
      "Train set: Average loss: 0.1553, Accuracy: 57012/60000 (95.0%)\n",
      "\n",
      "\n",
      "Test set: Average loss: 0.1797, Accuracy: 9487/10000 (94.870%)\n",
      "\n",
      "Train Epoch: 7 [0/60000 (0%)]\tLoss: 0.141490\n",
      "Train Epoch: 7 [6400/60000 (11%)]\tLoss: 0.127346\n",
      "Train Epoch: 7 [12800/60000 (21%)]\tLoss: 0.237381\n",
      "Train Epoch: 7 [19200/60000 (32%)]\tLoss: 0.146900\n",
      "Train Epoch: 7 [25600/60000 (43%)]\tLoss: 0.138268\n",
      "Train Epoch: 7 [32000/60000 (53%)]\tLoss: 0.107093\n",
      "Train Epoch: 7 [38400/60000 (64%)]\tLoss: 0.207838\n",
      "Train Epoch: 7 [44800/60000 (75%)]\tLoss: 0.095917\n",
      "Train Epoch: 7 [51200/60000 (85%)]\tLoss: 0.077466\n",
      "Train Epoch: 7 [57600/60000 (96%)]\tLoss: 0.148089\n",
      "\n",
      "Train set: Average loss: 0.0541, Accuracy: 57113/60000 (95.2%)\n",
      "\n",
      "\n",
      "Test set: Average loss: 0.1816, Accuracy: 9461/10000 (94.610%)\n",
      "\n",
      "Train Epoch: 8 [0/60000 (0%)]\tLoss: 0.143211\n",
      "Train Epoch: 8 [6400/60000 (11%)]\tLoss: 0.066638\n",
      "Train Epoch: 8 [12800/60000 (21%)]\tLoss: 0.123616\n",
      "Train Epoch: 8 [19200/60000 (32%)]\tLoss: 0.119566\n",
      "Train Epoch: 8 [25600/60000 (43%)]\tLoss: 0.098132\n",
      "Train Epoch: 8 [32000/60000 (53%)]\tLoss: 0.108656\n",
      "Train Epoch: 8 [38400/60000 (64%)]\tLoss: 0.172073\n",
      "Train Epoch: 8 [44800/60000 (75%)]\tLoss: 0.113008\n",
      "Train Epoch: 8 [51200/60000 (85%)]\tLoss: 0.360118\n",
      "Train Epoch: 8 [57600/60000 (96%)]\tLoss: 0.136145\n",
      "\n",
      "Train set: Average loss: 0.3014, Accuracy: 57246/60000 (95.4%)\n",
      "\n",
      "\n",
      "Test set: Average loss: 0.1684, Accuracy: 9514/10000 (95.140%)\n",
      "\n",
      "Train Epoch: 9 [0/60000 (0%)]\tLoss: 0.121122\n",
      "Train Epoch: 9 [6400/60000 (11%)]\tLoss: 0.278441\n",
      "Train Epoch: 9 [12800/60000 (21%)]\tLoss: 0.247092\n",
      "Train Epoch: 9 [19200/60000 (32%)]\tLoss: 0.096636\n",
      "Train Epoch: 9 [25600/60000 (43%)]\tLoss: 0.163223\n",
      "Train Epoch: 9 [32000/60000 (53%)]\tLoss: 0.050243\n",
      "Train Epoch: 9 [38400/60000 (64%)]\tLoss: 0.157827\n",
      "Train Epoch: 9 [44800/60000 (75%)]\tLoss: 0.050299\n",
      "Train Epoch: 9 [51200/60000 (85%)]\tLoss: 0.108107\n",
      "Train Epoch: 9 [57600/60000 (96%)]\tLoss: 0.119490\n",
      "\n",
      "Train set: Average loss: 0.3765, Accuracy: 57302/60000 (95.5%)\n",
      "\n",
      "\n",
      "Test set: Average loss: 0.1658, Accuracy: 9516/10000 (95.160%)\n",
      "\n",
      "Train Epoch: 10 [0/60000 (0%)]\tLoss: 0.031276\n",
      "Train Epoch: 10 [6400/60000 (11%)]\tLoss: 0.069370\n",
      "Train Epoch: 10 [12800/60000 (21%)]\tLoss: 0.092791\n",
      "Train Epoch: 10 [19200/60000 (32%)]\tLoss: 0.116094\n",
      "Train Epoch: 10 [25600/60000 (43%)]\tLoss: 0.078460\n",
      "Train Epoch: 10 [32000/60000 (53%)]\tLoss: 0.246140\n",
      "Train Epoch: 10 [38400/60000 (64%)]\tLoss: 0.042482\n",
      "Train Epoch: 10 [44800/60000 (75%)]\tLoss: 0.140856\n",
      "Train Epoch: 10 [51200/60000 (85%)]\tLoss: 0.158421\n",
      "Train Epoch: 10 [57600/60000 (96%)]\tLoss: 0.214426\n",
      "\n",
      "Train set: Average loss: 0.0855, Accuracy: 57383/60000 (95.6%)\n",
      "\n",
      "\n",
      "Test set: Average loss: 0.1653, Accuracy: 9529/10000 (95.290%)\n",
      "\n",
      "Training is finished.\n"
     ]
    }
   ],
   "source": [
    "epochs = 10\n",
    "for epoch in range(1, epochs + 1):\n",
    "    train(mlp, dl_train, optimizer, epoch, log_interval=100)\n",
    "    test(mlp, dl_test)\n",
    "\n",
    "print ('Training is finished.')"
   ]
  },
  {
   "cell_type": "markdown",
   "metadata": {},
   "source": [
    "After training, you should see test accuracies of > **94%** - By they way, here we report test accuracy, the last exercises reported test error. Accuracy is simply (1 - error). Both metrics are commonly reported, there is no clear preference in literature for one or the other."
   ]
  },
  {
   "cell_type": "markdown",
   "metadata": {},
   "source": [
    "Now, can you do some parameter tuning to boost the test accuracy to > **97%**?"
   ]
  },
  {
   "cell_type": "code",
   "execution_count": 95,
   "metadata": {},
   "outputs": [
    {
     "name": "stdout",
     "output_type": "stream",
     "text": [
      "Train Epoch: 1 [0/60000 (0%)]\tLoss: 2.299121\n",
      "Train Epoch: 1 [6400/60000 (11%)]\tLoss: 0.383816\n",
      "Train Epoch: 1 [12800/60000 (21%)]\tLoss: 0.475309\n",
      "Train Epoch: 1 [19200/60000 (32%)]\tLoss: 0.185621\n",
      "Train Epoch: 1 [25600/60000 (43%)]\tLoss: 0.151586\n",
      "Train Epoch: 1 [32000/60000 (53%)]\tLoss: 0.291350\n",
      "Train Epoch: 1 [38400/60000 (64%)]\tLoss: 0.213749\n",
      "Train Epoch: 1 [44800/60000 (75%)]\tLoss: 0.366534\n",
      "Train Epoch: 1 [51200/60000 (85%)]\tLoss: 0.094502\n",
      "Train Epoch: 1 [57600/60000 (96%)]\tLoss: 0.214572\n",
      "\n",
      "Train set: Average loss: 0.3607, Accuracy: 54164/60000 (90.3%)\n",
      "\n",
      "\n",
      "Test set: Average loss: 0.1639, Accuracy: 9511/10000 (95.110%)\n",
      "\n",
      "Train Epoch: 2 [0/60000 (0%)]\tLoss: 0.135731\n",
      "Train Epoch: 2 [6400/60000 (11%)]\tLoss: 0.057957\n",
      "Train Epoch: 2 [12800/60000 (21%)]\tLoss: 0.067778\n",
      "Train Epoch: 2 [19200/60000 (32%)]\tLoss: 0.171059\n",
      "Train Epoch: 2 [25600/60000 (43%)]\tLoss: 0.127390\n",
      "Train Epoch: 2 [32000/60000 (53%)]\tLoss: 0.049382\n",
      "Train Epoch: 2 [38400/60000 (64%)]\tLoss: 0.102098\n",
      "Train Epoch: 2 [44800/60000 (75%)]\tLoss: 0.091423\n",
      "Train Epoch: 2 [51200/60000 (85%)]\tLoss: 0.117823\n",
      "Train Epoch: 2 [57600/60000 (96%)]\tLoss: 0.116532\n",
      "\n",
      "Train set: Average loss: 0.2385, Accuracy: 57478/60000 (95.8%)\n",
      "\n",
      "\n",
      "Test set: Average loss: 0.1304, Accuracy: 9585/10000 (95.850%)\n",
      "\n",
      "Train Epoch: 3 [0/60000 (0%)]\tLoss: 0.065736\n",
      "Train Epoch: 3 [6400/60000 (11%)]\tLoss: 0.018583\n",
      "Train Epoch: 3 [12800/60000 (21%)]\tLoss: 0.141583\n",
      "Train Epoch: 3 [19200/60000 (32%)]\tLoss: 0.086399\n",
      "Train Epoch: 3 [25600/60000 (43%)]\tLoss: 0.102567\n",
      "Train Epoch: 3 [32000/60000 (53%)]\tLoss: 0.061864\n",
      "Train Epoch: 3 [38400/60000 (64%)]\tLoss: 0.051447\n",
      "Train Epoch: 3 [44800/60000 (75%)]\tLoss: 0.212972\n",
      "Train Epoch: 3 [51200/60000 (85%)]\tLoss: 0.111874\n",
      "Train Epoch: 3 [57600/60000 (96%)]\tLoss: 0.058602\n",
      "\n",
      "Train set: Average loss: 0.0098, Accuracy: 58099/60000 (96.8%)\n",
      "\n",
      "\n",
      "Test set: Average loss: 0.1085, Accuracy: 9654/10000 (96.540%)\n",
      "\n",
      "Train Epoch: 4 [0/60000 (0%)]\tLoss: 0.026688\n",
      "Train Epoch: 4 [6400/60000 (11%)]\tLoss: 0.022326\n",
      "Train Epoch: 4 [12800/60000 (21%)]\tLoss: 0.039895\n",
      "Train Epoch: 4 [19200/60000 (32%)]\tLoss: 0.094043\n",
      "Train Epoch: 4 [25600/60000 (43%)]\tLoss: 0.108565\n",
      "Train Epoch: 4 [32000/60000 (53%)]\tLoss: 0.153256\n",
      "Train Epoch: 4 [38400/60000 (64%)]\tLoss: 0.124100\n",
      "Train Epoch: 4 [44800/60000 (75%)]\tLoss: 0.063195\n",
      "Train Epoch: 4 [51200/60000 (85%)]\tLoss: 0.055113\n",
      "Train Epoch: 4 [57600/60000 (96%)]\tLoss: 0.021013\n",
      "\n",
      "Train set: Average loss: 0.0097, Accuracy: 58488/60000 (97.5%)\n",
      "\n",
      "\n",
      "Test set: Average loss: 0.0997, Accuracy: 9679/10000 (96.790%)\n",
      "\n",
      "Train Epoch: 5 [0/60000 (0%)]\tLoss: 0.129155\n",
      "Train Epoch: 5 [6400/60000 (11%)]\tLoss: 0.055311\n",
      "Train Epoch: 5 [12800/60000 (21%)]\tLoss: 0.039267\n",
      "Train Epoch: 5 [19200/60000 (32%)]\tLoss: 0.008394\n",
      "Train Epoch: 5 [25600/60000 (43%)]\tLoss: 0.020256\n",
      "Train Epoch: 5 [32000/60000 (53%)]\tLoss: 0.062280\n",
      "Train Epoch: 5 [38400/60000 (64%)]\tLoss: 0.017455\n",
      "Train Epoch: 5 [44800/60000 (75%)]\tLoss: 0.064569\n",
      "Train Epoch: 5 [51200/60000 (85%)]\tLoss: 0.132169\n",
      "Train Epoch: 5 [57600/60000 (96%)]\tLoss: 0.027043\n",
      "\n",
      "Train set: Average loss: 0.0461, Accuracy: 58710/60000 (97.8%)\n",
      "\n",
      "\n",
      "Test set: Average loss: 0.0854, Accuracy: 9703/10000 (97.030%)\n",
      "\n",
      "Train Epoch: 6 [0/60000 (0%)]\tLoss: 0.004062\n",
      "Train Epoch: 6 [6400/60000 (11%)]\tLoss: 0.017371\n",
      "Train Epoch: 6 [12800/60000 (21%)]\tLoss: 0.092583\n",
      "Train Epoch: 6 [19200/60000 (32%)]\tLoss: 0.059565\n",
      "Train Epoch: 6 [25600/60000 (43%)]\tLoss: 0.053981\n",
      "Train Epoch: 6 [32000/60000 (53%)]\tLoss: 0.211353\n",
      "Train Epoch: 6 [38400/60000 (64%)]\tLoss: 0.039454\n",
      "Train Epoch: 6 [44800/60000 (75%)]\tLoss: 0.042068\n",
      "Train Epoch: 6 [51200/60000 (85%)]\tLoss: 0.012930\n",
      "Train Epoch: 6 [57600/60000 (96%)]\tLoss: 0.041457\n",
      "\n",
      "Train set: Average loss: 0.0066, Accuracy: 58906/60000 (98.2%)\n",
      "\n",
      "\n",
      "Test set: Average loss: 0.1001, Accuracy: 9696/10000 (96.960%)\n",
      "\n",
      "Train Epoch: 7 [0/60000 (0%)]\tLoss: 0.044719\n",
      "Train Epoch: 7 [6400/60000 (11%)]\tLoss: 0.045207\n",
      "Train Epoch: 7 [12800/60000 (21%)]\tLoss: 0.159209\n",
      "Train Epoch: 7 [19200/60000 (32%)]\tLoss: 0.030054\n",
      "Train Epoch: 7 [25600/60000 (43%)]\tLoss: 0.016511\n",
      "Train Epoch: 7 [32000/60000 (53%)]\tLoss: 0.183827\n",
      "Train Epoch: 7 [38400/60000 (64%)]\tLoss: 0.047351\n",
      "Train Epoch: 7 [44800/60000 (75%)]\tLoss: 0.017585\n",
      "Train Epoch: 7 [51200/60000 (85%)]\tLoss: 0.051978\n",
      "Train Epoch: 7 [57600/60000 (96%)]\tLoss: 0.007532\n",
      "\n",
      "Train set: Average loss: 0.0280, Accuracy: 58973/60000 (98.3%)\n",
      "\n",
      "\n",
      "Test set: Average loss: 0.0994, Accuracy: 9697/10000 (96.970%)\n",
      "\n",
      "Train Epoch: 8 [0/60000 (0%)]\tLoss: 0.056412\n",
      "Train Epoch: 8 [6400/60000 (11%)]\tLoss: 0.000437\n",
      "Train Epoch: 8 [12800/60000 (21%)]\tLoss: 0.069191\n",
      "Train Epoch: 8 [19200/60000 (32%)]\tLoss: 0.011024\n",
      "Train Epoch: 8 [25600/60000 (43%)]\tLoss: 0.047431\n",
      "Train Epoch: 8 [32000/60000 (53%)]\tLoss: 0.016179\n",
      "Train Epoch: 8 [38400/60000 (64%)]\tLoss: 0.016990\n",
      "Train Epoch: 8 [44800/60000 (75%)]\tLoss: 0.043196\n",
      "Train Epoch: 8 [51200/60000 (85%)]\tLoss: 0.023596\n",
      "Train Epoch: 8 [57600/60000 (96%)]\tLoss: 0.059296\n",
      "\n",
      "Train set: Average loss: 0.3598, Accuracy: 59126/60000 (98.5%)\n",
      "\n",
      "\n",
      "Test set: Average loss: 0.1085, Accuracy: 9697/10000 (96.970%)\n",
      "\n",
      "Train Epoch: 9 [0/60000 (0%)]\tLoss: 0.010640\n",
      "Train Epoch: 9 [6400/60000 (11%)]\tLoss: 0.068508\n",
      "Train Epoch: 9 [12800/60000 (21%)]\tLoss: 0.009030\n",
      "Train Epoch: 9 [19200/60000 (32%)]\tLoss: 0.039339\n",
      "Train Epoch: 9 [25600/60000 (43%)]\tLoss: 0.036747\n",
      "Train Epoch: 9 [32000/60000 (53%)]\tLoss: 0.096653\n",
      "Train Epoch: 9 [38400/60000 (64%)]\tLoss: 0.007107\n",
      "Train Epoch: 9 [44800/60000 (75%)]\tLoss: 0.004689\n",
      "Train Epoch: 9 [51200/60000 (85%)]\tLoss: 0.020202\n",
      "Train Epoch: 9 [57600/60000 (96%)]\tLoss: 0.046527\n",
      "\n",
      "Train set: Average loss: 0.0532, Accuracy: 59238/60000 (98.7%)\n",
      "\n",
      "\n",
      "Test set: Average loss: 0.0977, Accuracy: 9726/10000 (97.260%)\n",
      "\n",
      "Train Epoch: 10 [0/60000 (0%)]\tLoss: 0.001793\n",
      "Train Epoch: 10 [6400/60000 (11%)]\tLoss: 0.039203\n",
      "Train Epoch: 10 [12800/60000 (21%)]\tLoss: 0.032894\n",
      "Train Epoch: 10 [19200/60000 (32%)]\tLoss: 0.101791\n",
      "Train Epoch: 10 [25600/60000 (43%)]\tLoss: 0.003984\n",
      "Train Epoch: 10 [32000/60000 (53%)]\tLoss: 0.105134\n",
      "Train Epoch: 10 [38400/60000 (64%)]\tLoss: 0.001454\n",
      "Train Epoch: 10 [44800/60000 (75%)]\tLoss: 0.002914\n",
      "Train Epoch: 10 [51200/60000 (85%)]\tLoss: 0.022911\n",
      "Train Epoch: 10 [57600/60000 (96%)]\tLoss: 0.003836\n",
      "\n",
      "Train set: Average loss: 0.0042, Accuracy: 59321/60000 (98.9%)\n",
      "\n",
      "\n",
      "Test set: Average loss: 0.1026, Accuracy: 9731/10000 (97.310%)\n",
      "\n",
      "Train Epoch: 11 [0/60000 (0%)]\tLoss: 0.014143\n",
      "Train Epoch: 11 [6400/60000 (11%)]\tLoss: 0.015270\n",
      "Train Epoch: 11 [12800/60000 (21%)]\tLoss: 0.001248\n",
      "Train Epoch: 11 [19200/60000 (32%)]\tLoss: 0.005024\n",
      "Train Epoch: 11 [25600/60000 (43%)]\tLoss: 0.028922\n",
      "Train Epoch: 11 [32000/60000 (53%)]\tLoss: 0.103866\n",
      "Train Epoch: 11 [38400/60000 (64%)]\tLoss: 0.006112\n",
      "Train Epoch: 11 [44800/60000 (75%)]\tLoss: 0.105944\n",
      "Train Epoch: 11 [51200/60000 (85%)]\tLoss: 0.063389\n",
      "Train Epoch: 11 [57600/60000 (96%)]\tLoss: 0.002924\n",
      "\n",
      "Train set: Average loss: 0.0640, Accuracy: 59342/60000 (98.9%)\n",
      "\n",
      "\n",
      "Test set: Average loss: 0.1070, Accuracy: 9723/10000 (97.230%)\n",
      "\n",
      "Train Epoch: 12 [0/60000 (0%)]\tLoss: 0.119093\n",
      "Train Epoch: 12 [6400/60000 (11%)]\tLoss: 0.018490\n",
      "Train Epoch: 12 [12800/60000 (21%)]\tLoss: 0.027208\n",
      "Train Epoch: 12 [19200/60000 (32%)]\tLoss: 0.015545\n",
      "Train Epoch: 12 [25600/60000 (43%)]\tLoss: 0.069861\n",
      "Train Epoch: 12 [32000/60000 (53%)]\tLoss: 0.068301\n",
      "Train Epoch: 12 [38400/60000 (64%)]\tLoss: 0.009642\n",
      "Train Epoch: 12 [44800/60000 (75%)]\tLoss: 0.008113\n",
      "Train Epoch: 12 [51200/60000 (85%)]\tLoss: 0.014959\n",
      "Train Epoch: 12 [57600/60000 (96%)]\tLoss: 0.017484\n",
      "\n",
      "Train set: Average loss: 0.0025, Accuracy: 59414/60000 (99.0%)\n",
      "\n",
      "\n",
      "Test set: Average loss: 0.1006, Accuracy: 9745/10000 (97.450%)\n",
      "\n",
      "Train Epoch: 13 [0/60000 (0%)]\tLoss: 0.039081\n",
      "Train Epoch: 13 [6400/60000 (11%)]\tLoss: 0.012066\n",
      "Train Epoch: 13 [12800/60000 (21%)]\tLoss: 0.008972\n",
      "Train Epoch: 13 [19200/60000 (32%)]\tLoss: 0.000400\n",
      "Train Epoch: 13 [25600/60000 (43%)]\tLoss: 0.006408\n",
      "Train Epoch: 13 [32000/60000 (53%)]\tLoss: 0.033263\n",
      "Train Epoch: 13 [38400/60000 (64%)]\tLoss: 0.007578\n",
      "Train Epoch: 13 [44800/60000 (75%)]\tLoss: 0.027834\n",
      "Train Epoch: 13 [51200/60000 (85%)]\tLoss: 0.024612\n",
      "Train Epoch: 13 [57600/60000 (96%)]\tLoss: 0.002309\n",
      "\n",
      "Train set: Average loss: 0.0002, Accuracy: 59465/60000 (99.1%)\n",
      "\n",
      "\n",
      "Test set: Average loss: 0.1113, Accuracy: 9732/10000 (97.320%)\n",
      "\n",
      "Train Epoch: 14 [0/60000 (0%)]\tLoss: 0.016242\n",
      "Train Epoch: 14 [6400/60000 (11%)]\tLoss: 0.006785\n",
      "Train Epoch: 14 [12800/60000 (21%)]\tLoss: 0.036138\n",
      "Train Epoch: 14 [19200/60000 (32%)]\tLoss: 0.040312\n",
      "Train Epoch: 14 [25600/60000 (43%)]\tLoss: 0.002473\n",
      "Train Epoch: 14 [32000/60000 (53%)]\tLoss: 0.001954\n",
      "Train Epoch: 14 [38400/60000 (64%)]\tLoss: 0.040262\n",
      "Train Epoch: 14 [44800/60000 (75%)]\tLoss: 0.021597\n",
      "Train Epoch: 14 [51200/60000 (85%)]\tLoss: 0.003681\n",
      "Train Epoch: 14 [57600/60000 (96%)]\tLoss: 0.006773\n",
      "\n",
      "Train set: Average loss: 0.0025, Accuracy: 59486/60000 (99.1%)\n",
      "\n",
      "\n",
      "Test set: Average loss: 0.1003, Accuracy: 9764/10000 (97.640%)\n",
      "\n",
      "Train Epoch: 15 [0/60000 (0%)]\tLoss: 0.000397\n",
      "Train Epoch: 15 [6400/60000 (11%)]\tLoss: 0.018992\n",
      "Train Epoch: 15 [12800/60000 (21%)]\tLoss: 0.007257\n",
      "Train Epoch: 15 [19200/60000 (32%)]\tLoss: 0.006453\n",
      "Train Epoch: 15 [25600/60000 (43%)]\tLoss: 0.033260\n",
      "Train Epoch: 15 [32000/60000 (53%)]\tLoss: 0.000950\n",
      "Train Epoch: 15 [38400/60000 (64%)]\tLoss: 0.055171\n",
      "Train Epoch: 15 [44800/60000 (75%)]\tLoss: 0.004467\n",
      "Train Epoch: 15 [51200/60000 (85%)]\tLoss: 0.036197\n",
      "Train Epoch: 15 [57600/60000 (96%)]\tLoss: 0.005015\n",
      "\n",
      "Train set: Average loss: 0.0214, Accuracy: 59525/60000 (99.2%)\n",
      "\n",
      "\n",
      "Test set: Average loss: 0.1310, Accuracy: 9736/10000 (97.360%)\n",
      "\n",
      "Training is finished.\n"
     ]
    }
   ],
   "source": [
    "#########################################################################\n",
    "#TODO: modify the parameters below to see which setting that you can get to 97%\n",
    "#########################################################################\n",
    "nLayer = 4\n",
    "nHidden = 64\n",
    "#leaky relu\n",
    "act_fn = nn.LeakyReLU()\n",
    "\n",
    "# reinitialize the mlp, so we can play with parameters right here\n",
    "mlp = MLP(nInput, nOutput, nLayer, nHidden, act_fn)\n",
    "optimizer = optim.Adam(mlp.parameters())\n",
    "\n",
    "epochs = 15\n",
    "for epoch in range(1, epochs + 1):\n",
    "    train(mlp, dl_train, optimizer, epoch, log_interval=100)\n",
    "    test(mlp, dl_test)\n",
    "\n",
    "print ('Training is finished.')"
   ]
  },
  {
   "cell_type": "markdown",
   "metadata": {},
   "source": [
    "Before you move on to the next exercise, you can further play with the other parameters (learning rate, epochs, a different optimizer, etc.) to get a feeling what can improve or hamper performance. "
   ]
  },
  {
   "cell_type": "markdown",
   "metadata": {},
   "source": [
    "## CNN\n",
    "Alright, we matched our prior performance. Let's surpass it! You will soon see the power of CNN by building a small one yourself. The structure should be as follows\n",
    "\n",
    "| CNN Architecture                             \t|\n",
    "|----------------------------------------------\t|\n",
    "| Conv: $C_{in}=1, C_{out}=32, K=3, S=1, P=0$  \t|\n",
    "| ReLU                                         \t|\n",
    "| Conv: $C_{in}=32, C_{out}=64, K=3, S=1, P=0$ \t|\n",
    "| ReLU                                         \t|\n",
    "| MaxPool2d: $K=2, S=2, P=0$                   \t|\n",
    "| Dropout: $p=0.25$                            \t|\n",
    "| Linear: $C_{in}=9216, C_{out}=128$           \t|\n",
    "| ReLU                                         \t|\n",
    "| Dropout: $p=0.5$                             \t|\n",
    "| Linear: $C_{in}=128, C_{out}=10$             \t|\n",
    "\n",
    "The layers you will need are: \n",
    "\n",
    "`nn.Conv2d,  nn.Linear,  nn.Dropout, nn.MaxPool2d, nn.Flatten`\n",
    "\n",
    "For layers without parameters you can alternatively use function in the forward pass:  \n",
    "\n",
    "`F.max_pool2d, torch.flatten`"
   ]
  },
  {
   "cell_type": "code",
   "execution_count": 131,
   "metadata": {},
   "outputs": [],
   "source": [
    "#########################################################################\n",
    "# TODO: Implement the __init__ and forward method of the CNN class. \n",
    "# Hint: do not forget to flatten the appropriate dimension after the convolutional blocks. \n",
    "# A linear layers expect input of the size (B, H) with batch size B and feature size H\n",
    "#########################################################################\n",
    "\n",
    "class CNN(nn.Module):\n",
    "    def __init__(self):\n",
    "        super(CNN, self).__init__()    \n",
    "                     \n",
    "        self.conv1 = nn.Conv2d(1, 32, 3, 1, 0)\n",
    "        self.conv2 = nn.Conv2d(32, 64, 3, 1, 0)\n",
    "        self.pool = nn.MaxPool2d(2, 2, 0)\n",
    "        self.dropout1 = nn.Dropout2d(0.25)     \n",
    "        \n",
    "        \n",
    "        self.fc1 = nn.Linear(9216, 128)\n",
    "        self.dropout2 = nn.Dropout(0.5)\n",
    "        self.fc2 = nn.Linear(128, 10)\n",
    "        \n",
    "        self.relu = nn.ReLU()\n",
    "        \n",
    "        \n",
    "        \n",
    "    def forward(self, x):\n",
    "        \n",
    "        x = self.conv1(x)\n",
    "        x = self.relu(x)\n",
    "        x = self.conv2(x)\n",
    "        x = self.relu(x)\n",
    "        x = self.pool(x)\n",
    "        x = self.dropout1(x)\n",
    "        \n",
    "        x = torch.flatten(x, 1)\n",
    "        \n",
    "        x = self.fc1(x)\n",
    "        x = self.relu(x)\n",
    "        x = self.dropout2(x)\n",
    "        x = self.fc2(x)\n",
    "        \n",
    "        \n",
    "        return x\n"
   ]
  },
  {
   "cell_type": "code",
   "execution_count": 132,
   "metadata": {},
   "outputs": [
    {
     "data": {
      "text/plain": [
       "torch.Size([1, 10])"
      ]
     },
     "execution_count": 132,
     "metadata": {},
     "output_type": "execute_result"
    }
   ],
   "source": [
    "# Let's test if the forward pass works\n",
    "# this should print torch.Size([1, 10])\n",
    "t = torch.randn(1,1,28,28)\n",
    "cnn = CNN()\n",
    "cnn(t).shape"
   ]
  },
  {
   "cell_type": "markdown",
   "metadata": {},
   "source": [
    "Alright, let's train!"
   ]
  },
  {
   "cell_type": "code",
   "execution_count": 133,
   "metadata": {},
   "outputs": [],
   "source": [
    "optimizer = optim.Adam(cnn.parameters())"
   ]
  },
  {
   "cell_type": "code",
   "execution_count": 134,
   "metadata": {
    "scrolled": true
   },
   "outputs": [
    {
     "name": "stdout",
     "output_type": "stream",
     "text": [
      "Train Epoch: 1 [0/60000 (0%)]\tLoss: 2.344166\n",
      "Train Epoch: 1 [6400/60000 (11%)]\tLoss: 0.278715\n",
      "Train Epoch: 1 [12800/60000 (21%)]\tLoss: 0.243398\n",
      "Train Epoch: 1 [19200/60000 (32%)]\tLoss: 0.137043\n",
      "Train Epoch: 1 [25600/60000 (43%)]\tLoss: 0.104351\n",
      "Train Epoch: 1 [32000/60000 (53%)]\tLoss: 0.142128\n",
      "Train Epoch: 1 [38400/60000 (64%)]\tLoss: 0.216350\n",
      "Train Epoch: 1 [44800/60000 (75%)]\tLoss: 0.077360\n",
      "Train Epoch: 1 [51200/60000 (85%)]\tLoss: 0.205553\n",
      "Train Epoch: 1 [57600/60000 (96%)]\tLoss: 0.143734\n",
      "\n",
      "Train set: Average loss: 0.0185, Accuracy: 55930/60000 (93.2%)\n",
      "\n",
      "\n",
      "Test set: Average loss: 0.0534, Accuracy: 9828/10000 (98.280%)\n",
      "\n",
      "Train Epoch: 2 [0/60000 (0%)]\tLoss: 0.141975\n",
      "Train Epoch: 2 [6400/60000 (11%)]\tLoss: 0.056485\n",
      "Train Epoch: 2 [12800/60000 (21%)]\tLoss: 0.129124\n",
      "Train Epoch: 2 [19200/60000 (32%)]\tLoss: 0.024281\n",
      "Train Epoch: 2 [25600/60000 (43%)]\tLoss: 0.060284\n",
      "Train Epoch: 2 [32000/60000 (53%)]\tLoss: 0.070120\n",
      "Train Epoch: 2 [38400/60000 (64%)]\tLoss: 0.109896\n",
      "Train Epoch: 2 [44800/60000 (75%)]\tLoss: 0.055898\n",
      "Train Epoch: 2 [51200/60000 (85%)]\tLoss: 0.045789\n",
      "Train Epoch: 2 [57600/60000 (96%)]\tLoss: 0.042922\n",
      "\n",
      "Train set: Average loss: 0.0135, Accuracy: 58268/60000 (97.1%)\n",
      "\n",
      "\n",
      "Test set: Average loss: 0.0383, Accuracy: 9868/10000 (98.680%)\n",
      "\n",
      "Train Epoch: 3 [0/60000 (0%)]\tLoss: 0.085411\n",
      "Train Epoch: 3 [6400/60000 (11%)]\tLoss: 0.186197\n",
      "Train Epoch: 3 [12800/60000 (21%)]\tLoss: 0.044709\n",
      "Train Epoch: 3 [19200/60000 (32%)]\tLoss: 0.076950\n",
      "Train Epoch: 3 [25600/60000 (43%)]\tLoss: 0.121002\n",
      "Train Epoch: 3 [32000/60000 (53%)]\tLoss: 0.093028\n",
      "Train Epoch: 3 [38400/60000 (64%)]\tLoss: 0.118337\n",
      "Train Epoch: 3 [44800/60000 (75%)]\tLoss: 0.110900\n",
      "Train Epoch: 3 [51200/60000 (85%)]\tLoss: 0.163958\n",
      "Train Epoch: 3 [57600/60000 (96%)]\tLoss: 0.007792\n",
      "\n",
      "Train set: Average loss: 0.0557, Accuracy: 58635/60000 (97.7%)\n",
      "\n",
      "\n",
      "Test set: Average loss: 0.0318, Accuracy: 9896/10000 (98.960%)\n",
      "\n",
      "Train Epoch: 4 [0/60000 (0%)]\tLoss: 0.043726\n",
      "Train Epoch: 4 [6400/60000 (11%)]\tLoss: 0.017480\n",
      "Train Epoch: 4 [12800/60000 (21%)]\tLoss: 0.090926\n",
      "Train Epoch: 4 [19200/60000 (32%)]\tLoss: 0.053317\n",
      "Train Epoch: 4 [25600/60000 (43%)]\tLoss: 0.123437\n",
      "Train Epoch: 4 [32000/60000 (53%)]\tLoss: 0.020842\n",
      "Train Epoch: 4 [38400/60000 (64%)]\tLoss: 0.108594\n",
      "Train Epoch: 4 [44800/60000 (75%)]\tLoss: 0.030453\n",
      "Train Epoch: 4 [51200/60000 (85%)]\tLoss: 0.005816\n",
      "Train Epoch: 4 [57600/60000 (96%)]\tLoss: 0.122150\n",
      "\n",
      "Train set: Average loss: 0.0077, Accuracy: 58834/60000 (98.1%)\n",
      "\n",
      "\n",
      "Test set: Average loss: 0.0314, Accuracy: 9899/10000 (98.990%)\n",
      "\n",
      "Train Epoch: 5 [0/60000 (0%)]\tLoss: 0.013434\n",
      "Train Epoch: 5 [6400/60000 (11%)]\tLoss: 0.002700\n",
      "Train Epoch: 5 [12800/60000 (21%)]\tLoss: 0.008968\n",
      "Train Epoch: 5 [19200/60000 (32%)]\tLoss: 0.133895\n",
      "Train Epoch: 5 [25600/60000 (43%)]\tLoss: 0.060591\n",
      "Train Epoch: 5 [32000/60000 (53%)]\tLoss: 0.035560\n",
      "Train Epoch: 5 [38400/60000 (64%)]\tLoss: 0.012153\n",
      "Train Epoch: 5 [44800/60000 (75%)]\tLoss: 0.044274\n",
      "Train Epoch: 5 [51200/60000 (85%)]\tLoss: 0.047718\n",
      "Train Epoch: 5 [57600/60000 (96%)]\tLoss: 0.022241\n",
      "\n",
      "Train set: Average loss: 0.0965, Accuracy: 58993/60000 (98.3%)\n",
      "\n",
      "\n",
      "Test set: Average loss: 0.0288, Accuracy: 9911/10000 (99.110%)\n",
      "\n"
     ]
    }
   ],
   "source": [
    "epochs = 5\n",
    "for epoch in range(1, epochs + 1):\n",
    "    train(cnn, dl_train, optimizer, epoch, log_interval=100)\n",
    "    test(cnn, dl_test)"
   ]
  },
  {
   "cell_type": "markdown",
   "metadata": {},
   "source": [
    "This will probably take a bit longer to train, as a convolutional network is not very efficient on a CPU. The current settings should get you around **99%** accuracy. Nice! \n",
    "Again, you should try different hyperparameters and see how far you can push the performance."
   ]
  },
  {
   "cell_type": "markdown",
   "metadata": {},
   "source": [
    "### Inline Question\n",
    "\n",
    "If your model weight is randomly initalized, and no training is done as above. What accuracy do you think the model will get for a 10-class classification task in theory?\n",
    "\n",
    "**Your answer**: \n"
   ]
  },
  {
   "cell_type": "markdown",
   "metadata": {},
   "source": [
    "## Training on CIFAR10\n",
    "\n",
    "Now we are going to move to something more challenging - CIFAR10. We can reuse most of the code above. Thankfully, CIFAR is also a popular dataset, so we can again make use of a PyTorch convience function."
   ]
  },
  {
   "cell_type": "code",
   "execution_count": 135,
   "metadata": {},
   "outputs": [
    {
     "name": "stdout",
     "output_type": "stream",
     "text": [
      "Files already downloaded and verified\n"
     ]
    }
   ],
   "source": [
    "ds_train = datasets.CIFAR10(root='./data', train=True, download=True)"
   ]
  },
  {
   "cell_type": "markdown",
   "metadata": {},
   "source": [
    "This dataset is not normalized yet, so we need to calculate the normalization constants."
   ]
  },
  {
   "cell_type": "code",
   "execution_count": 136,
   "metadata": {},
   "outputs": [],
   "source": [
    "ims_train = torch.tensor(ds_train.data)\n",
    "ims_train = ims_train.float() / 255."
   ]
  },
  {
   "cell_type": "code",
   "execution_count": 137,
   "metadata": {},
   "outputs": [
    {
     "data": {
      "text/plain": [
       "tensor([0.2470, 0.2435, 0.2616])"
      ]
     },
     "execution_count": 137,
     "metadata": {},
     "output_type": "execute_result"
    }
   ],
   "source": [
    "ims_train.std((0,1,2))"
   ]
  },
  {
   "cell_type": "code",
   "execution_count": 138,
   "metadata": {},
   "outputs": [
    {
     "name": "stdout",
     "output_type": "stream",
     "text": [
      "mu:  tensor([0.4914, 0.4822, 0.4465])\n",
      "std:  tensor([0.2470, 0.2435, 0.2616])\n"
     ]
    }
   ],
   "source": [
    "#########################################################################\n",
    "# TODO: calculate the mean and std of CIFAR\n",
    "# hint: We want the mean and std of the channel dimension, these should\n",
    "# be 3 dimensional\n",
    "#########################################################################\n",
    "mu = torch.mean(ims_train, (0,1,2))\n",
    "std = torch.std(ims_train, (0,1,2))\n",
    "\n",
    "print(\"mu: \", mu)\n",
    "print(\"std: \", std)\n"
   ]
  },
  {
   "cell_type": "code",
   "execution_count": 139,
   "metadata": {},
   "outputs": [
    {
     "data": {
      "text/plain": [
       "tensor([0.4914, 0.4822, 0.4465])"
      ]
     },
     "execution_count": 139,
     "metadata": {},
     "output_type": "execute_result"
    }
   ],
   "source": [
    "torch.mean(ims_train, dim=(0,1,2))"
   ]
  },
  {
   "cell_type": "markdown",
   "metadata": {},
   "source": [
    "For CIFAR we want to make use of data augmentation to improve generalization. You will find all data augmentations data are included in torchvision here:\n",
    "\n",
    "https://pytorch.org/docs/stable/torchvision/transforms.html"
   ]
  },
  {
   "cell_type": "code",
   "execution_count": 140,
   "metadata": {},
   "outputs": [
    {
     "name": "stdout",
     "output_type": "stream",
     "text": [
      "Files already downloaded and verified\n",
      "Files already downloaded and verified\n"
     ]
    }
   ],
   "source": [
    "BATCH_SIZE = 128\n",
    "NUM_WORKERS = 4 # if you encounter some unexpected errors in data loading, try setting `NUM_WORKERS = 0`\n",
    "#########################################################################\n",
    "# TODO: Implement the proper transforms for the training and test dataloaders. \n",
    "# Then build train and test dataloaders with batch size 128 and 4 workers\n",
    "#\n",
    "# Train: \n",
    "# - Apply a random crop with size 32 on a padded version of the image with P=4\n",
    "# - Flip the image horizontally with a probability of 40 %\n",
    "# - Transform to a Tensor\n",
    "# - Normalize with the constants calculated above\n",
    "# Test: \n",
    "# - Transform to a Tensor\n",
    "# - Normalize with the constants calculated above\n",
    "#########################################################################\n",
    "transform_train = transforms.Compose([\n",
    "    transforms.Pad(4),\n",
    "    transforms.RandomHorizontalFlip(0.4),\n",
    "    transforms.RandomCrop(32),\n",
    "    transforms.ToTensor(),\n",
    "    transforms.Normalize(mu, std)\n",
    "])\n",
    "\n",
    "transform_test = transforms.Compose([\n",
    "    transforms.ToTensor(),\n",
    "    transforms.Normalize(mu, std)\n",
    "])\n",
    "\n",
    "ds_train = datasets.CIFAR10('./data', train=True, download=True, transform=transform_train)\n",
    "ds_test = datasets.CIFAR10('./data', train=False, download=True, transform=transform_test)\n",
    "\n",
    "dl_train = DataLoader(ds_train, batch_size=BATCH_SIZE, shuffle=True, num_workers=NUM_WORKERS)\n",
    "dl_test = DataLoader(ds_test, batch_size=BATCH_SIZE, shuffle=False, num_workers=NUM_WORKERS)"
   ]
  },
  {
   "cell_type": "markdown",
   "metadata": {},
   "source": [
    "Setting up the  optimizer, this time we use SGD. The scheduler adapts the learning rate during traing (you can ignore it)"
   ]
  },
  {
   "cell_type": "code",
   "execution_count": 141,
   "metadata": {},
   "outputs": [],
   "source": [
    "cnn = CNN()\n",
    "optimizer = optim.SGD(cnn.parameters(), lr=0.1, momentum=0.9, weight_decay=5e-4)\n",
    "scheduler = torch.optim.lr_scheduler.CosineAnnealingLR(optimizer, T_max=200)"
   ]
  },
  {
   "cell_type": "code",
   "execution_count": 142,
   "metadata": {
    "scrolled": true
   },
   "outputs": [
    {
     "ename": "RuntimeError",
     "evalue": "Given groups=1, weight of size [32, 1, 3, 3], expected input[128, 3, 32, 32] to have 1 channels, but got 3 channels instead",
     "output_type": "error",
     "traceback": [
      "\u001b[1;31m---------------------------------------------------------------------------\u001b[0m",
      "\u001b[1;31mRuntimeError\u001b[0m                              Traceback (most recent call last)",
      "Cell \u001b[1;32mIn[142], line 3\u001b[0m\n\u001b[0;32m      1\u001b[0m epochs \u001b[38;5;241m=\u001b[39m \u001b[38;5;241m5\u001b[39m\n\u001b[0;32m      2\u001b[0m \u001b[38;5;28;01mfor\u001b[39;00m epoch \u001b[38;5;129;01min\u001b[39;00m \u001b[38;5;28mrange\u001b[39m(\u001b[38;5;241m1\u001b[39m, epochs \u001b[38;5;241m+\u001b[39m \u001b[38;5;241m1\u001b[39m):\n\u001b[1;32m----> 3\u001b[0m     \u001b[43mtrain\u001b[49m\u001b[43m(\u001b[49m\u001b[43mcnn\u001b[49m\u001b[43m,\u001b[49m\u001b[43m \u001b[49m\u001b[43mdl_train\u001b[49m\u001b[43m,\u001b[49m\u001b[43m \u001b[49m\u001b[43moptimizer\u001b[49m\u001b[43m,\u001b[49m\u001b[43m \u001b[49m\u001b[43mepoch\u001b[49m\u001b[43m,\u001b[49m\u001b[43m \u001b[49m\u001b[43mlog_interval\u001b[49m\u001b[38;5;241;43m=\u001b[39;49m\u001b[38;5;241;43m100\u001b[39;49m\u001b[43m)\u001b[49m\n\u001b[0;32m      4\u001b[0m     test(cnn, dl_test)    \n\u001b[0;32m      5\u001b[0m     scheduler\u001b[38;5;241m.\u001b[39mstep()\n",
      "Cell \u001b[1;32mIn[128], line 17\u001b[0m, in \u001b[0;36mtrain\u001b[1;34m(model, dl_train, optimizer, epoch, log_interval, device)\u001b[0m\n\u001b[0;32m     14\u001b[0m optimizer\u001b[38;5;241m.\u001b[39mzero_grad()         \n\u001b[0;32m     16\u001b[0m \u001b[38;5;66;03m##### implement this part #####\u001b[39;00m\n\u001b[1;32m---> 17\u001b[0m output \u001b[38;5;241m=\u001b[39m \u001b[43mmodel\u001b[49m\u001b[43m(\u001b[49m\u001b[43mdata\u001b[49m\u001b[43m)\u001b[49m\n\u001b[0;32m     18\u001b[0m loss \u001b[38;5;241m=\u001b[39m F\u001b[38;5;241m.\u001b[39mcross_entropy(output, target)\n\u001b[0;32m     19\u001b[0m loss\u001b[38;5;241m.\u001b[39mbackward()\n",
      "File \u001b[1;32mc:\\Users\\Joanna Brodbeck\\miniconda3\\envs\\dl4cv\\lib\\site-packages\\torch\\nn\\modules\\module.py:1736\u001b[0m, in \u001b[0;36mModule._wrapped_call_impl\u001b[1;34m(self, *args, **kwargs)\u001b[0m\n\u001b[0;32m   1734\u001b[0m     \u001b[38;5;28;01mreturn\u001b[39;00m \u001b[38;5;28mself\u001b[39m\u001b[38;5;241m.\u001b[39m_compiled_call_impl(\u001b[38;5;241m*\u001b[39margs, \u001b[38;5;241m*\u001b[39m\u001b[38;5;241m*\u001b[39mkwargs)  \u001b[38;5;66;03m# type: ignore[misc]\u001b[39;00m\n\u001b[0;32m   1735\u001b[0m \u001b[38;5;28;01melse\u001b[39;00m:\n\u001b[1;32m-> 1736\u001b[0m     \u001b[38;5;28;01mreturn\u001b[39;00m \u001b[38;5;28mself\u001b[39m\u001b[38;5;241m.\u001b[39m_call_impl(\u001b[38;5;241m*\u001b[39margs, \u001b[38;5;241m*\u001b[39m\u001b[38;5;241m*\u001b[39mkwargs)\n",
      "File \u001b[1;32mc:\\Users\\Joanna Brodbeck\\miniconda3\\envs\\dl4cv\\lib\\site-packages\\torch\\nn\\modules\\module.py:1747\u001b[0m, in \u001b[0;36mModule._call_impl\u001b[1;34m(self, *args, **kwargs)\u001b[0m\n\u001b[0;32m   1742\u001b[0m \u001b[38;5;66;03m# If we don't have any hooks, we want to skip the rest of the logic in\u001b[39;00m\n\u001b[0;32m   1743\u001b[0m \u001b[38;5;66;03m# this function, and just call forward.\u001b[39;00m\n\u001b[0;32m   1744\u001b[0m \u001b[38;5;28;01mif\u001b[39;00m \u001b[38;5;129;01mnot\u001b[39;00m (\u001b[38;5;28mself\u001b[39m\u001b[38;5;241m.\u001b[39m_backward_hooks \u001b[38;5;129;01mor\u001b[39;00m \u001b[38;5;28mself\u001b[39m\u001b[38;5;241m.\u001b[39m_backward_pre_hooks \u001b[38;5;129;01mor\u001b[39;00m \u001b[38;5;28mself\u001b[39m\u001b[38;5;241m.\u001b[39m_forward_hooks \u001b[38;5;129;01mor\u001b[39;00m \u001b[38;5;28mself\u001b[39m\u001b[38;5;241m.\u001b[39m_forward_pre_hooks\n\u001b[0;32m   1745\u001b[0m         \u001b[38;5;129;01mor\u001b[39;00m _global_backward_pre_hooks \u001b[38;5;129;01mor\u001b[39;00m _global_backward_hooks\n\u001b[0;32m   1746\u001b[0m         \u001b[38;5;129;01mor\u001b[39;00m _global_forward_hooks \u001b[38;5;129;01mor\u001b[39;00m _global_forward_pre_hooks):\n\u001b[1;32m-> 1747\u001b[0m     \u001b[38;5;28;01mreturn\u001b[39;00m forward_call(\u001b[38;5;241m*\u001b[39margs, \u001b[38;5;241m*\u001b[39m\u001b[38;5;241m*\u001b[39mkwargs)\n\u001b[0;32m   1749\u001b[0m result \u001b[38;5;241m=\u001b[39m \u001b[38;5;28;01mNone\u001b[39;00m\n\u001b[0;32m   1750\u001b[0m called_always_called_hooks \u001b[38;5;241m=\u001b[39m \u001b[38;5;28mset\u001b[39m()\n",
      "Cell \u001b[1;32mIn[131], line 27\u001b[0m, in \u001b[0;36mCNN.forward\u001b[1;34m(self, x)\u001b[0m\n\u001b[0;32m     25\u001b[0m \u001b[38;5;28;01mdef\u001b[39;00m \u001b[38;5;21mforward\u001b[39m(\u001b[38;5;28mself\u001b[39m, x):\n\u001b[1;32m---> 27\u001b[0m     x \u001b[38;5;241m=\u001b[39m \u001b[38;5;28;43mself\u001b[39;49m\u001b[38;5;241;43m.\u001b[39;49m\u001b[43mconv1\u001b[49m\u001b[43m(\u001b[49m\u001b[43mx\u001b[49m\u001b[43m)\u001b[49m\n\u001b[0;32m     28\u001b[0m     x \u001b[38;5;241m=\u001b[39m \u001b[38;5;28mself\u001b[39m\u001b[38;5;241m.\u001b[39mrelu(x)\n\u001b[0;32m     29\u001b[0m     x \u001b[38;5;241m=\u001b[39m \u001b[38;5;28mself\u001b[39m\u001b[38;5;241m.\u001b[39mconv2(x)\n",
      "File \u001b[1;32mc:\\Users\\Joanna Brodbeck\\miniconda3\\envs\\dl4cv\\lib\\site-packages\\torch\\nn\\modules\\module.py:1736\u001b[0m, in \u001b[0;36mModule._wrapped_call_impl\u001b[1;34m(self, *args, **kwargs)\u001b[0m\n\u001b[0;32m   1734\u001b[0m     \u001b[38;5;28;01mreturn\u001b[39;00m \u001b[38;5;28mself\u001b[39m\u001b[38;5;241m.\u001b[39m_compiled_call_impl(\u001b[38;5;241m*\u001b[39margs, \u001b[38;5;241m*\u001b[39m\u001b[38;5;241m*\u001b[39mkwargs)  \u001b[38;5;66;03m# type: ignore[misc]\u001b[39;00m\n\u001b[0;32m   1735\u001b[0m \u001b[38;5;28;01melse\u001b[39;00m:\n\u001b[1;32m-> 1736\u001b[0m     \u001b[38;5;28;01mreturn\u001b[39;00m \u001b[38;5;28mself\u001b[39m\u001b[38;5;241m.\u001b[39m_call_impl(\u001b[38;5;241m*\u001b[39margs, \u001b[38;5;241m*\u001b[39m\u001b[38;5;241m*\u001b[39mkwargs)\n",
      "File \u001b[1;32mc:\\Users\\Joanna Brodbeck\\miniconda3\\envs\\dl4cv\\lib\\site-packages\\torch\\nn\\modules\\module.py:1747\u001b[0m, in \u001b[0;36mModule._call_impl\u001b[1;34m(self, *args, **kwargs)\u001b[0m\n\u001b[0;32m   1742\u001b[0m \u001b[38;5;66;03m# If we don't have any hooks, we want to skip the rest of the logic in\u001b[39;00m\n\u001b[0;32m   1743\u001b[0m \u001b[38;5;66;03m# this function, and just call forward.\u001b[39;00m\n\u001b[0;32m   1744\u001b[0m \u001b[38;5;28;01mif\u001b[39;00m \u001b[38;5;129;01mnot\u001b[39;00m (\u001b[38;5;28mself\u001b[39m\u001b[38;5;241m.\u001b[39m_backward_hooks \u001b[38;5;129;01mor\u001b[39;00m \u001b[38;5;28mself\u001b[39m\u001b[38;5;241m.\u001b[39m_backward_pre_hooks \u001b[38;5;129;01mor\u001b[39;00m \u001b[38;5;28mself\u001b[39m\u001b[38;5;241m.\u001b[39m_forward_hooks \u001b[38;5;129;01mor\u001b[39;00m \u001b[38;5;28mself\u001b[39m\u001b[38;5;241m.\u001b[39m_forward_pre_hooks\n\u001b[0;32m   1745\u001b[0m         \u001b[38;5;129;01mor\u001b[39;00m _global_backward_pre_hooks \u001b[38;5;129;01mor\u001b[39;00m _global_backward_hooks\n\u001b[0;32m   1746\u001b[0m         \u001b[38;5;129;01mor\u001b[39;00m _global_forward_hooks \u001b[38;5;129;01mor\u001b[39;00m _global_forward_pre_hooks):\n\u001b[1;32m-> 1747\u001b[0m     \u001b[38;5;28;01mreturn\u001b[39;00m forward_call(\u001b[38;5;241m*\u001b[39margs, \u001b[38;5;241m*\u001b[39m\u001b[38;5;241m*\u001b[39mkwargs)\n\u001b[0;32m   1749\u001b[0m result \u001b[38;5;241m=\u001b[39m \u001b[38;5;28;01mNone\u001b[39;00m\n\u001b[0;32m   1750\u001b[0m called_always_called_hooks \u001b[38;5;241m=\u001b[39m \u001b[38;5;28mset\u001b[39m()\n",
      "File \u001b[1;32mc:\\Users\\Joanna Brodbeck\\miniconda3\\envs\\dl4cv\\lib\\site-packages\\torch\\nn\\modules\\conv.py:554\u001b[0m, in \u001b[0;36mConv2d.forward\u001b[1;34m(self, input)\u001b[0m\n\u001b[0;32m    553\u001b[0m \u001b[38;5;28;01mdef\u001b[39;00m \u001b[38;5;21mforward\u001b[39m(\u001b[38;5;28mself\u001b[39m, \u001b[38;5;28minput\u001b[39m: Tensor) \u001b[38;5;241m-\u001b[39m\u001b[38;5;241m>\u001b[39m Tensor:\n\u001b[1;32m--> 554\u001b[0m     \u001b[38;5;28;01mreturn\u001b[39;00m \u001b[38;5;28;43mself\u001b[39;49m\u001b[38;5;241;43m.\u001b[39;49m\u001b[43m_conv_forward\u001b[49m\u001b[43m(\u001b[49m\u001b[38;5;28;43minput\u001b[39;49m\u001b[43m,\u001b[49m\u001b[43m \u001b[49m\u001b[38;5;28;43mself\u001b[39;49m\u001b[38;5;241;43m.\u001b[39;49m\u001b[43mweight\u001b[49m\u001b[43m,\u001b[49m\u001b[43m \u001b[49m\u001b[38;5;28;43mself\u001b[39;49m\u001b[38;5;241;43m.\u001b[39;49m\u001b[43mbias\u001b[49m\u001b[43m)\u001b[49m\n",
      "File \u001b[1;32mc:\\Users\\Joanna Brodbeck\\miniconda3\\envs\\dl4cv\\lib\\site-packages\\torch\\nn\\modules\\conv.py:549\u001b[0m, in \u001b[0;36mConv2d._conv_forward\u001b[1;34m(self, input, weight, bias)\u001b[0m\n\u001b[0;32m    537\u001b[0m \u001b[38;5;28;01mif\u001b[39;00m \u001b[38;5;28mself\u001b[39m\u001b[38;5;241m.\u001b[39mpadding_mode \u001b[38;5;241m!=\u001b[39m \u001b[38;5;124m\"\u001b[39m\u001b[38;5;124mzeros\u001b[39m\u001b[38;5;124m\"\u001b[39m:\n\u001b[0;32m    538\u001b[0m     \u001b[38;5;28;01mreturn\u001b[39;00m F\u001b[38;5;241m.\u001b[39mconv2d(\n\u001b[0;32m    539\u001b[0m         F\u001b[38;5;241m.\u001b[39mpad(\n\u001b[0;32m    540\u001b[0m             \u001b[38;5;28minput\u001b[39m, \u001b[38;5;28mself\u001b[39m\u001b[38;5;241m.\u001b[39m_reversed_padding_repeated_twice, mode\u001b[38;5;241m=\u001b[39m\u001b[38;5;28mself\u001b[39m\u001b[38;5;241m.\u001b[39mpadding_mode\n\u001b[1;32m   (...)\u001b[0m\n\u001b[0;32m    547\u001b[0m         \u001b[38;5;28mself\u001b[39m\u001b[38;5;241m.\u001b[39mgroups,\n\u001b[0;32m    548\u001b[0m     )\n\u001b[1;32m--> 549\u001b[0m \u001b[38;5;28;01mreturn\u001b[39;00m \u001b[43mF\u001b[49m\u001b[38;5;241;43m.\u001b[39;49m\u001b[43mconv2d\u001b[49m\u001b[43m(\u001b[49m\n\u001b[0;32m    550\u001b[0m \u001b[43m    \u001b[49m\u001b[38;5;28;43minput\u001b[39;49m\u001b[43m,\u001b[49m\u001b[43m \u001b[49m\u001b[43mweight\u001b[49m\u001b[43m,\u001b[49m\u001b[43m \u001b[49m\u001b[43mbias\u001b[49m\u001b[43m,\u001b[49m\u001b[43m \u001b[49m\u001b[38;5;28;43mself\u001b[39;49m\u001b[38;5;241;43m.\u001b[39;49m\u001b[43mstride\u001b[49m\u001b[43m,\u001b[49m\u001b[43m \u001b[49m\u001b[38;5;28;43mself\u001b[39;49m\u001b[38;5;241;43m.\u001b[39;49m\u001b[43mpadding\u001b[49m\u001b[43m,\u001b[49m\u001b[43m \u001b[49m\u001b[38;5;28;43mself\u001b[39;49m\u001b[38;5;241;43m.\u001b[39;49m\u001b[43mdilation\u001b[49m\u001b[43m,\u001b[49m\u001b[43m \u001b[49m\u001b[38;5;28;43mself\u001b[39;49m\u001b[38;5;241;43m.\u001b[39;49m\u001b[43mgroups\u001b[49m\n\u001b[0;32m    551\u001b[0m \u001b[43m\u001b[49m\u001b[43m)\u001b[49m\n",
      "\u001b[1;31mRuntimeError\u001b[0m: Given groups=1, weight of size [32, 1, 3, 3], expected input[128, 3, 32, 32] to have 1 channels, but got 3 channels instead"
     ]
    }
   ],
   "source": [
    "epochs = 5\n",
    "for epoch in range(1, epochs + 1):\n",
    "    train(cnn, dl_train, optimizer, epoch, log_interval=100)\n",
    "    test(cnn, dl_test)    \n",
    "    scheduler.step()"
   ]
  },
  {
   "cell_type": "markdown",
   "metadata": {},
   "source": [
    "This will not work. You should see the following error message\n",
    "\n",
    "```\n",
    "Given groups=1, weight of size [32, 1, 3, 3], expected input[128, 3, 32, 32] to have 1 channels, but got 3 channels instead\n",
    "```\n",
    "\n",
    "This error is telling us that something is not right in the definition of our model. Copy the CNN class from above and make changes, so the training works."
   ]
  },
  {
   "cell_type": "code",
   "execution_count": 143,
   "metadata": {},
   "outputs": [
    {
     "data": {
      "text/plain": [
       "torch.Size([1, 10])"
      ]
     },
     "execution_count": 143,
     "metadata": {},
     "output_type": "execute_result"
    }
   ],
   "source": [
    "#########################################################################\n",
    "# TODO: Adapt the definition from the CNN class above to work on CIFAR.\n",
    "# You can copy and run the following prompt for evaluation:\n",
    "# CNN()(torch.randn(1,3,32,32)).shape\n",
    "# It should print 'torch.Size([1, 10])'\n",
    "# Hint: You need to change 2 things. \n",
    "#########################################################################\n",
    "\n",
    "class CNN(nn.Module):\n",
    "    def __init__(self):\n",
    "        super(CNN, self).__init__()    \n",
    "                     \n",
    "        self.conv1 = nn.Conv2d(3, 32, 3, 1, 0)\n",
    "        self.conv2 = nn.Conv2d(32, 64, 3, 1, 0)\n",
    "        self.pool = nn.MaxPool2d(2, 2, 0)\n",
    "        self.dropout1 = nn.Dropout2d(0.25)     \n",
    "        \n",
    "        # After conv1: (32-3+1) x (32-3+1) = 30 x 30\n",
    "        # After conv2: (30-3+1) x (30-3+1) = 28 x 28\n",
    "        # After pooling: (28/2) x (28/2) = 14 x 14\n",
    "        # Total features = 14 * 14 * 64 = 12544\n",
    "        self.fc1 = nn.Linear(14 * 14 * 64, 128)\n",
    "        self.dropout2 = nn.Dropout(0.5)\n",
    "        self.fc2 = nn.Linear(128, 10)\n",
    "        \n",
    "        self.relu = nn.ReLU()\n",
    "        \n",
    "        \n",
    "        \n",
    "    def forward(self, x):\n",
    "        \n",
    "        x = self.conv1(x)\n",
    "        x = self.relu(x)\n",
    "        x = self.conv2(x)\n",
    "        x = self.relu(x)\n",
    "        x = self.pool(x)\n",
    "        x = self.dropout1(x)\n",
    "        \n",
    "        x = torch.flatten(x, 1)\n",
    "        \n",
    "        x = self.fc1(x)\n",
    "        x = self.relu(x)\n",
    "        x = self.dropout2(x)\n",
    "        x = self.fc2(x)\n",
    "        \n",
    "        \n",
    "        return x\n",
    "\n",
    "\n",
    "CNN()(torch.randn(1,3,32,32)).shape"
   ]
  },
  {
   "cell_type": "markdown",
   "metadata": {},
   "source": [
    "Let's try again"
   ]
  },
  {
   "cell_type": "code",
   "execution_count": 144,
   "metadata": {
    "scrolled": true
   },
   "outputs": [
    {
     "name": "stdout",
     "output_type": "stream",
     "text": [
      "Train Epoch: 1 [0/50000 (0%)]\tLoss: 2.309834\n",
      "Train Epoch: 1 [12800/50000 (26%)]\tLoss: 1.974741\n",
      "Train Epoch: 1 [25600/50000 (51%)]\tLoss: 2.302745\n",
      "Train Epoch: 1 [38400/50000 (77%)]\tLoss: 2.298304\n",
      "\n",
      "Train set: Average loss: 2.2982, Accuracy: 6971/50000 (13.9%)\n",
      "\n",
      "\n",
      "Test set: Average loss: 2.2900, Accuracy: 1106/10000 (11.060%)\n",
      "\n",
      "Train Epoch: 2 [0/50000 (0%)]\tLoss: 2.296466\n",
      "Train Epoch: 2 [12800/50000 (26%)]\tLoss: 2.261437\n",
      "Train Epoch: 2 [25600/50000 (51%)]\tLoss: 2.228938\n",
      "Train Epoch: 2 [38400/50000 (77%)]\tLoss: 2.086894\n",
      "\n",
      "Train set: Average loss: 2.1243, Accuracy: 7814/50000 (15.6%)\n",
      "\n",
      "\n",
      "Test set: Average loss: 1.9669, Accuracy: 2648/10000 (26.480%)\n",
      "\n",
      "Train Epoch: 3 [0/50000 (0%)]\tLoss: 2.040868\n",
      "Train Epoch: 3 [12800/50000 (26%)]\tLoss: 1.927718\n",
      "Train Epoch: 3 [25600/50000 (51%)]\tLoss: 1.981601\n",
      "Train Epoch: 3 [38400/50000 (77%)]\tLoss: 1.958884\n",
      "\n",
      "Train set: Average loss: 1.8118, Accuracy: 12865/50000 (25.7%)\n",
      "\n",
      "\n",
      "Test set: Average loss: 1.7406, Accuracy: 3637/10000 (36.370%)\n",
      "\n",
      "Train Epoch: 4 [0/50000 (0%)]\tLoss: 1.835258\n",
      "Train Epoch: 4 [12800/50000 (26%)]\tLoss: 1.950859\n",
      "Train Epoch: 4 [25600/50000 (51%)]\tLoss: 2.037346\n",
      "Train Epoch: 4 [38400/50000 (77%)]\tLoss: 1.829467\n",
      "\n",
      "Train set: Average loss: 1.9366, Accuracy: 15177/50000 (30.4%)\n",
      "\n",
      "\n",
      "Test set: Average loss: 1.6467, Accuracy: 3979/10000 (39.790%)\n",
      "\n",
      "Train Epoch: 5 [0/50000 (0%)]\tLoss: 1.864430\n",
      "Train Epoch: 5 [12800/50000 (26%)]\tLoss: 1.771591\n",
      "Train Epoch: 5 [25600/50000 (51%)]\tLoss: 1.845821\n",
      "Train Epoch: 5 [38400/50000 (77%)]\tLoss: 1.814066\n",
      "\n",
      "Train set: Average loss: 1.7984, Accuracy: 16388/50000 (32.8%)\n",
      "\n",
      "\n",
      "Test set: Average loss: 1.6213, Accuracy: 4114/10000 (41.140%)\n",
      "\n",
      "Train Epoch: 6 [0/50000 (0%)]\tLoss: 1.712444\n",
      "Train Epoch: 6 [12800/50000 (26%)]\tLoss: 1.778412\n",
      "Train Epoch: 6 [25600/50000 (51%)]\tLoss: 1.820090\n",
      "Train Epoch: 6 [38400/50000 (77%)]\tLoss: 1.692685\n",
      "\n",
      "Train set: Average loss: 1.6267, Accuracy: 17487/50000 (35.0%)\n",
      "\n",
      "\n",
      "Test set: Average loss: 1.5172, Accuracy: 4454/10000 (44.540%)\n",
      "\n",
      "Train Epoch: 7 [0/50000 (0%)]\tLoss: 1.667257\n",
      "Train Epoch: 7 [12800/50000 (26%)]\tLoss: 1.801041\n",
      "Train Epoch: 7 [25600/50000 (51%)]\tLoss: 1.810774\n",
      "Train Epoch: 7 [38400/50000 (77%)]\tLoss: 1.661239\n",
      "\n",
      "Train set: Average loss: 1.6153, Accuracy: 17516/50000 (35.0%)\n",
      "\n",
      "\n",
      "Test set: Average loss: 1.5477, Accuracy: 4374/10000 (43.740%)\n",
      "\n",
      "Train Epoch: 8 [0/50000 (0%)]\tLoss: 1.826681\n",
      "Train Epoch: 8 [12800/50000 (26%)]\tLoss: 1.652744\n",
      "Train Epoch: 8 [25600/50000 (51%)]\tLoss: 1.776689\n",
      "Train Epoch: 8 [38400/50000 (77%)]\tLoss: 1.828149\n",
      "\n",
      "Train set: Average loss: 1.6404, Accuracy: 17999/50000 (36.0%)\n",
      "\n",
      "\n",
      "Test set: Average loss: 1.4987, Accuracy: 4562/10000 (45.620%)\n",
      "\n",
      "Train Epoch: 9 [0/50000 (0%)]\tLoss: 1.683588\n",
      "Train Epoch: 9 [12800/50000 (26%)]\tLoss: 1.665094\n",
      "Train Epoch: 9 [25600/50000 (51%)]\tLoss: 1.751154\n",
      "Train Epoch: 9 [38400/50000 (77%)]\tLoss: 1.719687\n",
      "\n",
      "Train set: Average loss: 1.6219, Accuracy: 17955/50000 (35.9%)\n",
      "\n",
      "\n",
      "Test set: Average loss: 1.4665, Accuracy: 4682/10000 (46.820%)\n",
      "\n",
      "Train Epoch: 10 [0/50000 (0%)]\tLoss: 1.715814\n",
      "Train Epoch: 10 [12800/50000 (26%)]\tLoss: 1.726513\n",
      "Train Epoch: 10 [25600/50000 (51%)]\tLoss: 1.590940\n",
      "Train Epoch: 10 [38400/50000 (77%)]\tLoss: 1.737554\n",
      "\n",
      "Train set: Average loss: 1.5899, Accuracy: 18306/50000 (36.6%)\n",
      "\n",
      "\n",
      "Test set: Average loss: 1.4998, Accuracy: 4677/10000 (46.770%)\n",
      "\n"
     ]
    }
   ],
   "source": [
    "cnn = CNN()\n",
    "optimizer = optim.SGD(cnn.parameters(), lr=0.1, momentum=0.9, weight_decay=5e-4)\n",
    "scheduler = torch.optim.lr_scheduler.CosineAnnealingLR(optimizer, T_max=200)\n",
    "\n",
    "epochs = 10\n",
    "for epoch in range(1, epochs + 1):\n",
    "    train(cnn, dl_train, optimizer, epoch, log_interval=100)\n",
    "    test(cnn, dl_test)    \n",
    "    scheduler.step()"
   ]
  },
  {
   "cell_type": "markdown",
   "metadata": {},
   "source": [
    "This should give 40 - 50 % - and if you are not already on Colab it will give you a stressed out laptop. The performance is a lot better than random, but we can definitely do better."
   ]
  },
  {
   "cell_type": "markdown",
   "metadata": {},
   "source": [
    "### Have fun with GPUs\n",
    "You can already call it a day until this point because we won't grade the rest of the excecise. You can have more fun with the rest :)\n"
   ]
  },
  {
   "cell_type": "markdown",
   "metadata": {},
   "source": [
    "\n",
    "If you didn't already, move to colab. To use a GPU, follow on the collaboratory menu tabs, \"Runtime\" => \"Change runtime type\" and set it to GPU. Then run the same training loop but now on GPU. \n",
    "\n",
    "It as easy as:"
   ]
  },
  {
   "cell_type": "code",
   "execution_count": null,
   "metadata": {},
   "outputs": [],
   "source": [
    "device = 'cuda'\n",
    "if device == 'cuda': torch.backends.cudnn.benchmark = True # additional speed up\n",
    "\n",
    "cnn = CNN()\n",
    "optimizer = optim.SGD(cnn.parameters(), lr=0.1, momentum=0.9, weight_decay=5e-4)\n",
    "scheduler = torch.optim.lr_scheduler.CosineAnnealingLR(optimizer, T_max=200)\n",
    "cnn = cnn.to(device)\n",
    "\n",
    "epochs = 10\n",
    "for epoch in range(1, epochs + 1):\n",
    "    train(cnn, dl_train, optimizer, epoch, log_interval=100, device=device)\n",
    "    test(cnn, dl_test, device=device)    \n",
    "    scheduler.step()"
   ]
  },
  {
   "cell_type": "markdown",
   "metadata": {},
   "source": [
    "This should be way faster now. But the true advantage of the GPU is that we can use much bigger models now and still train them in a reasonable amount of time. PyTorch is again very handy. The torchvision library comes with varies state-of-the-art model architectures, some of which you have seen in the lecture."
   ]
  },
  {
   "cell_type": "code",
   "execution_count": null,
   "metadata": {},
   "outputs": [],
   "source": [
    "from torchvision.models import resnet18"
   ]
  },
  {
   "cell_type": "code",
   "execution_count": null,
   "metadata": {
    "scrolled": true
   },
   "outputs": [],
   "source": [
    "cnn = resnet18()\n",
    "print(cnn)"
   ]
  },
  {
   "cell_type": "markdown",
   "metadata": {},
   "source": [
    "Looks scary! But the only thing you need to change to make it work on CIFAR is the last layer.\n",
    "Currently the last layer is:\n",
    "```\n",
    "  (fc): Linear(in_features=512, out_features=1000, bias=True)\n",
    "```\n",
    "out_features is the number of classes. This models are developed for Imagenet, a dataset with 1000 classes. So this part of the model you need to adapt. Additionally, you need to add a log-softmax layer again, as we us negative log-likelihood as the training criterion. "
   ]
  },
  {
   "cell_type": "code",
   "execution_count": null,
   "metadata": {},
   "outputs": [],
   "source": [
    "#########################################################################\n",
    "# TODO: Adapt the Resnet to work on CIFAR\n",
    "#########################################################################\n"
   ]
  },
  {
   "cell_type": "code",
   "execution_count": null,
   "metadata": {},
   "outputs": [],
   "source": [
    "# This should print 'torch.Size([16, 10])'\n",
    "cnn(torch.randn(16,3,32,32)).shape"
   ]
  },
  {
   "cell_type": "code",
   "execution_count": null,
   "metadata": {},
   "outputs": [],
   "source": [
    "device = 'cuda'\n",
    "if device == 'cuda': torch.backends.cudnn.benchmark = True # this gives us additional speed up\n",
    "\n",
    "optimizer = optim.SGD(cnn.parameters(), lr=0.1, momentum=0.9, weight_decay=5e-4)\n",
    "scheduler = torch.optim.lr_scheduler.CosineAnnealingLR(optimizer, T_max=200)\n",
    "cnn = cnn.to(device)\n",
    "\n",
    "epochs = 50\n",
    "for epoch in range(1, epochs + 1):\n",
    "    train(cnn, dl_train, optimizer, epoch, log_interval=100, device=device)\n",
    "    test(cnn, dl_test, device=device)    \n",
    "    scheduler.step()"
   ]
  },
  {
   "cell_type": "markdown",
   "metadata": {},
   "source": [
    "This should get us well above 75%, the best we got was ~ 80%.\n",
    "\n",
    "Now, use different torchvision architectures, different optimizers (Adam is always a good choice), data augmentation techniques, and hyperparameter search to achieve a test accuracy of >90 %"
   ]
  },
  {
   "cell_type": "code",
   "execution_count": null,
   "metadata": {},
   "outputs": [],
   "source": []
  }
 ],
 "metadata": {
  "kernelspec": {
   "display_name": "dl4cv",
   "language": "python",
   "name": "python3"
  },
  "language_info": {
   "codemirror_mode": {
    "name": "ipython",
    "version": 3
   },
   "file_extension": ".py",
   "mimetype": "text/x-python",
   "name": "python",
   "nbconvert_exporter": "python",
   "pygments_lexer": "ipython3",
   "version": "3.9.20"
  }
 },
 "nbformat": 4,
 "nbformat_minor": 4
}
