{
 "cells": [
  {
   "cell_type": "markdown",
   "metadata": {},
   "source": [
    "# Point Cloud Binary Classification with PyTorch"
   ]
  },
  {
   "cell_type": "markdown",
   "metadata": {},
   "source": [
    "Make sure you are using the `dl4cv` conda environment."
   ]
  },
  {
   "cell_type": "markdown",
   "metadata": {},
   "source": [
    "## Dataset loading and visualization"
   ]
  },
  {
   "cell_type": "markdown",
   "metadata": {},
   "source": [
    "The input X contain 100 2D points, and y are their corresponding labels (0 or 1). The goal is to train a model that can classify every point to its correct label.\n"
   ]
  },
  {
   "cell_type": "code",
   "execution_count": 102,
   "metadata": {},
   "outputs": [
    {
     "data": {
      "image/png": "[encoded data removed]",
      "text/plain": [
       "<Figure size 640x480 with 1 Axes>"
      ]
     },
     "metadata": {},
     "output_type": "display_data"
    },
    {
     "data": {
      "text/plain": [
       "<Figure size 640x480 with 0 Axes>"
      ]
     },
     "metadata": {},
     "output_type": "display_data"
    }
   ],
   "source": [
    "%matplotlib inline\n",
    "import matplotlib.pyplot as plt\n",
    "import numpy as np\n",
    "import torch\n",
    "import torch.nn as nn\n",
    "import torch.nn.functional as F\n",
    "import torch.optim as optim\n",
    "from torch.utils.data import Dataset\n",
    "from torch.utils.data import DataLoader\n",
    "from torch.optim import Adam\n",
    "\n",
    "dataset = np.load('data/2d_pcl_dataset.npz')\n",
    "X, y = dataset['X'], dataset['y']\n",
    "\n",
    "X0 = X[y==0] # 50 2D points have label 0\n",
    "X1 = X[y==1] # 50 2D points have label 1\n",
    "\n",
    "def plot(X0, X1, fit_param=None):\n",
    "    plt.scatter(X0[:,0], X0[:,1], color='red', label=0)\n",
    "    plt.scatter(X1[:,0], X1[:,1], color='blue', label=1)\n",
    "    \n",
    "    plt.xlim([-0.55, 0.55])\n",
    "    plt.ylim([-0.35, 0.25])\n",
    "    plt.legend()\n",
    "    plt.show()\n",
    "    plt.clf()\n",
    "\n",
    "plot(X0, X1)"
   ]
  },
  {
   "cell_type": "markdown",
   "metadata": {},
   "source": [
    "## Logistic Regression for the point cloud classification task\n"
   ]
  },
  {
   "cell_type": "markdown",
   "metadata": {},
   "source": [
    "Starting by filling in the `Simple2DDataset` class below. First, in the class constructore `__init__`, you will need to read the right `2d_pcl_dataset.npz` from disk.\n",
    "\n",
    "Second, in the `__getitem__`, you will need to take a single data point and its label based on its index `idx`"
   ]
  },
  {
   "cell_type": "code",
   "execution_count": 103,
   "metadata": {},
   "outputs": [],
   "source": [
    "class Simple2DDataset(Dataset):\n",
    "    def __init__(self):\n",
    "        super().__init__()\n",
    "        #########################################################################\n",
    "        # TODO: read data from disk using np.load.\n",
    "        # Data is located in the folder \"data\".\n",
    "        # Save samples and labels to class members self.X and self.y respectively.\n",
    "        # samples should be an Nx2 numpy array. Labels should be Nx1.\n",
    "        #########################################################################\n",
    "        data = np.load('data/2d_pcl_dataset.npz')\n",
    "        self.X = data['X']\n",
    "        self.y = data['y']\n",
    "     \n",
    "    def __len__(self):\n",
    "        # Returns the number of samples in the dataset.\n",
    "        return self.X.shape[0]\n",
    "    \n",
    "    def __getitem__(self, idx):\n",
    "        #########################################################################\n",
    "        # TODO: return the sample and label with index idx\n",
    "        #########################################################################\n",
    "        point = self.X[idx]\n",
    "        label = self.y[idx]\n",
    "        \n",
    "        # Convert to tensor.\n",
    "        return torch.from_numpy(point).float(), \\\n",
    "               torch.from_numpy(label[np.newaxis]).float()\n"
   ]
  },
  {
   "cell_type": "markdown",
   "metadata": {},
   "source": [
    "With the complete `Simple2DDataset`, we can create a PyTorch dataloader\n",
    "\n",
    "**NOTE**: if you encounter some unexpected errors in data loading, try setting `NUM_WORKERS = 0`"
   ]
  },
  {
   "cell_type": "code",
   "execution_count": 104,
   "metadata": {},
   "outputs": [],
   "source": [
    "BATCH_SIZE = 8\n",
    "NUM_WORKERS = 0\n",
    "# create the dataloader\n",
    "dataset = Simple2DDataset()\n",
    "train_dataloader = DataLoader(\n",
    "    dataset,\n",
    "    batch_size=BATCH_SIZE,\n",
    "    num_workers=NUM_WORKERS,\n",
    "    shuffle=True\n",
    ")"
   ]
  },
  {
   "cell_type": "markdown",
   "metadata": {},
   "source": [
    "Now, define your first network by filling in the `LinearClassifier` class below.\n",
    "\n",
    "Add a single linear layer `nn.Linear` inside the `nn.Sequential` call. The input is 2D, and the output should be a single value, corresponding to the probability of a given 2D point being part of cluster 0."
   ]
  },
  {
   "cell_type": "code",
   "execution_count": 105,
   "metadata": {},
   "outputs": [],
   "source": [
    "class LinearClassifier(nn.Module):\n",
    "    def __init__(self):\n",
    "        super().__init__()\n",
    "\n",
    "        self.codename = 'linear'\n",
    "\n",
    "        #########################################################################\n",
    "        # TODO: add a single linear layer with nn.Linear, inside the `nn.Sequential` call.\n",
    "        # Input is 2D.\n",
    "        # Output is a single value.\n",
    "        #########################################################################\n",
    "        self.model = nn.Sequential(\n",
    "            nn.Linear(2, 1)\n",
    "        )\n",
    "        \n",
    "        \n",
    "    def forward(self, batch):\n",
    "        # Process batch using the defined model.\n",
    "        x = self.model(batch)\n",
    "        # Final sigmoid activation to obtain a probability between 0 and 1.\n",
    "        return torch.sigmoid(x)"
   ]
  },
  {
   "cell_type": "markdown",
   "metadata": {},
   "source": [
    "Now, you are asked to implement the training loop below"
   ]
  },
  {
   "cell_type": "code",
   "execution_count": 106,
   "metadata": {},
   "outputs": [],
   "source": [
    "def train(net, optimizer, dataloader, epoch):\n",
    "    net.train()\n",
    "    loss_sum = 0\n",
    "    for batch_idx, (point, label) in enumerate(dataloader):\n",
    "        # First we need to zero the gradient, otherwise PyTorch would accumulate them\n",
    "        optimizer.zero_grad()\n",
    "\n",
    "        #########################################################################\n",
    "        #TODO: \n",
    "        # 1. forward pass of the network to obtain the predictions given the batch\n",
    "        # 2. compute the loss using F.binary_cross_entropy\n",
    "        # 3. backward pass on the loss using loss.backward(), and one step \n",
    "        # of gradient descent (optimization) using optimizer.step()\n",
    "        #########################################################################\n",
    "        predictions = net(point)\n",
    "        loss = F.binary_cross_entropy(predictions, label)\n",
    "        loss.backward()\n",
    "        optimizer.step()\n",
    "        #loss = torch.zeros((1,))[0]\n",
    "        loss_sum += loss.item()\n",
    "    return loss_sum\n",
    "        "
   ]
  },
  {
   "cell_type": "markdown",
   "metadata": {},
   "source": [
    "You can now run below to train the linear model."
   ]
  },
  {
   "cell_type": "code",
   "execution_count": 107,
   "metadata": {
    "scrolled": true,
    "tags": []
   },
   "outputs": [
    {
     "name": "stdout",
     "output_type": "stream",
     "text": [
      "[Epoch 01] Loss: 8.7440\n",
      "[Epoch 02] Loss: 6.7793\n",
      "[Epoch 03] Loss: 5.7223\n",
      "[Epoch 04] Loss: 5.2815\n",
      "[Epoch 05] Loss: 4.6757\n",
      "[Epoch 06] Loss: 4.4919\n",
      "[Epoch 07] Loss: 4.2284\n",
      "[Epoch 08] Loss: 4.1275\n",
      "[Epoch 09] Loss: 4.0687\n",
      "[Epoch 10] Loss: 3.9850\n",
      "[Epoch 11] Loss: 3.9997\n",
      "[Epoch 12] Loss: 3.9418\n",
      "[Epoch 13] Loss: 3.8632\n",
      "[Epoch 14] Loss: 3.9177\n",
      "[Epoch 15] Loss: 3.6995\n",
      "[Epoch 16] Loss: 3.6917\n",
      "[Epoch 17] Loss: 3.6216\n",
      "[Epoch 18] Loss: 3.7082\n",
      "[Epoch 19] Loss: 3.8920\n",
      "[Epoch 20] Loss: 3.7015\n",
      "[Epoch 21] Loss: 3.7968\n",
      "[Epoch 22] Loss: 3.5292\n",
      "[Epoch 23] Loss: 3.6883\n",
      "[Epoch 24] Loss: 3.5291\n",
      "[Epoch 25] Loss: 3.7322\n",
      "[Epoch 26] Loss: 3.5234\n",
      "[Epoch 27] Loss: 3.4989\n",
      "[Epoch 28] Loss: 3.4949\n",
      "[Epoch 29] Loss: 3.4683\n",
      "[Epoch 30] Loss: 3.6738\n",
      "[Epoch 31] Loss: 3.5538\n",
      "[Epoch 32] Loss: 3.5649\n",
      "[Epoch 33] Loss: 3.5768\n",
      "[Epoch 34] Loss: 3.5215\n",
      "[Epoch 35] Loss: 3.4962\n",
      "[Epoch 36] Loss: 3.5953\n",
      "[Epoch 37] Loss: 3.4546\n",
      "[Epoch 38] Loss: 3.4477\n",
      "[Epoch 39] Loss: 3.4623\n",
      "[Epoch 40] Loss: 3.6897\n",
      "[Epoch 41] Loss: 3.4468\n",
      "[Epoch 42] Loss: 3.4786\n",
      "[Epoch 43] Loss: 3.7339\n",
      "[Epoch 44] Loss: 3.7446\n",
      "[Epoch 45] Loss: 3.7210\n",
      "[Epoch 46] Loss: 3.5603\n",
      "[Epoch 47] Loss: 3.6584\n",
      "[Epoch 48] Loss: 3.6371\n",
      "[Epoch 49] Loss: 3.5549\n",
      "[Epoch 50] Loss: 3.6915\n",
      "[Epoch 51] Loss: 3.4576\n",
      "[Epoch 52] Loss: 3.5390\n",
      "[Epoch 53] Loss: 3.9265\n",
      "[Epoch 54] Loss: 3.4994\n",
      "[Epoch 55] Loss: 3.7192\n",
      "[Epoch 56] Loss: 3.4626\n",
      "[Epoch 57] Loss: 3.7095\n",
      "[Epoch 58] Loss: 3.6390\n",
      "[Epoch 59] Loss: 3.5206\n",
      "[Epoch 60] Loss: 3.4818\n",
      "[Epoch 61] Loss: 3.5156\n",
      "[Epoch 62] Loss: 3.6843\n",
      "[Epoch 63] Loss: 3.4452\n",
      "[Epoch 64] Loss: 3.4263\n",
      "[Epoch 65] Loss: 3.4921\n",
      "[Epoch 66] Loss: 3.5361\n",
      "[Epoch 67] Loss: 3.5001\n",
      "[Epoch 68] Loss: 3.5499\n",
      "[Epoch 69] Loss: 3.6569\n",
      "[Epoch 70] Loss: 3.4634\n",
      "[Epoch 71] Loss: 3.5367\n",
      "[Epoch 72] Loss: 3.4401\n",
      "[Epoch 73] Loss: 3.6062\n",
      "[Epoch 74] Loss: 3.6682\n",
      "[Epoch 75] Loss: 3.6069\n",
      "[Epoch 76] Loss: 3.4702\n",
      "[Epoch 77] Loss: 3.9235\n",
      "[Epoch 78] Loss: 3.4638\n",
      "[Epoch 79] Loss: 3.5524\n",
      "[Epoch 80] Loss: 3.4306\n",
      "[Epoch 81] Loss: 3.4939\n",
      "[Epoch 82] Loss: 3.4679\n",
      "[Epoch 83] Loss: 3.4889\n",
      "[Epoch 84] Loss: 3.4675\n",
      "[Epoch 85] Loss: 3.7975\n",
      "[Epoch 86] Loss: 3.6100\n",
      "[Epoch 87] Loss: 3.4644\n",
      "[Epoch 88] Loss: 3.6790\n",
      "[Epoch 89] Loss: 3.4769\n",
      "[Epoch 90] Loss: 3.4739\n",
      "[Epoch 91] Loss: 3.4436\n",
      "[Epoch 92] Loss: 3.4517\n",
      "[Epoch 93] Loss: 3.4929\n",
      "[Epoch 94] Loss: 3.5906\n",
      "[Epoch 95] Loss: 3.5614\n",
      "[Epoch 96] Loss: 3.5712\n",
      "[Epoch 97] Loss: 3.6133\n",
      "[Epoch 98] Loss: 3.4620\n",
      "[Epoch 99] Loss: 3.4643\n",
      "[Epoch 100] Loss: 3.5712\n"
     ]
    }
   ],
   "source": [
    "NUM_EPOCHS = 100\n",
    "# create the network.\n",
    "net = LinearClassifier()\n",
    "\n",
    "# create the optimizer.\n",
    "optimizer = Adam(net.parameters(), lr=0.1)\n",
    "\n",
    "best_accuracy = 0\n",
    "for epoch_idx in range(NUM_EPOCHS):\n",
    "    loss = train(net, optimizer, train_dataloader, epoch_idx)\n",
    "    print('[Epoch %02d] Loss: %.4f' % (epoch_idx + 1, loss))"
   ]
  },
  {
   "cell_type": "markdown",
   "metadata": {},
   "source": [
    "Now plot your result below.\n"
   ]
  },
  {
   "cell_type": "code",
   "execution_count": null,
   "metadata": {},
   "outputs": [],
   "source": []
  },
  {
   "cell_type": "code",
   "execution_count": 108,
   "metadata": {},
   "outputs": [
    {
     "data": {
      "image/png": "[encoded data removed]",
      "text/plain": [
       "<Figure size 640x480 with 1 Axes>"
      ]
     },
     "metadata": {},
     "output_type": "display_data"
    },
    {
     "data": {
      "text/plain": [
       "<Figure size 640x480 with 0 Axes>"
      ]
     },
     "metadata": {},
     "output_type": "display_data"
    }
   ],
   "source": [
    "p = np.linspace(-0.5, 0.5, 500)\n",
    "x_plot, y_plot = np.meshgrid(p, p)\n",
    "X_plot = np.stack((x_plot, y_plot), axis=2).reshape(-1, 2)\n",
    "X_plot = torch.from_numpy(X_plot).float()\n",
    "output = net(X_plot)\n",
    "output = output.detach().numpy()\n",
    "output = output.reshape(x_plot.shape[0], x_plot.shape[1])\n",
    "\n",
    "plt.contour(x_plot, y_plot, output, [0.5],\n",
    "                  colors=('k',),\n",
    "                  linewidths=(3,))\n",
    "plot(X0, X1)\n"
   ]
  },
  {
   "cell_type": "markdown",
   "metadata": {},
   "source": [
    "### Implement your first multi-layer perceptron (MLP) for point cloud classification\n",
    "Now you should notice that your logistic regression model cannot classify the point cloud correctly, and this is as expected :)  \n",
    "Therefore, we now ask you to implement an MLP for the same binary classification task."
   ]
  },
  {
   "cell_type": "code",
   "execution_count": 110,
   "metadata": {},
   "outputs": [],
   "source": [
    "# These are the parameters to be used\n",
    "nInput = 2\n",
    "nOutput = 1\n",
    "nHidden = 16\n",
    "act_fn = nn.ReLU()\n",
    "\n",
    "class MLP(nn.Module):\n",
    "    def __init__(self, nInput, nOutput, nHidden, act_fn):\n",
    "        super().__init__()\n",
    "\n",
    "        # Define the network layers in order.\n",
    "        # Input is 2D (nInput).\n",
    "        # Output is a single value (nOutput).\n",
    "        # Multiple linear layers each followed by a ReLU non-linearity (apart from the last).\n",
    "        #########################################################################\n",
    "        # TODO: add a two-layer MLP, inside the `nn.Sequential` call.\n",
    "        # Input is 2D.\n",
    "        # Output is a single value.\n",
    "\n",
    "        # Hint: unlike logistic regression where you need only one nn.Linear layer, \n",
    "        # here you will have two nn.Linear layers. After the first layer, we \n",
    "        # apply a ReLU activation function. The output is then passed to another \n",
    "        # linear layer. Note that you should use `nHidden` below as the hidden dimension \n",
    "        # of your linear layers.\n",
    "        #########################################################################\n",
    "        self.model = nn.Sequential(\n",
    "            nn.Linear(nInput, nHidden),\n",
    "            nn.ReLU(),\n",
    "            nn.Linear(nHidden, nOutput)\n",
    "        )\n",
    "        \n",
    "    def forward(self, batch):\n",
    "        # Process batch using the defined model.\n",
    "        x = self.model(batch)\n",
    "        # Final sigmoid activation to obtain a probability.\n",
    "        return torch.sigmoid(x)\n"
   ]
  },
  {
   "cell_type": "markdown",
   "metadata": {},
   "source": [
    "Run below again!"
   ]
  },
  {
   "cell_type": "code",
   "execution_count": 111,
   "metadata": {},
   "outputs": [
    {
     "name": "stdout",
     "output_type": "stream",
     "text": [
      "[Epoch 01] Loss: 7.3303\n",
      "[Epoch 02] Loss: 4.8346\n",
      "[Epoch 03] Loss: 4.7088\n",
      "[Epoch 04] Loss: 3.6588\n",
      "[Epoch 05] Loss: 3.7502\n",
      "[Epoch 06] Loss: 3.5434\n",
      "[Epoch 07] Loss: 4.0458\n",
      "[Epoch 08] Loss: 3.3048\n",
      "[Epoch 09] Loss: 3.4113\n",
      "[Epoch 10] Loss: 3.1631\n",
      "[Epoch 11] Loss: 3.2942\n",
      "[Epoch 12] Loss: 3.2734\n",
      "[Epoch 13] Loss: 3.4083\n",
      "[Epoch 14] Loss: 3.1288\n",
      "[Epoch 15] Loss: 3.2510\n",
      "[Epoch 16] Loss: 3.2651\n",
      "[Epoch 17] Loss: 2.9409\n",
      "[Epoch 18] Loss: 2.9648\n",
      "[Epoch 19] Loss: 3.0404\n",
      "[Epoch 20] Loss: 3.3487\n",
      "[Epoch 21] Loss: 2.6723\n",
      "[Epoch 22] Loss: 2.9306\n",
      "[Epoch 23] Loss: 2.5854\n",
      "[Epoch 24] Loss: 2.8123\n",
      "[Epoch 25] Loss: 1.9918\n",
      "[Epoch 26] Loss: 1.9314\n",
      "[Epoch 27] Loss: 1.6662\n",
      "[Epoch 28] Loss: 1.3193\n",
      "[Epoch 29] Loss: 1.1793\n",
      "[Epoch 30] Loss: 1.0675\n",
      "[Epoch 31] Loss: 0.9135\n",
      "[Epoch 32] Loss: 0.8460\n",
      "[Epoch 33] Loss: 0.8608\n",
      "[Epoch 34] Loss: 0.8657\n",
      "[Epoch 35] Loss: 1.0907\n",
      "[Epoch 36] Loss: 0.6491\n",
      "[Epoch 37] Loss: 0.4990\n",
      "[Epoch 38] Loss: 0.4177\n",
      "[Epoch 39] Loss: 0.3685\n",
      "[Epoch 40] Loss: 0.4032\n",
      "[Epoch 41] Loss: 0.3080\n",
      "[Epoch 42] Loss: 0.2817\n",
      "[Epoch 43] Loss: 0.2895\n",
      "[Epoch 44] Loss: 0.3117\n",
      "[Epoch 45] Loss: 0.2495\n",
      "[Epoch 46] Loss: 0.2245\n",
      "[Epoch 47] Loss: 0.2383\n",
      "[Epoch 48] Loss: 0.2444\n",
      "[Epoch 49] Loss: 0.2216\n",
      "[Epoch 50] Loss: 0.2011\n",
      "[Epoch 51] Loss: 0.1860\n",
      "[Epoch 52] Loss: 0.2097\n",
      "[Epoch 53] Loss: 0.1675\n",
      "[Epoch 54] Loss: 0.1898\n",
      "[Epoch 55] Loss: 0.2258\n",
      "[Epoch 56] Loss: 0.2160\n",
      "[Epoch 57] Loss: 0.1659\n",
      "[Epoch 58] Loss: 0.1361\n",
      "[Epoch 59] Loss: 0.1383\n",
      "[Epoch 60] Loss: 0.1261\n",
      "[Epoch 61] Loss: 0.1187\n",
      "[Epoch 62] Loss: 0.1233\n",
      "[Epoch 63] Loss: 0.1651\n",
      "[Epoch 64] Loss: 0.1737\n",
      "[Epoch 65] Loss: 0.1159\n",
      "[Epoch 66] Loss: 0.0946\n",
      "[Epoch 67] Loss: 0.1014\n",
      "[Epoch 68] Loss: 0.0892\n",
      "[Epoch 69] Loss: 0.0917\n",
      "[Epoch 70] Loss: 0.0954\n",
      "[Epoch 71] Loss: 0.1076\n",
      "[Epoch 72] Loss: 0.1035\n",
      "[Epoch 73] Loss: 0.0817\n",
      "[Epoch 74] Loss: 0.0873\n",
      "[Epoch 75] Loss: 0.1313\n",
      "[Epoch 76] Loss: 0.1006\n",
      "[Epoch 77] Loss: 0.0889\n",
      "[Epoch 78] Loss: 0.0712\n",
      "[Epoch 79] Loss: 0.0688\n",
      "[Epoch 80] Loss: 0.0694\n",
      "[Epoch 81] Loss: 0.1128\n",
      "[Epoch 82] Loss: 0.0433\n",
      "[Epoch 83] Loss: 0.0885\n",
      "[Epoch 84] Loss: 0.0660\n",
      "[Epoch 85] Loss: 0.0508\n",
      "[Epoch 86] Loss: 0.0646\n",
      "[Epoch 87] Loss: 0.0563\n",
      "[Epoch 88] Loss: 0.0488\n",
      "[Epoch 89] Loss: 0.0490\n",
      "[Epoch 90] Loss: 0.0560\n",
      "[Epoch 91] Loss: 0.0513\n",
      "[Epoch 92] Loss: 0.0436\n",
      "[Epoch 93] Loss: 0.0437\n",
      "[Epoch 94] Loss: 0.0420\n",
      "[Epoch 95] Loss: 0.0418\n",
      "[Epoch 96] Loss: 0.0407\n",
      "[Epoch 97] Loss: 0.0484\n",
      "[Epoch 98] Loss: 0.0563\n",
      "[Epoch 99] Loss: 0.0419\n",
      "[Epoch 100] Loss: 0.0465\n",
      "[Epoch 101] Loss: 0.0387\n",
      "[Epoch 102] Loss: 0.0336\n",
      "[Epoch 103] Loss: 0.0376\n",
      "[Epoch 104] Loss: 0.0466\n",
      "[Epoch 105] Loss: 0.0342\n",
      "[Epoch 106] Loss: 0.0338\n",
      "[Epoch 107] Loss: 0.0343\n",
      "[Epoch 108] Loss: 0.0314\n",
      "[Epoch 109] Loss: 0.0279\n",
      "[Epoch 110] Loss: 0.0312\n",
      "[Epoch 111] Loss: 0.0291\n",
      "[Epoch 112] Loss: 0.0308\n",
      "[Epoch 113] Loss: 0.0255\n",
      "[Epoch 114] Loss: 0.0312\n",
      "[Epoch 115] Loss: 0.0252\n",
      "[Epoch 116] Loss: 0.0294\n",
      "[Epoch 117] Loss: 0.0357\n",
      "[Epoch 118] Loss: 0.0236\n",
      "[Epoch 119] Loss: 0.0267\n",
      "[Epoch 120] Loss: 0.0268\n",
      "[Epoch 121] Loss: 0.0241\n",
      "[Epoch 122] Loss: 0.0238\n",
      "[Epoch 123] Loss: 0.0218\n",
      "[Epoch 124] Loss: 0.0259\n",
      "[Epoch 125] Loss: 0.0486\n",
      "[Epoch 126] Loss: 0.0388\n",
      "[Epoch 127] Loss: 0.0211\n",
      "[Epoch 128] Loss: 0.0304\n",
      "[Epoch 129] Loss: 0.0246\n",
      "[Epoch 130] Loss: 0.0231\n",
      "[Epoch 131] Loss: 0.0214\n",
      "[Epoch 132] Loss: 0.0195\n",
      "[Epoch 133] Loss: 0.0186\n",
      "[Epoch 134] Loss: 0.0192\n",
      "[Epoch 135] Loss: 0.0190\n",
      "[Epoch 136] Loss: 0.0173\n",
      "[Epoch 137] Loss: 0.0184\n",
      "[Epoch 138] Loss: 0.0180\n",
      "[Epoch 139] Loss: 0.0276\n",
      "[Epoch 140] Loss: 0.0182\n",
      "[Epoch 141] Loss: 0.0166\n",
      "[Epoch 142] Loss: 0.0191\n",
      "[Epoch 143] Loss: 0.0177\n",
      "[Epoch 144] Loss: 0.0160\n",
      "[Epoch 145] Loss: 0.0191\n",
      "[Epoch 146] Loss: 0.0139\n",
      "[Epoch 147] Loss: 0.0214\n",
      "[Epoch 148] Loss: 0.0136\n",
      "[Epoch 149] Loss: 0.0151\n",
      "[Epoch 150] Loss: 0.0128\n",
      "[Epoch 151] Loss: 0.0156\n",
      "[Epoch 152] Loss: 0.0134\n",
      "[Epoch 153] Loss: 0.0124\n",
      "[Epoch 154] Loss: 0.0127\n",
      "[Epoch 155] Loss: 0.0150\n",
      "[Epoch 156] Loss: 0.0143\n",
      "[Epoch 157] Loss: 0.0119\n",
      "[Epoch 158] Loss: 0.0116\n",
      "[Epoch 159] Loss: 0.0130\n",
      "[Epoch 160] Loss: 0.0112\n",
      "[Epoch 161] Loss: 0.0118\n",
      "[Epoch 162] Loss: 0.0116\n",
      "[Epoch 163] Loss: 0.0111\n",
      "[Epoch 164] Loss: 0.0111\n",
      "[Epoch 165] Loss: 0.0118\n",
      "[Epoch 166] Loss: 0.0122\n",
      "[Epoch 167] Loss: 0.0106\n",
      "[Epoch 168] Loss: 0.0106\n",
      "[Epoch 169] Loss: 0.0100\n",
      "[Epoch 170] Loss: 0.0106\n",
      "[Epoch 171] Loss: 0.0107\n",
      "[Epoch 172] Loss: 0.0128\n",
      "[Epoch 173] Loss: 0.0127\n",
      "[Epoch 174] Loss: 0.0090\n",
      "[Epoch 175] Loss: 0.0107\n",
      "[Epoch 176] Loss: 0.0098\n",
      "[Epoch 177] Loss: 0.0090\n",
      "[Epoch 178] Loss: 0.0088\n",
      "[Epoch 179] Loss: 0.0088\n",
      "[Epoch 180] Loss: 0.0085\n",
      "[Epoch 181] Loss: 0.0085\n",
      "[Epoch 182] Loss: 0.0086\n",
      "[Epoch 183] Loss: 0.0083\n",
      "[Epoch 184] Loss: 0.0080\n",
      "[Epoch 185] Loss: 0.0083\n",
      "[Epoch 186] Loss: 0.0116\n",
      "[Epoch 187] Loss: 0.0088\n",
      "[Epoch 188] Loss: 0.0083\n",
      "[Epoch 189] Loss: 0.0078\n",
      "[Epoch 190] Loss: 0.0115\n",
      "[Epoch 191] Loss: 0.0090\n",
      "[Epoch 192] Loss: 0.0074\n",
      "[Epoch 193] Loss: 0.0079\n",
      "[Epoch 194] Loss: 0.0074\n",
      "[Epoch 195] Loss: 0.0071\n",
      "[Epoch 196] Loss: 0.0073\n",
      "[Epoch 197] Loss: 0.0066\n",
      "[Epoch 198] Loss: 0.0072\n",
      "[Epoch 199] Loss: 0.0080\n",
      "[Epoch 200] Loss: 0.0071\n"
     ]
    }
   ],
   "source": [
    "NUM_EPOCHS = 200\n",
    "\n",
    "# create the network.\n",
    "net = MLP(nInput, nOutput, nHidden, act_fn)\n",
    "\n",
    "# create the optimizer.\n",
    "optimizer = Adam(net.parameters(), lr=0.1)\n",
    "\n",
    "best_accuracy = 0\n",
    "for epoch_idx in range(NUM_EPOCHS):\n",
    "    loss = train(net, optimizer, train_dataloader, epoch_idx)\n",
    "    print('[Epoch %02d] Loss: %.4f' % (epoch_idx + 1, loss))"
   ]
  },
  {
   "cell_type": "markdown",
   "metadata": {},
   "source": [
    "Again plot your result. You should see that the decision boundary can clearly separate the point clouds.\n"
   ]
  },
  {
   "cell_type": "code",
   "execution_count": 112,
   "metadata": {},
   "outputs": [
    {
     "data": {
      "image/png": "[encoded data removed]",
      "text/plain": [
       "<Figure size 640x480 with 1 Axes>"
      ]
     },
     "metadata": {},
     "output_type": "display_data"
    },
    {
     "data": {
      "text/plain": [
       "<Figure size 640x480 with 0 Axes>"
      ]
     },
     "metadata": {},
     "output_type": "display_data"
    }
   ],
   "source": [
    "p = np.linspace(-0.5, 0.5, 500)\n",
    "x_plot, y_plot = np.meshgrid(p, p)\n",
    "X_plot = np.stack((x_plot, y_plot), axis=2).reshape(-1, 2)\n",
    "X_plot = torch.from_numpy(X_plot).float()\n",
    "output = net(X_plot)\n",
    "output = output.detach().numpy()\n",
    "output = output.reshape(x_plot.shape[0], x_plot.shape[1])\n",
    "\n",
    "plt.contour(x_plot, y_plot, output, [0.5],\n",
    "                  colors=('k',),\n",
    "                  linewidths=(3,))\n",
    "plot(X0, X1)"
   ]
  },
  {
   "cell_type": "markdown",
   "metadata": {},
   "source": [
    "When you are done, move forward to `image_classification.ipynb`."
   ]
  },
  {
   "cell_type": "markdown",
   "metadata": {},
   "source": []
  }
 ],
 "metadata": {
  "kernelspec": {
   "display_name": "dl4cv",
   "language": "python",
   "name": "python3"
  },
  "language_info": {
   "codemirror_mode": {
    "name": "ipython",
    "version": 3
   },
   "file_extension": ".py",
   "mimetype": "text/x-python",
   "name": "python",
   "nbconvert_exporter": "python",
   "pygments_lexer": "ipython3",
   "version": "3.9.20"
  }
 },
 "nbformat": 4,
 "nbformat_minor": 4
}
