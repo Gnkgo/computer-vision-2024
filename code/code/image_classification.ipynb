{
 "cells": [
  {
   "cell_type": "markdown",
   "metadata": {},
   "source": [
    "# Image Classification with PyTorch"
   ]
  },
  {
   "cell_type": "markdown",
   "metadata": {},
   "source": [
    "## Data loading\n"
   ]
  },
  {
   "cell_type": "code",
   "execution_count": 20,
   "metadata": {},
   "outputs": [],
   "source": [
    "import numpy as np\n",
    "import matplotlib.pyplot as plt\n",
    "\n",
    "import torch\n",
    "import torch.nn as nn\n",
    "import torch.nn.functional as F\n",
    "import torch.optim as optim\n",
    "from torch.utils.data import DataLoader\n",
    "import torchvision\n",
    "from torchvision import datasets, transforms"
   ]
  },
  {
   "cell_type": "code",
   "execution_count": 21,
   "metadata": {},
   "outputs": [],
   "source": [
    "# torchvision contains convinience functions for popular datasets\n",
    "ds_train = datasets.MNIST('data', train=True, download=True)"
   ]
  },
  {
   "cell_type": "markdown",
   "metadata": {},
   "source": [
    "Each sample is a 28x28 image"
   ]
  },
  {
   "cell_type": "code",
   "execution_count": 22,
   "metadata": {},
   "outputs": [
    {
     "name": "stdout",
     "output_type": "stream",
     "text": [
      "(<PIL.Image.Image image mode=L size=28x28 at 0x253DEF10AC0>, 5)\n"
     ]
    },
    {
     "data": {
      "image/jpeg": "[encoded data removed]",
      "image/png": "[encoded data removed]",
      "text/plain": [
       "<PIL.Image.Image image mode=L size=120x120>"
      ]
     },
     "execution_count": 22,
     "metadata": {},
     "output_type": "execute_result"
    }
   ],
   "source": [
    "# if we index this dataset, we get a single data point: a PIL image and an Integer\n",
    "print(ds_train[0])\n",
    "ds_train[0][0].resize((120,120))"
   ]
  },
  {
   "cell_type": "markdown",
   "metadata": {},
   "source": [
    "Let's transform the data to something that our Pytorch models will understand\n",
    "for this purpose, we can supply a transform function to the datase"
   ]
  },
  {
   "cell_type": "code",
   "execution_count": 23,
   "metadata": {},
   "outputs": [],
   "source": [
    "transform = transforms.Compose([\n",
    "    transforms.ToTensor(),\n",
    "])\n",
    "ds_train = datasets.MNIST('data', train=True, download=True, transform=transform)"
   ]
  },
  {
   "cell_type": "markdown",
   "metadata": {},
   "source": [
    "The image is now a `torch.Tensor`"
   ]
  },
  {
   "cell_type": "code",
   "execution_count": 24,
   "metadata": {},
   "outputs": [
    {
     "data": {
      "text/plain": [
       "torch.Tensor"
      ]
     },
     "execution_count": 24,
     "metadata": {},
     "output_type": "execute_result"
    }
   ],
   "source": [
    "type(ds_train[0][0])"
   ]
  },
  {
   "cell_type": "markdown",
   "metadata": {},
   "source": [
    "The normalization is something you learned about in the lecture. Normalizing with $\\mu=0, \\sigma=1$ corresponds to no normalization. Let's compute the proper normalization constants!"
   ]
  },
  {
   "cell_type": "code",
   "execution_count": 25,
   "metadata": {},
   "outputs": [],
   "source": [
    "# lets get only the images \n",
    "ims_train = ds_train.data\n",
    "ims_train = ims_train.float() / 255."
   ]
  },
  {
   "cell_type": "code",
   "execution_count": 26,
   "metadata": {},
   "outputs": [
    {
     "name": "stdout",
     "output_type": "stream",
     "text": [
      "mu:  tensor(0.1307)\n",
      "std:  tensor(0.3081)\n"
     ]
    }
   ],
   "source": [
    "#########################################################################\n",
    "# TODO: calculate the mean and std of MNIST images\n",
    "# hint: to look for operations on pytorch tensor, refer to the official PyTorch docs \n",
    "# https://pytorch.org/docs/stable/\n",
    "#########################################################################\n",
    "mu = torch.mean(ims_train)\n",
    "std = torch.std(ims_train)\n",
    "\n",
    "print(\"mu: \", mu)\n",
    "print(\"std: \", std)\n",
    "\n"
   ]
  },
  {
   "cell_type": "markdown",
   "metadata": {},
   "source": [
    "We normalize the data as below."
   ]
  },
  {
   "cell_type": "code",
   "execution_count": 27,
   "metadata": {},
   "outputs": [],
   "source": [
    "transform = transforms.Compose([\n",
    "    transforms.ToTensor(),\n",
    "    transforms.Normalize(mu, std)\n",
    "])\n",
    "ds_train = datasets.MNIST('data', train=True, download=True, transform=transform)\n",
    "ds_test = datasets.MNIST('data', train=False, download=True, transform=transform)"
   ]
  },
  {
   "cell_type": "code",
   "execution_count": 28,
   "metadata": {},
   "outputs": [
    {
     "data": {
      "text/plain": [
       "(tensor(-0.4241), tensor(2.8215))"
      ]
     },
     "execution_count": 28,
     "metadata": {},
     "output_type": "execute_result"
    }
   ],
   "source": [
    "ds_train[0][0].min(), ds_train[0][0].max()"
   ]
  },
  {
   "cell_type": "markdown",
   "metadata": {},
   "source": [
    "Next, we want to receive mini-batches, not only single data points.\n",
    "We use PyTorch's DataLoader class. Build a dataloader with a batch size of 64 and 4 workers (number of subprocess that peform the dataloading). Important: you need to shuffle the training data, not the test data.\n",
    "\n",
    "**NOTE**: if you encounter some unexpected errors in data loading, try setting `NUM_WORKERS = 0`"
   ]
  },
  {
   "cell_type": "code",
   "execution_count": 29,
   "metadata": {},
   "outputs": [],
   "source": [
    "BATCH_SIZE = 64\n",
    "NUM_WORKERS = 4\n",
    "#########################################################################\n",
    "# TODO: Build a dataloader for both train and test data.\n",
    "#########################################################################\n",
    "\n",
    "dl_train = DataLoader(ds_train, batch_size=BATCH_SIZE, shuffle=True, num_workers=NUM_WORKERS)\n",
    "dl_test = DataLoader(ds_test, batch_size=BATCH_SIZE, shuffle=False, num_workers=NUM_WORKERS)\n"
   ]
  },
  {
   "cell_type": "markdown",
   "metadata": {},
   "source": [
    "## MLP in Pytorch\n",
    "\n",
    "Ok, the dataloading works. Let's build our model, PyTorch makes this very easy. We will build replicate the model from our last exercises. However, now, we add another variable called `nLayer` that indicates how many linear layers that in your network. Please adapt your code from last exercise accordingly to allow different number of layers."
   ]
  },
  {
   "cell_type": "code",
   "execution_count": 30,
   "metadata": {},
   "outputs": [],
   "source": [
    "# These are the parameters to be used\n",
    "nInput = 784\n",
    "nOutput = 10\n",
    "nLayer = 2\n",
    "nHidden = 16\n",
    "act_fn = nn.ReLU()"
   ]
  },
  {
   "cell_type": "code",
   "execution_count": 31,
   "metadata": {},
   "outputs": [],
   "source": [
    "#########################################################################\n",
    "# TODO: Implement the __init__ of the MLP class. \n",
    "# insert the activation after every linear layer. Important: the number of \n",
    "# hidden layers should be variable!\n",
    "#########################################################################\n",
    "\n",
    "class MLP(nn.Module):\n",
    "    def __init__(self, nInput, nOutput, nLayer, nHidden, act_fn):\n",
    "        super(MLP, self).__init__()\n",
    "        layers = [] \n",
    "        \n",
    "        ##### implement this part #####\n",
    "        for i in range(nLayer - 1):\n",
    "            if i == 0:\n",
    "                layers.append(nn.Linear(nInput, nHidden))\n",
    "            else:\n",
    "                layers.append(nn.Linear(nHidden, nHidden))\n",
    "            layers.append(act_fn)\n",
    "            \n",
    "        layers.append(nn.Linear(nHidden, nOutput))\n",
    "        \n",
    "        \n",
    "        ###############################\n",
    "        \n",
    "        self.model = nn.Sequential(*layers)\n",
    "\n",
    "    def forward(self, x):\n",
    "        x = torch.flatten(x, 1)\n",
    "        return self.model(x)"
   ]
  },
  {
   "cell_type": "code",
   "execution_count": 32,
   "metadata": {
    "scrolled": true
   },
   "outputs": [
    {
     "data": {
      "text/plain": [
       "torch.Size([1, 10])"
      ]
     },
     "execution_count": 32,
     "metadata": {},
     "output_type": "execute_result"
    }
   ],
   "source": [
    "# Let's test if the forward pass works\n",
    "# this should print torch.Size([1, 10])\n",
    "t = torch.randn(1,1,28,28)\n",
    "mlp = MLP(nInput, nOutput, nLayer, nHidden, act_fn)\n",
    "mlp(t).shape"
   ]
  },
  {
   "cell_type": "code",
   "execution_count": 33,
   "metadata": {},
   "outputs": [
    {
     "data": {
      "text/plain": [
       "MLP(\n",
       "  (model): Sequential(\n",
       "    (0): Linear(in_features=784, out_features=16, bias=True)\n",
       "    (1): ReLU()\n",
       "    (2): Linear(in_features=16, out_features=10, bias=True)\n",
       "  )\n",
       ")"
      ]
     },
     "execution_count": 33,
     "metadata": {},
     "output_type": "execute_result"
    }
   ],
   "source": [
    "mlp"
   ]
  },
  {
   "cell_type": "markdown",
   "metadata": {},
   "source": [
    "We already implemented the test function for you"
   ]
  },
  {
   "cell_type": "code",
   "execution_count": 34,
   "metadata": {},
   "outputs": [],
   "source": [
    "def test(model, dl_test, device='cpu'):\n",
    "    model.eval()\n",
    "    test_loss = 0\n",
    "    correct = 0\n",
    "    with torch.no_grad():\n",
    "        for data, target in dl_test:\n",
    "            data, target = data.to(device), target.to(device)\n",
    "            output = model(data)\n",
    "            test_loss += F.cross_entropy(output, target, reduction='sum').item()  # sum up batch loss\n",
    "            pred = output.argmax(dim=1, keepdim=True)  # get the index of the max log-probability\n",
    "            correct += pred.eq(target.view_as(pred)).sum().item()\n",
    "\n",
    "    test_loss /= len(dl_test.dataset)\n",
    "\n",
    "    print('\\nTest set: Average loss: {:.4f}, Accuracy: {}/{} ({:.3f}%)\\n'.format(\n",
    "        test_loss, correct, len(dl_test.dataset),\n",
    "        100. * correct / len(dl_test.dataset)))"
   ]
  },
  {
   "cell_type": "markdown",
   "metadata": {},
   "source": [
    "Now you only need to implement the training and you are good to go"
   ]
  },
  {
   "cell_type": "code",
   "execution_count": 35,
   "metadata": {},
   "outputs": [],
   "source": [
    "#########################################################################\n",
    "# TODO: Implement the missing part of the training function. As a loss function we want to use cross entropy\n",
    "# It can be called with F.cross_entropy().\n",
    "# Hint: Pass through the model -> Backpropagate gradients -> Take gradient step\n",
    "#########################################################################\n",
    "\n",
    "def train(model, dl_train, optimizer, epoch, log_interval=100, device='cpu'):\n",
    "    model.train()\n",
    "    correct = 0\n",
    "    for batch_idx, (data, target) in enumerate(dl_train):\n",
    "        data, target = data.to(device), target.to(device)\n",
    "        \n",
    "        # first we need to zero the gradient, otherwise PyTorch would accumulate them\n",
    "        optimizer.zero_grad()         \n",
    "        \n",
    "        ##### implement this part #####\n",
    "        output = model(data)\n",
    "        loss = F.cross_entropy(output, target)\n",
    "        loss.backward()\n",
    "        optimizer.step()\n",
    "        \n",
    "        \n",
    "        ###############################\n",
    "\n",
    "        # stats\n",
    "        pred = output.argmax(dim=1, keepdim=True)  # get the index of the max log-probability\n",
    "        correct += pred.eq(target.view_as(pred)).sum().item()\n",
    "\n",
    "        if batch_idx % log_interval == 0:\n",
    "            print('Train Epoch: {} [{}/{} ({:.0f}%)]\\tLoss: {:.6f}'.format(\n",
    "                epoch, batch_idx * len(data), len(dl_train.dataset),\n",
    "                100. * batch_idx / len(dl_train), loss.item()))\n",
    "\n",
    "    print('\\nTrain set: Average loss: {:.4f}, Accuracy: {}/{} ({:.1f}%)\\n'.format(\n",
    "        loss, correct, len(dl_train.dataset),\n",
    "        100. * correct / len(dl_train.dataset)))"
   ]
  },
  {
   "cell_type": "markdown",
   "metadata": {},
   "source": [
    "Ok, the setup is almost done. The only missing part is the optimizer. We are going to use Adam."
   ]
  },
  {
   "cell_type": "code",
   "execution_count": 36,
   "metadata": {},
   "outputs": [],
   "source": [
    "# reinitialize the mlp, so we can play with parameters right here\n",
    "mlp = MLP(nInput, nOutput, nLayer, nHidden, act_fn)\n",
    "optimizer = optim.Adam(mlp.parameters())"
   ]
  },
  {
   "cell_type": "code",
   "execution_count": 37,
   "metadata": {
    "scrolled": true
   },
   "outputs": [
    {
     "name": "stdout",
     "output_type": "stream",
     "text": [
      "Train Epoch: 1 [0/60000 (0%)]\tLoss: 2.323342\n",
      "Train Epoch: 1 [6400/60000 (11%)]\tLoss: 0.602609\n",
      "Train Epoch: 1 [12800/60000 (21%)]\tLoss: 0.339556\n",
      "Train Epoch: 1 [19200/60000 (32%)]\tLoss: 0.424577\n",
      "Train Epoch: 1 [25600/60000 (43%)]\tLoss: 0.175808\n",
      "Train Epoch: 1 [32000/60000 (53%)]\tLoss: 0.195692\n",
      "Train Epoch: 1 [38400/60000 (64%)]\tLoss: 0.424072\n",
      "Train Epoch: 1 [44800/60000 (75%)]\tLoss: 0.282312\n",
      "Train Epoch: 1 [51200/60000 (85%)]\tLoss: 0.187561\n",
      "Train Epoch: 1 [57600/60000 (96%)]\tLoss: 0.373456\n",
      "\n",
      "Train set: Average loss: 0.3326, Accuracy: 53077/60000 (88.5%)\n",
      "\n",
      "\n",
      "Test set: Average loss: 0.2535, Accuracy: 9256/10000 (92.560%)\n",
      "\n",
      "Train Epoch: 2 [0/60000 (0%)]\tLoss: 0.168269\n",
      "Train Epoch: 2 [6400/60000 (11%)]\tLoss: 0.334736\n",
      "Train Epoch: 2 [12800/60000 (21%)]\tLoss: 0.103894\n",
      "Train Epoch: 2 [19200/60000 (32%)]\tLoss: 0.169909\n",
      "Train Epoch: 2 [25600/60000 (43%)]\tLoss: 0.308073\n",
      "Train Epoch: 2 [32000/60000 (53%)]\tLoss: 0.286777\n",
      "Train Epoch: 2 [38400/60000 (64%)]\tLoss: 0.212530\n",
      "Train Epoch: 2 [44800/60000 (75%)]\tLoss: 0.248259\n",
      "Train Epoch: 2 [51200/60000 (85%)]\tLoss: 0.216920\n",
      "Train Epoch: 2 [57600/60000 (96%)]\tLoss: 0.125655\n",
      "\n",
      "Train set: Average loss: 0.2127, Accuracy: 55849/60000 (93.1%)\n",
      "\n",
      "\n",
      "Test set: Average loss: 0.2181, Accuracy: 9363/10000 (93.630%)\n",
      "\n",
      "Train Epoch: 3 [0/60000 (0%)]\tLoss: 0.283916\n",
      "Train Epoch: 3 [6400/60000 (11%)]\tLoss: 0.138100\n",
      "Train Epoch: 3 [12800/60000 (21%)]\tLoss: 0.220640\n",
      "Train Epoch: 3 [19200/60000 (32%)]\tLoss: 0.266118\n",
      "Train Epoch: 3 [25600/60000 (43%)]\tLoss: 0.161623\n",
      "Train Epoch: 3 [32000/60000 (53%)]\tLoss: 0.277675\n",
      "Train Epoch: 3 [38400/60000 (64%)]\tLoss: 0.185231\n",
      "Train Epoch: 3 [44800/60000 (75%)]\tLoss: 0.212596\n",
      "Train Epoch: 3 [51200/60000 (85%)]\tLoss: 0.093553\n",
      "Train Epoch: 3 [57600/60000 (96%)]\tLoss: 0.084795\n",
      "\n",
      "Train set: Average loss: 0.1165, Accuracy: 56490/60000 (94.2%)\n",
      "\n",
      "\n",
      "Test set: Average loss: 0.1920, Accuracy: 9420/10000 (94.200%)\n",
      "\n",
      "Train Epoch: 4 [0/60000 (0%)]\tLoss: 0.161166\n",
      "Train Epoch: 4 [6400/60000 (11%)]\tLoss: 0.097714\n",
      "Train Epoch: 4 [12800/60000 (21%)]\tLoss: 0.135161\n",
      "Train Epoch: 4 [19200/60000 (32%)]\tLoss: 0.150708\n",
      "Train Epoch: 4 [25600/60000 (43%)]\tLoss: 0.211789\n",
      "Train Epoch: 4 [32000/60000 (53%)]\tLoss: 0.130169\n",
      "Train Epoch: 4 [38400/60000 (64%)]\tLoss: 0.165898\n",
      "Train Epoch: 4 [44800/60000 (75%)]\tLoss: 0.133346\n",
      "Train Epoch: 4 [51200/60000 (85%)]\tLoss: 0.067954\n",
      "Train Epoch: 4 [57600/60000 (96%)]\tLoss: 0.223762\n",
      "\n",
      "Train set: Average loss: 0.1580, Accuracy: 56792/60000 (94.7%)\n",
      "\n",
      "\n",
      "Test set: Average loss: 0.1872, Accuracy: 9434/10000 (94.340%)\n",
      "\n",
      "Train Epoch: 5 [0/60000 (0%)]\tLoss: 0.108051\n",
      "Train Epoch: 5 [6400/60000 (11%)]\tLoss: 0.100061\n",
      "Train Epoch: 5 [12800/60000 (21%)]\tLoss: 0.097239\n",
      "Train Epoch: 5 [19200/60000 (32%)]\tLoss: 0.103143\n",
      "Train Epoch: 5 [25600/60000 (43%)]\tLoss: 0.234579\n",
      "Train Epoch: 5 [32000/60000 (53%)]\tLoss: 0.097722\n",
      "Train Epoch: 5 [38400/60000 (64%)]\tLoss: 0.252424\n",
      "Train Epoch: 5 [44800/60000 (75%)]\tLoss: 0.170445\n",
      "Train Epoch: 5 [51200/60000 (85%)]\tLoss: 0.308881\n",
      "Train Epoch: 5 [57600/60000 (96%)]\tLoss: 0.089121\n",
      "\n",
      "Train set: Average loss: 0.0803, Accuracy: 57050/60000 (95.1%)\n",
      "\n",
      "\n",
      "Test set: Average loss: 0.1750, Accuracy: 9475/10000 (94.750%)\n",
      "\n",
      "Train Epoch: 6 [0/60000 (0%)]\tLoss: 0.085293\n",
      "Train Epoch: 6 [6400/60000 (11%)]\tLoss: 0.160904\n",
      "Train Epoch: 6 [12800/60000 (21%)]\tLoss: 0.108019\n",
      "Train Epoch: 6 [19200/60000 (32%)]\tLoss: 0.133513\n",
      "Train Epoch: 6 [25600/60000 (43%)]\tLoss: 0.158648\n",
      "Train Epoch: 6 [32000/60000 (53%)]\tLoss: 0.046527\n",
      "Train Epoch: 6 [38400/60000 (64%)]\tLoss: 0.309070\n",
      "Train Epoch: 6 [44800/60000 (75%)]\tLoss: 0.158453\n",
      "Train Epoch: 6 [51200/60000 (85%)]\tLoss: 0.226039\n",
      "Train Epoch: 6 [57600/60000 (96%)]\tLoss: 0.297061\n",
      "\n",
      "Train set: Average loss: 0.2751, Accuracy: 57213/60000 (95.4%)\n",
      "\n",
      "\n",
      "Test set: Average loss: 0.1607, Accuracy: 9507/10000 (95.070%)\n",
      "\n",
      "Train Epoch: 7 [0/60000 (0%)]\tLoss: 0.158649\n",
      "Train Epoch: 7 [6400/60000 (11%)]\tLoss: 0.107071\n",
      "Train Epoch: 7 [12800/60000 (21%)]\tLoss: 0.095762\n",
      "Train Epoch: 7 [19200/60000 (32%)]\tLoss: 0.198130\n",
      "Train Epoch: 7 [25600/60000 (43%)]\tLoss: 0.049372\n",
      "Train Epoch: 7 [32000/60000 (53%)]\tLoss: 0.085183\n",
      "Train Epoch: 7 [38400/60000 (64%)]\tLoss: 0.139419\n",
      "Train Epoch: 7 [44800/60000 (75%)]\tLoss: 0.273879\n",
      "Train Epoch: 7 [51200/60000 (85%)]\tLoss: 0.298634\n",
      "Train Epoch: 7 [57600/60000 (96%)]\tLoss: 0.240606\n",
      "\n",
      "Train set: Average loss: 0.1209, Accuracy: 57321/60000 (95.5%)\n",
      "\n",
      "\n",
      "Test set: Average loss: 0.1638, Accuracy: 9503/10000 (95.030%)\n",
      "\n",
      "Train Epoch: 8 [0/60000 (0%)]\tLoss: 0.045427\n",
      "Train Epoch: 8 [6400/60000 (11%)]\tLoss: 0.058776\n",
      "Train Epoch: 8 [12800/60000 (21%)]\tLoss: 0.052481\n",
      "Train Epoch: 8 [19200/60000 (32%)]\tLoss: 0.220306\n",
      "Train Epoch: 8 [25600/60000 (43%)]\tLoss: 0.068328\n",
      "Train Epoch: 8 [32000/60000 (53%)]\tLoss: 0.055686\n",
      "Train Epoch: 8 [38400/60000 (64%)]\tLoss: 0.402185\n",
      "Train Epoch: 8 [44800/60000 (75%)]\tLoss: 0.135440\n",
      "Train Epoch: 8 [51200/60000 (85%)]\tLoss: 0.169319\n",
      "Train Epoch: 8 [57600/60000 (96%)]\tLoss: 0.455700\n",
      "\n",
      "Train set: Average loss: 0.0909, Accuracy: 57469/60000 (95.8%)\n",
      "\n",
      "\n",
      "Test set: Average loss: 0.1614, Accuracy: 9514/10000 (95.140%)\n",
      "\n",
      "Train Epoch: 9 [0/60000 (0%)]\tLoss: 0.190858\n",
      "Train Epoch: 9 [6400/60000 (11%)]\tLoss: 0.228514\n",
      "Train Epoch: 9 [12800/60000 (21%)]\tLoss: 0.068306\n",
      "Train Epoch: 9 [19200/60000 (32%)]\tLoss: 0.107374\n",
      "Train Epoch: 9 [25600/60000 (43%)]\tLoss: 0.112397\n",
      "Train Epoch: 9 [32000/60000 (53%)]\tLoss: 0.182400\n",
      "Train Epoch: 9 [38400/60000 (64%)]\tLoss: 0.081962\n",
      "Train Epoch: 9 [44800/60000 (75%)]\tLoss: 0.118993\n",
      "Train Epoch: 9 [51200/60000 (85%)]\tLoss: 0.099457\n",
      "Train Epoch: 9 [57600/60000 (96%)]\tLoss: 0.158851\n",
      "\n",
      "Train set: Average loss: 0.0486, Accuracy: 57509/60000 (95.8%)\n",
      "\n",
      "\n",
      "Test set: Average loss: 0.1594, Accuracy: 9515/10000 (95.150%)\n",
      "\n",
      "Train Epoch: 10 [0/60000 (0%)]\tLoss: 0.111440\n",
      "Train Epoch: 10 [6400/60000 (11%)]\tLoss: 0.099785\n",
      "Train Epoch: 10 [12800/60000 (21%)]\tLoss: 0.213319\n",
      "Train Epoch: 10 [19200/60000 (32%)]\tLoss: 0.082093\n",
      "Train Epoch: 10 [25600/60000 (43%)]\tLoss: 0.143335\n",
      "Train Epoch: 10 [32000/60000 (53%)]\tLoss: 0.111052\n",
      "Train Epoch: 10 [38400/60000 (64%)]\tLoss: 0.157929\n",
      "Train Epoch: 10 [44800/60000 (75%)]\tLoss: 0.191892\n",
      "Train Epoch: 10 [51200/60000 (85%)]\tLoss: 0.158446\n",
      "Train Epoch: 10 [57600/60000 (96%)]\tLoss: 0.362765\n",
      "\n",
      "Train set: Average loss: 0.1700, Accuracy: 57613/60000 (96.0%)\n",
      "\n",
      "\n",
      "Test set: Average loss: 0.1618, Accuracy: 9493/10000 (94.930%)\n",
      "\n",
      "Training is finished.\n"
     ]
    }
   ],
   "source": [
    "epochs = 10\n",
    "for epoch in range(1, epochs + 1):\n",
    "    train(mlp, dl_train, optimizer, epoch, log_interval=100)\n",
    "    test(mlp, dl_test)\n",
    "\n",
    "print ('Training is finished.')"
   ]
  },
  {
   "cell_type": "markdown",
   "metadata": {},
   "source": [
    "After training, you should see test accuracies of > **94%** - By they way, here we report test accuracy, the last exercises reported test error. Accuracy is simply (1 - error). Both metrics are commonly reported, there is no clear preference in literature for one or the other."
   ]
  },
  {
   "cell_type": "markdown",
   "metadata": {},
   "source": [
    "Now, can you do some parameter tuning to boost the test accuracy to > **97%**?"
   ]
  },
  {
   "cell_type": "code",
   "execution_count": 42,
   "metadata": {},
   "outputs": [
    {
     "name": "stdout",
     "output_type": "stream",
     "text": [
      "Train Epoch: 1 [0/60000 (0%)]\tLoss: 2.308562\n",
      "Train Epoch: 1 [6400/60000 (11%)]\tLoss: 0.386242\n",
      "Train Epoch: 1 [12800/60000 (21%)]\tLoss: 0.449460\n",
      "Train Epoch: 1 [19200/60000 (32%)]\tLoss: 0.095446\n",
      "Train Epoch: 1 [25600/60000 (43%)]\tLoss: 0.220782\n",
      "Train Epoch: 1 [32000/60000 (53%)]\tLoss: 0.210747\n",
      "Train Epoch: 1 [38400/60000 (64%)]\tLoss: 0.151580\n",
      "Train Epoch: 1 [44800/60000 (75%)]\tLoss: 0.184281\n",
      "Train Epoch: 1 [51200/60000 (85%)]\tLoss: 0.323609\n",
      "Train Epoch: 1 [57600/60000 (96%)]\tLoss: 0.078716\n",
      "\n",
      "Train set: Average loss: 0.0923, Accuracy: 53869/60000 (89.8%)\n",
      "\n",
      "\n",
      "Test set: Average loss: 0.1620, Accuracy: 9504/10000 (95.040%)\n",
      "\n",
      "Train Epoch: 2 [0/60000 (0%)]\tLoss: 0.195469\n",
      "Train Epoch: 2 [6400/60000 (11%)]\tLoss: 0.294268\n",
      "Train Epoch: 2 [12800/60000 (21%)]\tLoss: 0.108327\n",
      "Train Epoch: 2 [19200/60000 (32%)]\tLoss: 0.077114\n",
      "Train Epoch: 2 [25600/60000 (43%)]\tLoss: 0.096850\n",
      "Train Epoch: 2 [32000/60000 (53%)]\tLoss: 0.046078\n",
      "Train Epoch: 2 [38400/60000 (64%)]\tLoss: 0.148327\n",
      "Train Epoch: 2 [44800/60000 (75%)]\tLoss: 0.139843\n",
      "Train Epoch: 2 [51200/60000 (85%)]\tLoss: 0.099863\n",
      "Train Epoch: 2 [57600/60000 (96%)]\tLoss: 0.248396\n",
      "\n",
      "Train set: Average loss: 0.0855, Accuracy: 57502/60000 (95.8%)\n",
      "\n",
      "\n",
      "Test set: Average loss: 0.1272, Accuracy: 9591/10000 (95.910%)\n",
      "\n",
      "Train Epoch: 3 [0/60000 (0%)]\tLoss: 0.096073\n",
      "Train Epoch: 3 [6400/60000 (11%)]\tLoss: 0.105336\n",
      "Train Epoch: 3 [12800/60000 (21%)]\tLoss: 0.037019\n",
      "Train Epoch: 3 [19200/60000 (32%)]\tLoss: 0.036861\n",
      "Train Epoch: 3 [25600/60000 (43%)]\tLoss: 0.043153\n",
      "Train Epoch: 3 [32000/60000 (53%)]\tLoss: 0.033573\n",
      "Train Epoch: 3 [38400/60000 (64%)]\tLoss: 0.106987\n",
      "Train Epoch: 3 [44800/60000 (75%)]\tLoss: 0.206729\n",
      "Train Epoch: 3 [51200/60000 (85%)]\tLoss: 0.056659\n",
      "Train Epoch: 3 [57600/60000 (96%)]\tLoss: 0.105549\n",
      "\n",
      "Train set: Average loss: 0.0178, Accuracy: 58108/60000 (96.8%)\n",
      "\n",
      "\n",
      "Test set: Average loss: 0.1012, Accuracy: 9691/10000 (96.910%)\n",
      "\n",
      "Train Epoch: 4 [0/60000 (0%)]\tLoss: 0.111665\n",
      "Train Epoch: 4 [6400/60000 (11%)]\tLoss: 0.047286\n",
      "Train Epoch: 4 [12800/60000 (21%)]\tLoss: 0.048982\n",
      "Train Epoch: 4 [19200/60000 (32%)]\tLoss: 0.034267\n",
      "Train Epoch: 4 [25600/60000 (43%)]\tLoss: 0.007173\n",
      "Train Epoch: 4 [32000/60000 (53%)]\tLoss: 0.137070\n",
      "Train Epoch: 4 [38400/60000 (64%)]\tLoss: 0.062312\n",
      "Train Epoch: 4 [44800/60000 (75%)]\tLoss: 0.040761\n",
      "Train Epoch: 4 [51200/60000 (85%)]\tLoss: 0.024184\n",
      "Train Epoch: 4 [57600/60000 (96%)]\tLoss: 0.095708\n",
      "\n",
      "Train set: Average loss: 0.0039, Accuracy: 58507/60000 (97.5%)\n",
      "\n",
      "\n",
      "Test set: Average loss: 0.0861, Accuracy: 9740/10000 (97.400%)\n",
      "\n",
      "Train Epoch: 5 [0/60000 (0%)]\tLoss: 0.019901\n",
      "Train Epoch: 5 [6400/60000 (11%)]\tLoss: 0.030228\n",
      "Train Epoch: 5 [12800/60000 (21%)]\tLoss: 0.043874\n",
      "Train Epoch: 5 [19200/60000 (32%)]\tLoss: 0.027272\n",
      "Train Epoch: 5 [25600/60000 (43%)]\tLoss: 0.019747\n",
      "Train Epoch: 5 [32000/60000 (53%)]\tLoss: 0.015490\n",
      "Train Epoch: 5 [38400/60000 (64%)]\tLoss: 0.036310\n",
      "Train Epoch: 5 [44800/60000 (75%)]\tLoss: 0.037407\n",
      "Train Epoch: 5 [51200/60000 (85%)]\tLoss: 0.037709\n",
      "Train Epoch: 5 [57600/60000 (96%)]\tLoss: 0.012357\n",
      "\n",
      "Train set: Average loss: 0.1109, Accuracy: 58728/60000 (97.9%)\n",
      "\n",
      "\n",
      "Test set: Average loss: 0.0947, Accuracy: 9704/10000 (97.040%)\n",
      "\n",
      "Train Epoch: 6 [0/60000 (0%)]\tLoss: 0.142195\n",
      "Train Epoch: 6 [6400/60000 (11%)]\tLoss: 0.031606\n",
      "Train Epoch: 6 [12800/60000 (21%)]\tLoss: 0.065688\n",
      "Train Epoch: 6 [19200/60000 (32%)]\tLoss: 0.015962\n",
      "Train Epoch: 6 [25600/60000 (43%)]\tLoss: 0.017964\n",
      "Train Epoch: 6 [32000/60000 (53%)]\tLoss: 0.076301\n",
      "Train Epoch: 6 [38400/60000 (64%)]\tLoss: 0.115605\n",
      "Train Epoch: 6 [44800/60000 (75%)]\tLoss: 0.006052\n",
      "Train Epoch: 6 [51200/60000 (85%)]\tLoss: 0.042535\n",
      "Train Epoch: 6 [57600/60000 (96%)]\tLoss: 0.042467\n",
      "\n",
      "Train set: Average loss: 0.0089, Accuracy: 58833/60000 (98.1%)\n",
      "\n",
      "\n",
      "Test set: Average loss: 0.0846, Accuracy: 9738/10000 (97.380%)\n",
      "\n",
      "Train Epoch: 7 [0/60000 (0%)]\tLoss: 0.061488\n",
      "Train Epoch: 7 [6400/60000 (11%)]\tLoss: 0.053692\n",
      "Train Epoch: 7 [12800/60000 (21%)]\tLoss: 0.017011\n",
      "Train Epoch: 7 [19200/60000 (32%)]\tLoss: 0.068942\n",
      "Train Epoch: 7 [25600/60000 (43%)]\tLoss: 0.027136\n",
      "Train Epoch: 7 [32000/60000 (53%)]\tLoss: 0.117938\n",
      "Train Epoch: 7 [38400/60000 (64%)]\tLoss: 0.103023\n",
      "Train Epoch: 7 [44800/60000 (75%)]\tLoss: 0.061785\n",
      "Train Epoch: 7 [51200/60000 (85%)]\tLoss: 0.038755\n",
      "Train Epoch: 7 [57600/60000 (96%)]\tLoss: 0.043456\n",
      "\n",
      "Train set: Average loss: 0.0014, Accuracy: 59000/60000 (98.3%)\n",
      "\n",
      "\n",
      "Test set: Average loss: 0.1064, Accuracy: 9695/10000 (96.950%)\n",
      "\n",
      "Train Epoch: 8 [0/60000 (0%)]\tLoss: 0.004097\n",
      "Train Epoch: 8 [6400/60000 (11%)]\tLoss: 0.028296\n",
      "Train Epoch: 8 [12800/60000 (21%)]\tLoss: 0.032457\n",
      "Train Epoch: 8 [19200/60000 (32%)]\tLoss: 0.089478\n",
      "Train Epoch: 8 [25600/60000 (43%)]\tLoss: 0.055439\n",
      "Train Epoch: 8 [32000/60000 (53%)]\tLoss: 0.019616\n",
      "Train Epoch: 8 [38400/60000 (64%)]\tLoss: 0.048460\n",
      "Train Epoch: 8 [44800/60000 (75%)]\tLoss: 0.035633\n",
      "Train Epoch: 8 [51200/60000 (85%)]\tLoss: 0.015808\n",
      "Train Epoch: 8 [57600/60000 (96%)]\tLoss: 0.037859\n",
      "\n",
      "Train set: Average loss: 0.0060, Accuracy: 59093/60000 (98.5%)\n",
      "\n",
      "\n",
      "Test set: Average loss: 0.0835, Accuracy: 9748/10000 (97.480%)\n",
      "\n",
      "Train Epoch: 9 [0/60000 (0%)]\tLoss: 0.173711\n",
      "Train Epoch: 9 [6400/60000 (11%)]\tLoss: 0.007234\n",
      "Train Epoch: 9 [12800/60000 (21%)]\tLoss: 0.008331\n",
      "Train Epoch: 9 [19200/60000 (32%)]\tLoss: 0.027392\n",
      "Train Epoch: 9 [25600/60000 (43%)]\tLoss: 0.038773\n",
      "Train Epoch: 9 [32000/60000 (53%)]\tLoss: 0.018714\n",
      "Train Epoch: 9 [38400/60000 (64%)]\tLoss: 0.053685\n",
      "Train Epoch: 9 [44800/60000 (75%)]\tLoss: 0.004738\n",
      "Train Epoch: 9 [51200/60000 (85%)]\tLoss: 0.063027\n",
      "Train Epoch: 9 [57600/60000 (96%)]\tLoss: 0.020814\n",
      "\n",
      "Train set: Average loss: 0.0043, Accuracy: 59248/60000 (98.7%)\n",
      "\n",
      "\n",
      "Test set: Average loss: 0.0855, Accuracy: 9759/10000 (97.590%)\n",
      "\n",
      "Train Epoch: 10 [0/60000 (0%)]\tLoss: 0.029146\n",
      "Train Epoch: 10 [6400/60000 (11%)]\tLoss: 0.005025\n",
      "Train Epoch: 10 [12800/60000 (21%)]\tLoss: 0.001042\n",
      "Train Epoch: 10 [19200/60000 (32%)]\tLoss: 0.002965\n",
      "Train Epoch: 10 [25600/60000 (43%)]\tLoss: 0.006646\n",
      "Train Epoch: 10 [32000/60000 (53%)]\tLoss: 0.003491\n",
      "Train Epoch: 10 [38400/60000 (64%)]\tLoss: 0.053620\n",
      "Train Epoch: 10 [44800/60000 (75%)]\tLoss: 0.100095\n",
      "Train Epoch: 10 [51200/60000 (85%)]\tLoss: 0.011747\n",
      "Train Epoch: 10 [57600/60000 (96%)]\tLoss: 0.020873\n",
      "\n",
      "Train set: Average loss: 0.1126, Accuracy: 59302/60000 (98.8%)\n",
      "\n",
      "\n",
      "Test set: Average loss: 0.0927, Accuracy: 9753/10000 (97.530%)\n",
      "\n",
      "Train Epoch: 11 [0/60000 (0%)]\tLoss: 0.016320\n",
      "Train Epoch: 11 [6400/60000 (11%)]\tLoss: 0.114336\n",
      "Train Epoch: 11 [12800/60000 (21%)]\tLoss: 0.033468\n",
      "Train Epoch: 11 [19200/60000 (32%)]\tLoss: 0.000665\n",
      "Train Epoch: 11 [25600/60000 (43%)]\tLoss: 0.007118\n",
      "Train Epoch: 11 [32000/60000 (53%)]\tLoss: 0.004216\n",
      "Train Epoch: 11 [38400/60000 (64%)]\tLoss: 0.002318\n",
      "Train Epoch: 11 [44800/60000 (75%)]\tLoss: 0.005404\n",
      "Train Epoch: 11 [51200/60000 (85%)]\tLoss: 0.009891\n",
      "Train Epoch: 11 [57600/60000 (96%)]\tLoss: 0.012640\n",
      "\n",
      "Train set: Average loss: 0.0079, Accuracy: 59399/60000 (99.0%)\n",
      "\n",
      "\n",
      "Test set: Average loss: 0.0996, Accuracy: 9707/10000 (97.070%)\n",
      "\n",
      "Train Epoch: 12 [0/60000 (0%)]\tLoss: 0.050033\n",
      "Train Epoch: 12 [6400/60000 (11%)]\tLoss: 0.169350\n",
      "Train Epoch: 12 [12800/60000 (21%)]\tLoss: 0.019440\n",
      "Train Epoch: 12 [19200/60000 (32%)]\tLoss: 0.002585\n",
      "Train Epoch: 12 [25600/60000 (43%)]\tLoss: 0.009383\n",
      "Train Epoch: 12 [32000/60000 (53%)]\tLoss: 0.030568\n",
      "Train Epoch: 12 [38400/60000 (64%)]\tLoss: 0.003929\n",
      "Train Epoch: 12 [44800/60000 (75%)]\tLoss: 0.008728\n",
      "Train Epoch: 12 [51200/60000 (85%)]\tLoss: 0.067678\n",
      "Train Epoch: 12 [57600/60000 (96%)]\tLoss: 0.005036\n",
      "\n",
      "Train set: Average loss: 0.0046, Accuracy: 59395/60000 (99.0%)\n",
      "\n",
      "\n",
      "Test set: Average loss: 0.0944, Accuracy: 9759/10000 (97.590%)\n",
      "\n",
      "Train Epoch: 13 [0/60000 (0%)]\tLoss: 0.011369\n",
      "Train Epoch: 13 [6400/60000 (11%)]\tLoss: 0.031529\n",
      "Train Epoch: 13 [12800/60000 (21%)]\tLoss: 0.010438\n",
      "Train Epoch: 13 [19200/60000 (32%)]\tLoss: 0.034545\n",
      "Train Epoch: 13 [25600/60000 (43%)]\tLoss: 0.008352\n",
      "Train Epoch: 13 [32000/60000 (53%)]\tLoss: 0.002914\n",
      "Train Epoch: 13 [38400/60000 (64%)]\tLoss: 0.006706\n",
      "Train Epoch: 13 [44800/60000 (75%)]\tLoss: 0.052614\n",
      "Train Epoch: 13 [51200/60000 (85%)]\tLoss: 0.044044\n",
      "Train Epoch: 13 [57600/60000 (96%)]\tLoss: 0.011969\n",
      "\n",
      "Train set: Average loss: 0.0435, Accuracy: 59456/60000 (99.1%)\n",
      "\n",
      "\n",
      "Test set: Average loss: 0.0925, Accuracy: 9764/10000 (97.640%)\n",
      "\n",
      "Train Epoch: 14 [0/60000 (0%)]\tLoss: 0.010895\n",
      "Train Epoch: 14 [6400/60000 (11%)]\tLoss: 0.052814\n",
      "Train Epoch: 14 [12800/60000 (21%)]\tLoss: 0.012910\n",
      "Train Epoch: 14 [19200/60000 (32%)]\tLoss: 0.028578\n",
      "Train Epoch: 14 [25600/60000 (43%)]\tLoss: 0.011388\n",
      "Train Epoch: 14 [32000/60000 (53%)]\tLoss: 0.013162\n",
      "Train Epoch: 14 [38400/60000 (64%)]\tLoss: 0.001292\n",
      "Train Epoch: 14 [44800/60000 (75%)]\tLoss: 0.043312\n",
      "Train Epoch: 14 [51200/60000 (85%)]\tLoss: 0.017639\n",
      "Train Epoch: 14 [57600/60000 (96%)]\tLoss: 0.014524\n",
      "\n",
      "Train set: Average loss: 0.0026, Accuracy: 59503/60000 (99.2%)\n",
      "\n",
      "\n",
      "Test set: Average loss: 0.1019, Accuracy: 9753/10000 (97.530%)\n",
      "\n",
      "Train Epoch: 15 [0/60000 (0%)]\tLoss: 0.047424\n",
      "Train Epoch: 15 [6400/60000 (11%)]\tLoss: 0.015728\n",
      "Train Epoch: 15 [12800/60000 (21%)]\tLoss: 0.001294\n",
      "Train Epoch: 15 [19200/60000 (32%)]\tLoss: 0.018638\n",
      "Train Epoch: 15 [25600/60000 (43%)]\tLoss: 0.001535\n",
      "Train Epoch: 15 [32000/60000 (53%)]\tLoss: 0.000245\n",
      "Train Epoch: 15 [38400/60000 (64%)]\tLoss: 0.003299\n",
      "Train Epoch: 15 [44800/60000 (75%)]\tLoss: 0.001873\n",
      "Train Epoch: 15 [51200/60000 (85%)]\tLoss: 0.008895\n",
      "Train Epoch: 15 [57600/60000 (96%)]\tLoss: 0.069656\n",
      "\n",
      "Train set: Average loss: 0.0076, Accuracy: 59539/60000 (99.2%)\n",
      "\n",
      "\n",
      "Test set: Average loss: 0.1139, Accuracy: 9756/10000 (97.560%)\n",
      "\n",
      "Training is finished.\n"
     ]
    }
   ],
   "source": [
    "#########################################################################\n",
    "#TODO: modify the parameters below to see which setting that you can get to 97%\n",
    "#########################################################################\n",
    "nLayer = 4\n",
    "nHidden = 64\n",
    "#leaky relu\n",
    "act_fn = nn.LeakyReLU()\n",
    "\n",
    "# reinitialize the mlp, so we can play with parameters right here\n",
    "mlp = MLP(nInput, nOutput, nLayer, nHidden, act_fn)\n",
    "optimizer = optim.Adam(mlp.parameters())\n",
    "\n",
    "epochs = 15\n",
    "for epoch in range(1, epochs + 1):\n",
    "    train(mlp, dl_train, optimizer, epoch, log_interval=100)\n",
    "    test(mlp, dl_test)\n",
    "\n",
    "print ('Training is finished.')"
   ]
  },
  {
   "cell_type": "markdown",
   "metadata": {},
   "source": [
    "Before you move on to the next exercise, you can further play with the other parameters (learning rate, epochs, a different optimizer, etc.) to get a feeling what can improve or hamper performance. "
   ]
  },
  {
   "cell_type": "markdown",
   "metadata": {},
   "source": [
    "## CNN\n",
    "Alright, we matched our prior performance. Let's surpass it! You will soon see the power of CNN by building a small one yourself. The structure should be as follows\n",
    "\n",
    "| CNN Architecture                             \t|\n",
    "|----------------------------------------------\t|\n",
    "| Conv: $C_{in}=1, C_{out}=32, K=3, S=1, P=0$  \t|\n",
    "| ReLU                                         \t|\n",
    "| Conv: $C_{in}=32, C_{out}=64, K=3, S=1, P=0$ \t|\n",
    "| ReLU                                         \t|\n",
    "| MaxPool2d: $K=2, S=2, P=0$                   \t|\n",
    "| Dropout: $p=0.25$                            \t|\n",
    "| Linear: $C_{in}=9216, C_{out}=128$           \t|\n",
    "| ReLU                                         \t|\n",
    "| Dropout: $p=0.5$                             \t|\n",
    "| Linear: $C_{in}=128, C_{out}=10$             \t|\n",
    "\n",
    "The layers you will need are: \n",
    "\n",
    "`nn.Conv2d,  nn.Linear,  nn.Dropout, nn.MaxPool2d, nn.Flatten`\n",
    "\n",
    "For layers without parameters you can alternatively use function in the forward pass:  \n",
    "\n",
    "`F.max_pool2d, torch.flatten`"
   ]
  },
  {
   "cell_type": "code",
   "execution_count": 47,
   "metadata": {},
   "outputs": [],
   "source": [
    "#########################################################################\n",
    "# TODO: Implement the __init__ and forward method of the CNN class. \n",
    "# Hint: do not forget to flatten the appropriate dimension after the convolutional blocks. \n",
    "# A linear layers expect input of the size (B, H) with batch size B and feature size H\n",
    "#########################################################################\n",
    "\n",
    "class CNN(nn.Module):\n",
    "    def __init__(self):\n",
    "        super(CNN, self).__init__()    \n",
    "                     \n",
    "        self.conv1 = nn.Conv2d(1, 32, 3, 1, 0)\n",
    "        self.conv2 = nn.Conv2d(32, 64, 3, 1, 0)\n",
    "        self.pool = nn.MaxPool2d(2, 2, 0)\n",
    "        self.dropout1 = nn.Dropout2d(0.25)     \n",
    "        \n",
    "        \n",
    "        self.fc1 = nn.Linear(9216, 128)\n",
    "        self.dropout2 = nn.Dropout(0.5)\n",
    "        self.fc2 = nn.Linear(128, 10)\n",
    "        \n",
    "        self.relu = nn.ReLU()\n",
    "        \n",
    "        \n",
    "        \n",
    "    def forward(self, x):\n",
    "        \n",
    "        x = self.conv1(x)\n",
    "        x = self.relu(x)\n",
    "        x = self.conv2(x)\n",
    "        x = self.relu(x)\n",
    "        x = self.pool(x)\n",
    "        x = self.dropout1(x)\n",
    "        \n",
    "        x = torch.flatten(x, 1)\n",
    "        \n",
    "        x = self.fc1(x)\n",
    "        x = self.relu(x)\n",
    "        x = self.dropout2(x)\n",
    "        x = self.fc2(x)\n",
    "        \n",
    "        \n",
    "        return x\n"
   ]
  },
  {
   "cell_type": "code",
   "execution_count": 48,
   "metadata": {},
   "outputs": [
    {
     "data": {
      "text/plain": [
       "torch.Size([1, 10])"
      ]
     },
     "execution_count": 48,
     "metadata": {},
     "output_type": "execute_result"
    }
   ],
   "source": [
    "# Let's test if the forward pass works\n",
    "# this should print torch.Size([1, 10])\n",
    "t = torch.randn(1,1,28,28)\n",
    "cnn = CNN()\n",
    "cnn(t).shape"
   ]
  },
  {
   "cell_type": "markdown",
   "metadata": {},
   "source": [
    "Alright, let's train!"
   ]
  },
  {
   "cell_type": "code",
   "execution_count": 49,
   "metadata": {},
   "outputs": [],
   "source": [
    "optimizer = optim.Adam(cnn.parameters())"
   ]
  },
  {
   "cell_type": "code",
   "execution_count": 50,
   "metadata": {
    "scrolled": true
   },
   "outputs": [
    {
     "name": "stdout",
     "output_type": "stream",
     "text": [
      "Train Epoch: 1 [0/60000 (0%)]\tLoss: 2.341157\n",
      "Train Epoch: 1 [6400/60000 (11%)]\tLoss: 0.332142\n",
      "Train Epoch: 1 [12800/60000 (21%)]\tLoss: 0.225412\n",
      "Train Epoch: 1 [19200/60000 (32%)]\tLoss: 0.249181\n",
      "Train Epoch: 1 [25600/60000 (43%)]\tLoss: 0.217445\n",
      "Train Epoch: 1 [32000/60000 (53%)]\tLoss: 0.053042\n",
      "Train Epoch: 1 [38400/60000 (64%)]\tLoss: 0.190027\n",
      "Train Epoch: 1 [44800/60000 (75%)]\tLoss: 0.214480\n",
      "Train Epoch: 1 [51200/60000 (85%)]\tLoss: 0.095668\n",
      "Train Epoch: 1 [57600/60000 (96%)]\tLoss: 0.029818\n",
      "\n",
      "Train set: Average loss: 0.3266, Accuracy: 56071/60000 (93.5%)\n",
      "\n",
      "\n",
      "Test set: Average loss: 0.0495, Accuracy: 9846/10000 (98.460%)\n",
      "\n",
      "Train Epoch: 2 [0/60000 (0%)]\tLoss: 0.059285\n",
      "Train Epoch: 2 [6400/60000 (11%)]\tLoss: 0.081182\n",
      "Train Epoch: 2 [12800/60000 (21%)]\tLoss: 0.101252\n",
      "Train Epoch: 2 [19200/60000 (32%)]\tLoss: 0.113683\n",
      "Train Epoch: 2 [25600/60000 (43%)]\tLoss: 0.076034\n",
      "Train Epoch: 2 [32000/60000 (53%)]\tLoss: 0.033825\n",
      "Train Epoch: 2 [38400/60000 (64%)]\tLoss: 0.110824\n",
      "Train Epoch: 2 [44800/60000 (75%)]\tLoss: 0.106153\n",
      "Train Epoch: 2 [51200/60000 (85%)]\tLoss: 0.241461\n",
      "Train Epoch: 2 [57600/60000 (96%)]\tLoss: 0.097051\n",
      "\n",
      "Train set: Average loss: 0.0165, Accuracy: 58361/60000 (97.3%)\n",
      "\n",
      "\n",
      "Test set: Average loss: 0.0348, Accuracy: 9884/10000 (98.840%)\n",
      "\n",
      "Train Epoch: 3 [0/60000 (0%)]\tLoss: 0.246912\n",
      "Train Epoch: 3 [6400/60000 (11%)]\tLoss: 0.168655\n",
      "Train Epoch: 3 [12800/60000 (21%)]\tLoss: 0.164296\n",
      "Train Epoch: 3 [19200/60000 (32%)]\tLoss: 0.075834\n",
      "Train Epoch: 3 [25600/60000 (43%)]\tLoss: 0.118823\n",
      "Train Epoch: 3 [32000/60000 (53%)]\tLoss: 0.063923\n",
      "Train Epoch: 3 [38400/60000 (64%)]\tLoss: 0.021886\n",
      "Train Epoch: 3 [44800/60000 (75%)]\tLoss: 0.052193\n",
      "Train Epoch: 3 [51200/60000 (85%)]\tLoss: 0.012682\n",
      "Train Epoch: 3 [57600/60000 (96%)]\tLoss: 0.093436\n",
      "\n",
      "Train set: Average loss: 0.1099, Accuracy: 58753/60000 (97.9%)\n",
      "\n",
      "\n",
      "Test set: Average loss: 0.0297, Accuracy: 9910/10000 (99.100%)\n",
      "\n",
      "Train Epoch: 4 [0/60000 (0%)]\tLoss: 0.111213\n",
      "Train Epoch: 4 [6400/60000 (11%)]\tLoss: 0.044422\n",
      "Train Epoch: 4 [12800/60000 (21%)]\tLoss: 0.046629\n",
      "Train Epoch: 4 [19200/60000 (32%)]\tLoss: 0.041205\n",
      "Train Epoch: 4 [25600/60000 (43%)]\tLoss: 0.043189\n",
      "Train Epoch: 4 [32000/60000 (53%)]\tLoss: 0.219770\n",
      "Train Epoch: 4 [38400/60000 (64%)]\tLoss: 0.032792\n",
      "Train Epoch: 4 [44800/60000 (75%)]\tLoss: 0.093662\n",
      "Train Epoch: 4 [51200/60000 (85%)]\tLoss: 0.041756\n",
      "Train Epoch: 4 [57600/60000 (96%)]\tLoss: 0.038201\n",
      "\n",
      "Train set: Average loss: 0.0060, Accuracy: 58923/60000 (98.2%)\n",
      "\n",
      "\n",
      "Test set: Average loss: 0.0314, Accuracy: 9904/10000 (99.040%)\n",
      "\n",
      "Train Epoch: 5 [0/60000 (0%)]\tLoss: 0.041606\n",
      "Train Epoch: 5 [6400/60000 (11%)]\tLoss: 0.094503\n",
      "Train Epoch: 5 [12800/60000 (21%)]\tLoss: 0.173593\n",
      "Train Epoch: 5 [19200/60000 (32%)]\tLoss: 0.132309\n",
      "Train Epoch: 5 [25600/60000 (43%)]\tLoss: 0.011803\n",
      "Train Epoch: 5 [32000/60000 (53%)]\tLoss: 0.030344\n",
      "Train Epoch: 5 [38400/60000 (64%)]\tLoss: 0.031157\n",
      "Train Epoch: 5 [44800/60000 (75%)]\tLoss: 0.045354\n",
      "Train Epoch: 5 [51200/60000 (85%)]\tLoss: 0.042201\n",
      "Train Epoch: 5 [57600/60000 (96%)]\tLoss: 0.021380\n",
      "\n",
      "Train set: Average loss: 0.0107, Accuracy: 59080/60000 (98.5%)\n",
      "\n",
      "\n",
      "Test set: Average loss: 0.0336, Accuracy: 9894/10000 (98.940%)\n",
      "\n"
     ]
    }
   ],
   "source": [
    "epochs = 5\n",
    "for epoch in range(1, epochs + 1):\n",
    "    train(cnn, dl_train, optimizer, epoch, log_interval=100)\n",
    "    test(cnn, dl_test)"
   ]
  },
  {
   "cell_type": "markdown",
   "metadata": {},
   "source": [
    "This will probably take a bit longer to train, as a convolutional network is not very efficient on a CPU. The current settings should get you around **99%** accuracy. Nice! \n",
    "Again, you should try different hyperparameters and see how far you can push the performance."
   ]
  },
  {
   "cell_type": "markdown",
   "metadata": {},
   "source": [
    "### Inline Question\n",
    "\n",
    "If your model weight is randomly initalized, and no training is done as above. What accuracy do you think the model will get for a 10-class classification task in theory?\n",
    "\n",
    "**Your answer**: \n"
   ]
  },
  {
   "cell_type": "markdown",
   "metadata": {},
   "source": [
    "## Training on CIFAR10\n",
    "\n",
    "Now we are going to move to something more challenging - CIFAR10. We can reuse most of the code above. Thankfully, CIFAR is also a popular dataset, so we can again make use of a PyTorch convience function."
   ]
  },
  {
   "cell_type": "code",
   "execution_count": 51,
   "metadata": {},
   "outputs": [
    {
     "name": "stdout",
     "output_type": "stream",
     "text": [
      "Downloading https://www.cs.toronto.edu/~kriz/cifar-10-python.tar.gz to ./data\\cifar-10-python.tar.gz\n"
     ]
    },
    {
     "name": "stderr",
     "output_type": "stream",
     "text": [
      "100%|██████████| 170M/170M [00:20<00:00, 8.42MB/s] \n"
     ]
    },
    {
     "name": "stdout",
     "output_type": "stream",
     "text": [
      "Extracting ./data\\cifar-10-python.tar.gz to ./data\n"
     ]
    }
   ],
   "source": [
    "ds_train = datasets.CIFAR10(root='./data', train=True, download=True)"
   ]
  },
  {
   "cell_type": "markdown",
   "metadata": {},
   "source": [
    "This dataset is not normalized yet, so we need to calculate the normalization constants."
   ]
  },
  {
   "cell_type": "code",
   "execution_count": 52,
   "metadata": {},
   "outputs": [],
   "source": [
    "ims_train = torch.tensor(ds_train.data)\n",
    "ims_train = ims_train.float() / 255."
   ]
  },
  {
   "cell_type": "code",
   "execution_count": 53,
   "metadata": {},
   "outputs": [
    {
     "data": {
      "text/plain": [
       "tensor([0.2470, 0.2435, 0.2616])"
      ]
     },
     "execution_count": 53,
     "metadata": {},
     "output_type": "execute_result"
    }
   ],
   "source": [
    "ims_train.std((0,1,2))"
   ]
  },
  {
   "cell_type": "code",
   "execution_count": 54,
   "metadata": {},
   "outputs": [
    {
     "name": "stdout",
     "output_type": "stream",
     "text": [
      "mu:  tensor([0.4914, 0.4822, 0.4465])\n",
      "std:  tensor([0.2470, 0.2435, 0.2616])\n"
     ]
    }
   ],
   "source": [
    "#########################################################################\n",
    "# TODO: calculate the mean and std of CIFAR\n",
    "# hint: We want the mean and std of the channel dimension, these should\n",
    "# be 3 dimensional\n",
    "#########################################################################\n",
    "mu = torch.mean(ims_train, (0,1,2))\n",
    "std = torch.std(ims_train, (0,1,2))\n",
    "\n",
    "print(\"mu: \", mu)\n",
    "print(\"std: \", std)\n"
   ]
  },
  {
   "cell_type": "code",
   "execution_count": 55,
   "metadata": {},
   "outputs": [
    {
     "data": {
      "text/plain": [
       "tensor([0.4914, 0.4822, 0.4465])"
      ]
     },
     "execution_count": 55,
     "metadata": {},
     "output_type": "execute_result"
    }
   ],
   "source": [
    "torch.mean(ims_train, dim=(0,1,2))"
   ]
  },
  {
   "cell_type": "markdown",
   "metadata": {},
   "source": [
    "For CIFAR we want to make use of data augmentation to improve generalization. You will find all data augmentations data are included in torchvision here:\n",
    "\n",
    "https://pytorch.org/docs/stable/torchvision/transforms.html"
   ]
  },
  {
   "cell_type": "code",
   "execution_count": 56,
   "metadata": {},
   "outputs": [
    {
     "name": "stdout",
     "output_type": "stream",
     "text": [
      "Files already downloaded and verified\n",
      "Files already downloaded and verified\n"
     ]
    }
   ],
   "source": [
    "BATCH_SIZE = 128\n",
    "NUM_WORKERS = 4 # if you encounter some unexpected errors in data loading, try setting `NUM_WORKERS = 0`\n",
    "#########################################################################\n",
    "# TODO: Implement the proper transforms for the training and test dataloaders. \n",
    "# Then build train and test dataloaders with batch size 128 and 4 workers\n",
    "#\n",
    "# Train: \n",
    "# - Apply a random crop with size 32 on a padded version of the image with P=4\n",
    "# - Flip the image horizontally with a probability of 40 %\n",
    "# - Transform to a Tensor\n",
    "# - Normalize with the constants calculated above\n",
    "# Test: \n",
    "# - Transform to a Tensor\n",
    "# - Normalize with the constants calculated above\n",
    "#########################################################################\n",
    "transform_train = transforms.Compose([\n",
    "    transforms.Pad(4),\n",
    "    transforms.RandomHorizontalFlip(0.4),\n",
    "    transforms.RandomCrop(32),\n",
    "    transforms.ToTensor(),\n",
    "    transforms.Normalize(mu, std)\n",
    "])\n",
    "\n",
    "transform_test = transforms.Compose([\n",
    "    transforms.ToTensor(),\n",
    "    transforms.Normalize(mu, std)\n",
    "])\n",
    "\n",
    "ds_train = datasets.CIFAR10('./data', train=True, download=True, transform=transform_train)\n",
    "ds_test = datasets.CIFAR10('./data', train=False, download=True, transform=transform_test)\n",
    "\n",
    "dl_train = DataLoader(ds_train, batch_size=BATCH_SIZE, shuffle=True, num_workers=NUM_WORKERS)\n",
    "dl_test = DataLoader(ds_test, batch_size=BATCH_SIZE, shuffle=False, num_workers=NUM_WORKERS)"
   ]
  },
  {
   "cell_type": "markdown",
   "metadata": {},
   "source": [
    "Setting up the  optimizer, this time we use SGD. The scheduler adapts the learning rate during traing (you can ignore it)"
   ]
  },
  {
   "cell_type": "code",
   "execution_count": 57,
   "metadata": {},
   "outputs": [],
   "source": [
    "cnn = CNN()\n",
    "optimizer = optim.SGD(cnn.parameters(), lr=0.1, momentum=0.9, weight_decay=5e-4)\n",
    "scheduler = torch.optim.lr_scheduler.CosineAnnealingLR(optimizer, T_max=200)"
   ]
  },
  {
   "cell_type": "code",
   "execution_count": 58,
   "metadata": {
    "scrolled": true
   },
   "outputs": [
    {
     "ename": "RuntimeError",
     "evalue": "Given groups=1, weight of size [32, 1, 3, 3], expected input[128, 3, 32, 32] to have 1 channels, but got 3 channels instead",
     "output_type": "error",
     "traceback": [
      "\u001b[1;31m---------------------------------------------------------------------------\u001b[0m",
      "\u001b[1;31mRuntimeError\u001b[0m                              Traceback (most recent call last)",
      "Cell \u001b[1;32mIn[58], line 3\u001b[0m\n\u001b[0;32m      1\u001b[0m epochs \u001b[38;5;241m=\u001b[39m \u001b[38;5;241m5\u001b[39m\n\u001b[0;32m      2\u001b[0m \u001b[38;5;28;01mfor\u001b[39;00m epoch \u001b[38;5;129;01min\u001b[39;00m \u001b[38;5;28mrange\u001b[39m(\u001b[38;5;241m1\u001b[39m, epochs \u001b[38;5;241m+\u001b[39m \u001b[38;5;241m1\u001b[39m):\n\u001b[1;32m----> 3\u001b[0m     \u001b[43mtrain\u001b[49m\u001b[43m(\u001b[49m\u001b[43mcnn\u001b[49m\u001b[43m,\u001b[49m\u001b[43m \u001b[49m\u001b[43mdl_train\u001b[49m\u001b[43m,\u001b[49m\u001b[43m \u001b[49m\u001b[43moptimizer\u001b[49m\u001b[43m,\u001b[49m\u001b[43m \u001b[49m\u001b[43mepoch\u001b[49m\u001b[43m,\u001b[49m\u001b[43m \u001b[49m\u001b[43mlog_interval\u001b[49m\u001b[38;5;241;43m=\u001b[39;49m\u001b[38;5;241;43m100\u001b[39;49m\u001b[43m)\u001b[49m\n\u001b[0;32m      4\u001b[0m     test(cnn, dl_test)    \n\u001b[0;32m      5\u001b[0m     scheduler\u001b[38;5;241m.\u001b[39mstep()\n",
      "Cell \u001b[1;32mIn[35], line 17\u001b[0m, in \u001b[0;36mtrain\u001b[1;34m(model, dl_train, optimizer, epoch, log_interval, device)\u001b[0m\n\u001b[0;32m     14\u001b[0m optimizer\u001b[38;5;241m.\u001b[39mzero_grad()         \n\u001b[0;32m     16\u001b[0m \u001b[38;5;66;03m##### implement this part #####\u001b[39;00m\n\u001b[1;32m---> 17\u001b[0m output \u001b[38;5;241m=\u001b[39m \u001b[43mmodel\u001b[49m\u001b[43m(\u001b[49m\u001b[43mdata\u001b[49m\u001b[43m)\u001b[49m\n\u001b[0;32m     18\u001b[0m loss \u001b[38;5;241m=\u001b[39m F\u001b[38;5;241m.\u001b[39mcross_entropy(output, target)\n\u001b[0;32m     19\u001b[0m loss\u001b[38;5;241m.\u001b[39mbackward()\n",
      "File \u001b[1;32mc:\\Users\\Joanna Brodbeck\\miniconda3\\envs\\dl4cv\\lib\\site-packages\\torch\\nn\\modules\\module.py:1736\u001b[0m, in \u001b[0;36mModule._wrapped_call_impl\u001b[1;34m(self, *args, **kwargs)\u001b[0m\n\u001b[0;32m   1734\u001b[0m     \u001b[38;5;28;01mreturn\u001b[39;00m \u001b[38;5;28mself\u001b[39m\u001b[38;5;241m.\u001b[39m_compiled_call_impl(\u001b[38;5;241m*\u001b[39margs, \u001b[38;5;241m*\u001b[39m\u001b[38;5;241m*\u001b[39mkwargs)  \u001b[38;5;66;03m# type: ignore[misc]\u001b[39;00m\n\u001b[0;32m   1735\u001b[0m \u001b[38;5;28;01melse\u001b[39;00m:\n\u001b[1;32m-> 1736\u001b[0m     \u001b[38;5;28;01mreturn\u001b[39;00m \u001b[38;5;28mself\u001b[39m\u001b[38;5;241m.\u001b[39m_call_impl(\u001b[38;5;241m*\u001b[39margs, \u001b[38;5;241m*\u001b[39m\u001b[38;5;241m*\u001b[39mkwargs)\n",
      "File \u001b[1;32mc:\\Users\\Joanna Brodbeck\\miniconda3\\envs\\dl4cv\\lib\\site-packages\\torch\\nn\\modules\\module.py:1747\u001b[0m, in \u001b[0;36mModule._call_impl\u001b[1;34m(self, *args, **kwargs)\u001b[0m\n\u001b[0;32m   1742\u001b[0m \u001b[38;5;66;03m# If we don't have any hooks, we want to skip the rest of the logic in\u001b[39;00m\n\u001b[0;32m   1743\u001b[0m \u001b[38;5;66;03m# this function, and just call forward.\u001b[39;00m\n\u001b[0;32m   1744\u001b[0m \u001b[38;5;28;01mif\u001b[39;00m \u001b[38;5;129;01mnot\u001b[39;00m (\u001b[38;5;28mself\u001b[39m\u001b[38;5;241m.\u001b[39m_backward_hooks \u001b[38;5;129;01mor\u001b[39;00m \u001b[38;5;28mself\u001b[39m\u001b[38;5;241m.\u001b[39m_backward_pre_hooks \u001b[38;5;129;01mor\u001b[39;00m \u001b[38;5;28mself\u001b[39m\u001b[38;5;241m.\u001b[39m_forward_hooks \u001b[38;5;129;01mor\u001b[39;00m \u001b[38;5;28mself\u001b[39m\u001b[38;5;241m.\u001b[39m_forward_pre_hooks\n\u001b[0;32m   1745\u001b[0m         \u001b[38;5;129;01mor\u001b[39;00m _global_backward_pre_hooks \u001b[38;5;129;01mor\u001b[39;00m _global_backward_hooks\n\u001b[0;32m   1746\u001b[0m         \u001b[38;5;129;01mor\u001b[39;00m _global_forward_hooks \u001b[38;5;129;01mor\u001b[39;00m _global_forward_pre_hooks):\n\u001b[1;32m-> 1747\u001b[0m     \u001b[38;5;28;01mreturn\u001b[39;00m forward_call(\u001b[38;5;241m*\u001b[39margs, \u001b[38;5;241m*\u001b[39m\u001b[38;5;241m*\u001b[39mkwargs)\n\u001b[0;32m   1749\u001b[0m result \u001b[38;5;241m=\u001b[39m \u001b[38;5;28;01mNone\u001b[39;00m\n\u001b[0;32m   1750\u001b[0m called_always_called_hooks \u001b[38;5;241m=\u001b[39m \u001b[38;5;28mset\u001b[39m()\n",
      "Cell \u001b[1;32mIn[47], line 27\u001b[0m, in \u001b[0;36mCNN.forward\u001b[1;34m(self, x)\u001b[0m\n\u001b[0;32m     25\u001b[0m \u001b[38;5;28;01mdef\u001b[39;00m \u001b[38;5;21mforward\u001b[39m(\u001b[38;5;28mself\u001b[39m, x):\n\u001b[1;32m---> 27\u001b[0m     x \u001b[38;5;241m=\u001b[39m \u001b[38;5;28;43mself\u001b[39;49m\u001b[38;5;241;43m.\u001b[39;49m\u001b[43mconv1\u001b[49m\u001b[43m(\u001b[49m\u001b[43mx\u001b[49m\u001b[43m)\u001b[49m\n\u001b[0;32m     28\u001b[0m     x \u001b[38;5;241m=\u001b[39m \u001b[38;5;28mself\u001b[39m\u001b[38;5;241m.\u001b[39mrelu(x)\n\u001b[0;32m     29\u001b[0m     x \u001b[38;5;241m=\u001b[39m \u001b[38;5;28mself\u001b[39m\u001b[38;5;241m.\u001b[39mconv2(x)\n",
      "File \u001b[1;32mc:\\Users\\Joanna Brodbeck\\miniconda3\\envs\\dl4cv\\lib\\site-packages\\torch\\nn\\modules\\module.py:1736\u001b[0m, in \u001b[0;36mModule._wrapped_call_impl\u001b[1;34m(self, *args, **kwargs)\u001b[0m\n\u001b[0;32m   1734\u001b[0m     \u001b[38;5;28;01mreturn\u001b[39;00m \u001b[38;5;28mself\u001b[39m\u001b[38;5;241m.\u001b[39m_compiled_call_impl(\u001b[38;5;241m*\u001b[39margs, \u001b[38;5;241m*\u001b[39m\u001b[38;5;241m*\u001b[39mkwargs)  \u001b[38;5;66;03m# type: ignore[misc]\u001b[39;00m\n\u001b[0;32m   1735\u001b[0m \u001b[38;5;28;01melse\u001b[39;00m:\n\u001b[1;32m-> 1736\u001b[0m     \u001b[38;5;28;01mreturn\u001b[39;00m \u001b[38;5;28mself\u001b[39m\u001b[38;5;241m.\u001b[39m_call_impl(\u001b[38;5;241m*\u001b[39margs, \u001b[38;5;241m*\u001b[39m\u001b[38;5;241m*\u001b[39mkwargs)\n",
      "File \u001b[1;32mc:\\Users\\Joanna Brodbeck\\miniconda3\\envs\\dl4cv\\lib\\site-packages\\torch\\nn\\modules\\module.py:1747\u001b[0m, in \u001b[0;36mModule._call_impl\u001b[1;34m(self, *args, **kwargs)\u001b[0m\n\u001b[0;32m   1742\u001b[0m \u001b[38;5;66;03m# If we don't have any hooks, we want to skip the rest of the logic in\u001b[39;00m\n\u001b[0;32m   1743\u001b[0m \u001b[38;5;66;03m# this function, and just call forward.\u001b[39;00m\n\u001b[0;32m   1744\u001b[0m \u001b[38;5;28;01mif\u001b[39;00m \u001b[38;5;129;01mnot\u001b[39;00m (\u001b[38;5;28mself\u001b[39m\u001b[38;5;241m.\u001b[39m_backward_hooks \u001b[38;5;129;01mor\u001b[39;00m \u001b[38;5;28mself\u001b[39m\u001b[38;5;241m.\u001b[39m_backward_pre_hooks \u001b[38;5;129;01mor\u001b[39;00m \u001b[38;5;28mself\u001b[39m\u001b[38;5;241m.\u001b[39m_forward_hooks \u001b[38;5;129;01mor\u001b[39;00m \u001b[38;5;28mself\u001b[39m\u001b[38;5;241m.\u001b[39m_forward_pre_hooks\n\u001b[0;32m   1745\u001b[0m         \u001b[38;5;129;01mor\u001b[39;00m _global_backward_pre_hooks \u001b[38;5;129;01mor\u001b[39;00m _global_backward_hooks\n\u001b[0;32m   1746\u001b[0m         \u001b[38;5;129;01mor\u001b[39;00m _global_forward_hooks \u001b[38;5;129;01mor\u001b[39;00m _global_forward_pre_hooks):\n\u001b[1;32m-> 1747\u001b[0m     \u001b[38;5;28;01mreturn\u001b[39;00m forward_call(\u001b[38;5;241m*\u001b[39margs, \u001b[38;5;241m*\u001b[39m\u001b[38;5;241m*\u001b[39mkwargs)\n\u001b[0;32m   1749\u001b[0m result \u001b[38;5;241m=\u001b[39m \u001b[38;5;28;01mNone\u001b[39;00m\n\u001b[0;32m   1750\u001b[0m called_always_called_hooks \u001b[38;5;241m=\u001b[39m \u001b[38;5;28mset\u001b[39m()\n",
      "File \u001b[1;32mc:\\Users\\Joanna Brodbeck\\miniconda3\\envs\\dl4cv\\lib\\site-packages\\torch\\nn\\modules\\conv.py:554\u001b[0m, in \u001b[0;36mConv2d.forward\u001b[1;34m(self, input)\u001b[0m\n\u001b[0;32m    553\u001b[0m \u001b[38;5;28;01mdef\u001b[39;00m \u001b[38;5;21mforward\u001b[39m(\u001b[38;5;28mself\u001b[39m, \u001b[38;5;28minput\u001b[39m: Tensor) \u001b[38;5;241m-\u001b[39m\u001b[38;5;241m>\u001b[39m Tensor:\n\u001b[1;32m--> 554\u001b[0m     \u001b[38;5;28;01mreturn\u001b[39;00m \u001b[38;5;28;43mself\u001b[39;49m\u001b[38;5;241;43m.\u001b[39;49m\u001b[43m_conv_forward\u001b[49m\u001b[43m(\u001b[49m\u001b[38;5;28;43minput\u001b[39;49m\u001b[43m,\u001b[49m\u001b[43m \u001b[49m\u001b[38;5;28;43mself\u001b[39;49m\u001b[38;5;241;43m.\u001b[39;49m\u001b[43mweight\u001b[49m\u001b[43m,\u001b[49m\u001b[43m \u001b[49m\u001b[38;5;28;43mself\u001b[39;49m\u001b[38;5;241;43m.\u001b[39;49m\u001b[43mbias\u001b[49m\u001b[43m)\u001b[49m\n",
      "File \u001b[1;32mc:\\Users\\Joanna Brodbeck\\miniconda3\\envs\\dl4cv\\lib\\site-packages\\torch\\nn\\modules\\conv.py:549\u001b[0m, in \u001b[0;36mConv2d._conv_forward\u001b[1;34m(self, input, weight, bias)\u001b[0m\n\u001b[0;32m    537\u001b[0m \u001b[38;5;28;01mif\u001b[39;00m \u001b[38;5;28mself\u001b[39m\u001b[38;5;241m.\u001b[39mpadding_mode \u001b[38;5;241m!=\u001b[39m \u001b[38;5;124m\"\u001b[39m\u001b[38;5;124mzeros\u001b[39m\u001b[38;5;124m\"\u001b[39m:\n\u001b[0;32m    538\u001b[0m     \u001b[38;5;28;01mreturn\u001b[39;00m F\u001b[38;5;241m.\u001b[39mconv2d(\n\u001b[0;32m    539\u001b[0m         F\u001b[38;5;241m.\u001b[39mpad(\n\u001b[0;32m    540\u001b[0m             \u001b[38;5;28minput\u001b[39m, \u001b[38;5;28mself\u001b[39m\u001b[38;5;241m.\u001b[39m_reversed_padding_repeated_twice, mode\u001b[38;5;241m=\u001b[39m\u001b[38;5;28mself\u001b[39m\u001b[38;5;241m.\u001b[39mpadding_mode\n\u001b[1;32m   (...)\u001b[0m\n\u001b[0;32m    547\u001b[0m         \u001b[38;5;28mself\u001b[39m\u001b[38;5;241m.\u001b[39mgroups,\n\u001b[0;32m    548\u001b[0m     )\n\u001b[1;32m--> 549\u001b[0m \u001b[38;5;28;01mreturn\u001b[39;00m \u001b[43mF\u001b[49m\u001b[38;5;241;43m.\u001b[39;49m\u001b[43mconv2d\u001b[49m\u001b[43m(\u001b[49m\n\u001b[0;32m    550\u001b[0m \u001b[43m    \u001b[49m\u001b[38;5;28;43minput\u001b[39;49m\u001b[43m,\u001b[49m\u001b[43m \u001b[49m\u001b[43mweight\u001b[49m\u001b[43m,\u001b[49m\u001b[43m \u001b[49m\u001b[43mbias\u001b[49m\u001b[43m,\u001b[49m\u001b[43m \u001b[49m\u001b[38;5;28;43mself\u001b[39;49m\u001b[38;5;241;43m.\u001b[39;49m\u001b[43mstride\u001b[49m\u001b[43m,\u001b[49m\u001b[43m \u001b[49m\u001b[38;5;28;43mself\u001b[39;49m\u001b[38;5;241;43m.\u001b[39;49m\u001b[43mpadding\u001b[49m\u001b[43m,\u001b[49m\u001b[43m \u001b[49m\u001b[38;5;28;43mself\u001b[39;49m\u001b[38;5;241;43m.\u001b[39;49m\u001b[43mdilation\u001b[49m\u001b[43m,\u001b[49m\u001b[43m \u001b[49m\u001b[38;5;28;43mself\u001b[39;49m\u001b[38;5;241;43m.\u001b[39;49m\u001b[43mgroups\u001b[49m\n\u001b[0;32m    551\u001b[0m \u001b[43m\u001b[49m\u001b[43m)\u001b[49m\n",
      "\u001b[1;31mRuntimeError\u001b[0m: Given groups=1, weight of size [32, 1, 3, 3], expected input[128, 3, 32, 32] to have 1 channels, but got 3 channels instead"
     ]
    }
   ],
   "source": [
    "epochs = 5\n",
    "for epoch in range(1, epochs + 1):\n",
    "    train(cnn, dl_train, optimizer, epoch, log_interval=100)\n",
    "    test(cnn, dl_test)    \n",
    "    scheduler.step()"
   ]
  },
  {
   "cell_type": "markdown",
   "metadata": {},
   "source": [
    "This will not work. You should see the following error message\n",
    "\n",
    "```\n",
    "Given groups=1, weight of size [32, 1, 3, 3], expected input[128, 3, 32, 32] to have 1 channels, but got 3 channels instead\n",
    "```\n",
    "\n",
    "This error is telling us that something is not right in the definition of our model. Copy the CNN class from above and make changes, so the training works."
   ]
  },
  {
   "cell_type": "code",
   "execution_count": 64,
   "metadata": {},
   "outputs": [
    {
     "ename": "RuntimeError",
     "evalue": "mat1 and mat2 shapes cannot be multiplied (1x12544 and 3136x128)",
     "output_type": "error",
     "traceback": [
      "\u001b[1;31m---------------------------------------------------------------------------\u001b[0m",
      "\u001b[1;31mRuntimeError\u001b[0m                              Traceback (most recent call last)",
      "Cell \u001b[1;32mIn[64], line 47\u001b[0m\n\u001b[0;32m     41\u001b[0m         x \u001b[38;5;241m=\u001b[39m \u001b[38;5;28mself\u001b[39m\u001b[38;5;241m.\u001b[39mfc2(x)\n\u001b[0;32m     44\u001b[0m         \u001b[38;5;28;01mreturn\u001b[39;00m x\n\u001b[1;32m---> 47\u001b[0m \u001b[38;5;28mprint\u001b[39m(\u001b[43mCNN\u001b[49m\u001b[43m(\u001b[49m\u001b[43m)\u001b[49m\u001b[43m(\u001b[49m\u001b[43mtorch\u001b[49m\u001b[38;5;241;43m.\u001b[39;49m\u001b[43mrandn\u001b[49m\u001b[43m(\u001b[49m\u001b[38;5;241;43m1\u001b[39;49m\u001b[43m,\u001b[49m\u001b[43m \u001b[49m\u001b[38;5;241;43m3\u001b[39;49m\u001b[43m,\u001b[49m\u001b[43m \u001b[49m\u001b[38;5;241;43m32\u001b[39;49m\u001b[43m,\u001b[49m\u001b[43m \u001b[49m\u001b[38;5;241;43m32\u001b[39;49m\u001b[43m)\u001b[49m\u001b[43m)\u001b[49m\u001b[38;5;241m.\u001b[39mshape)  \u001b[38;5;66;03m# Should print torch.Size([1, 10])\u001b[39;00m\n",
      "File \u001b[1;32mc:\\Users\\Joanna Brodbeck\\miniconda3\\envs\\dl4cv\\lib\\site-packages\\torch\\nn\\modules\\module.py:1736\u001b[0m, in \u001b[0;36mModule._wrapped_call_impl\u001b[1;34m(self, *args, **kwargs)\u001b[0m\n\u001b[0;32m   1734\u001b[0m     \u001b[38;5;28;01mreturn\u001b[39;00m \u001b[38;5;28mself\u001b[39m\u001b[38;5;241m.\u001b[39m_compiled_call_impl(\u001b[38;5;241m*\u001b[39margs, \u001b[38;5;241m*\u001b[39m\u001b[38;5;241m*\u001b[39mkwargs)  \u001b[38;5;66;03m# type: ignore[misc]\u001b[39;00m\n\u001b[0;32m   1735\u001b[0m \u001b[38;5;28;01melse\u001b[39;00m:\n\u001b[1;32m-> 1736\u001b[0m     \u001b[38;5;28;01mreturn\u001b[39;00m \u001b[38;5;28mself\u001b[39m\u001b[38;5;241m.\u001b[39m_call_impl(\u001b[38;5;241m*\u001b[39margs, \u001b[38;5;241m*\u001b[39m\u001b[38;5;241m*\u001b[39mkwargs)\n",
      "File \u001b[1;32mc:\\Users\\Joanna Brodbeck\\miniconda3\\envs\\dl4cv\\lib\\site-packages\\torch\\nn\\modules\\module.py:1747\u001b[0m, in \u001b[0;36mModule._call_impl\u001b[1;34m(self, *args, **kwargs)\u001b[0m\n\u001b[0;32m   1742\u001b[0m \u001b[38;5;66;03m# If we don't have any hooks, we want to skip the rest of the logic in\u001b[39;00m\n\u001b[0;32m   1743\u001b[0m \u001b[38;5;66;03m# this function, and just call forward.\u001b[39;00m\n\u001b[0;32m   1744\u001b[0m \u001b[38;5;28;01mif\u001b[39;00m \u001b[38;5;129;01mnot\u001b[39;00m (\u001b[38;5;28mself\u001b[39m\u001b[38;5;241m.\u001b[39m_backward_hooks \u001b[38;5;129;01mor\u001b[39;00m \u001b[38;5;28mself\u001b[39m\u001b[38;5;241m.\u001b[39m_backward_pre_hooks \u001b[38;5;129;01mor\u001b[39;00m \u001b[38;5;28mself\u001b[39m\u001b[38;5;241m.\u001b[39m_forward_hooks \u001b[38;5;129;01mor\u001b[39;00m \u001b[38;5;28mself\u001b[39m\u001b[38;5;241m.\u001b[39m_forward_pre_hooks\n\u001b[0;32m   1745\u001b[0m         \u001b[38;5;129;01mor\u001b[39;00m _global_backward_pre_hooks \u001b[38;5;129;01mor\u001b[39;00m _global_backward_hooks\n\u001b[0;32m   1746\u001b[0m         \u001b[38;5;129;01mor\u001b[39;00m _global_forward_hooks \u001b[38;5;129;01mor\u001b[39;00m _global_forward_pre_hooks):\n\u001b[1;32m-> 1747\u001b[0m     \u001b[38;5;28;01mreturn\u001b[39;00m forward_call(\u001b[38;5;241m*\u001b[39margs, \u001b[38;5;241m*\u001b[39m\u001b[38;5;241m*\u001b[39mkwargs)\n\u001b[0;32m   1749\u001b[0m result \u001b[38;5;241m=\u001b[39m \u001b[38;5;28;01mNone\u001b[39;00m\n\u001b[0;32m   1750\u001b[0m called_always_called_hooks \u001b[38;5;241m=\u001b[39m \u001b[38;5;28mset\u001b[39m()\n",
      "Cell \u001b[1;32mIn[64], line 38\u001b[0m, in \u001b[0;36mCNN.forward\u001b[1;34m(self, x)\u001b[0m\n\u001b[0;32m     34\u001b[0m x \u001b[38;5;241m=\u001b[39m \u001b[38;5;28mself\u001b[39m\u001b[38;5;241m.\u001b[39mdropout1(x)\n\u001b[0;32m     36\u001b[0m x \u001b[38;5;241m=\u001b[39m torch\u001b[38;5;241m.\u001b[39mflatten(x, \u001b[38;5;241m1\u001b[39m)\n\u001b[1;32m---> 38\u001b[0m x \u001b[38;5;241m=\u001b[39m \u001b[38;5;28;43mself\u001b[39;49m\u001b[38;5;241;43m.\u001b[39;49m\u001b[43mfc1\u001b[49m\u001b[43m(\u001b[49m\u001b[43mx\u001b[49m\u001b[43m)\u001b[49m\n\u001b[0;32m     39\u001b[0m x \u001b[38;5;241m=\u001b[39m \u001b[38;5;28mself\u001b[39m\u001b[38;5;241m.\u001b[39mrelu(x)\n\u001b[0;32m     40\u001b[0m x \u001b[38;5;241m=\u001b[39m \u001b[38;5;28mself\u001b[39m\u001b[38;5;241m.\u001b[39mdropout2(x)\n",
      "File \u001b[1;32mc:\\Users\\Joanna Brodbeck\\miniconda3\\envs\\dl4cv\\lib\\site-packages\\torch\\nn\\modules\\module.py:1736\u001b[0m, in \u001b[0;36mModule._wrapped_call_impl\u001b[1;34m(self, *args, **kwargs)\u001b[0m\n\u001b[0;32m   1734\u001b[0m     \u001b[38;5;28;01mreturn\u001b[39;00m \u001b[38;5;28mself\u001b[39m\u001b[38;5;241m.\u001b[39m_compiled_call_impl(\u001b[38;5;241m*\u001b[39margs, \u001b[38;5;241m*\u001b[39m\u001b[38;5;241m*\u001b[39mkwargs)  \u001b[38;5;66;03m# type: ignore[misc]\u001b[39;00m\n\u001b[0;32m   1735\u001b[0m \u001b[38;5;28;01melse\u001b[39;00m:\n\u001b[1;32m-> 1736\u001b[0m     \u001b[38;5;28;01mreturn\u001b[39;00m \u001b[38;5;28mself\u001b[39m\u001b[38;5;241m.\u001b[39m_call_impl(\u001b[38;5;241m*\u001b[39margs, \u001b[38;5;241m*\u001b[39m\u001b[38;5;241m*\u001b[39mkwargs)\n",
      "File \u001b[1;32mc:\\Users\\Joanna Brodbeck\\miniconda3\\envs\\dl4cv\\lib\\site-packages\\torch\\nn\\modules\\module.py:1747\u001b[0m, in \u001b[0;36mModule._call_impl\u001b[1;34m(self, *args, **kwargs)\u001b[0m\n\u001b[0;32m   1742\u001b[0m \u001b[38;5;66;03m# If we don't have any hooks, we want to skip the rest of the logic in\u001b[39;00m\n\u001b[0;32m   1743\u001b[0m \u001b[38;5;66;03m# this function, and just call forward.\u001b[39;00m\n\u001b[0;32m   1744\u001b[0m \u001b[38;5;28;01mif\u001b[39;00m \u001b[38;5;129;01mnot\u001b[39;00m (\u001b[38;5;28mself\u001b[39m\u001b[38;5;241m.\u001b[39m_backward_hooks \u001b[38;5;129;01mor\u001b[39;00m \u001b[38;5;28mself\u001b[39m\u001b[38;5;241m.\u001b[39m_backward_pre_hooks \u001b[38;5;129;01mor\u001b[39;00m \u001b[38;5;28mself\u001b[39m\u001b[38;5;241m.\u001b[39m_forward_hooks \u001b[38;5;129;01mor\u001b[39;00m \u001b[38;5;28mself\u001b[39m\u001b[38;5;241m.\u001b[39m_forward_pre_hooks\n\u001b[0;32m   1745\u001b[0m         \u001b[38;5;129;01mor\u001b[39;00m _global_backward_pre_hooks \u001b[38;5;129;01mor\u001b[39;00m _global_backward_hooks\n\u001b[0;32m   1746\u001b[0m         \u001b[38;5;129;01mor\u001b[39;00m _global_forward_hooks \u001b[38;5;129;01mor\u001b[39;00m _global_forward_pre_hooks):\n\u001b[1;32m-> 1747\u001b[0m     \u001b[38;5;28;01mreturn\u001b[39;00m forward_call(\u001b[38;5;241m*\u001b[39margs, \u001b[38;5;241m*\u001b[39m\u001b[38;5;241m*\u001b[39mkwargs)\n\u001b[0;32m   1749\u001b[0m result \u001b[38;5;241m=\u001b[39m \u001b[38;5;28;01mNone\u001b[39;00m\n\u001b[0;32m   1750\u001b[0m called_always_called_hooks \u001b[38;5;241m=\u001b[39m \u001b[38;5;28mset\u001b[39m()\n",
      "File \u001b[1;32mc:\\Users\\Joanna Brodbeck\\miniconda3\\envs\\dl4cv\\lib\\site-packages\\torch\\nn\\modules\\linear.py:125\u001b[0m, in \u001b[0;36mLinear.forward\u001b[1;34m(self, input)\u001b[0m\n\u001b[0;32m    124\u001b[0m \u001b[38;5;28;01mdef\u001b[39;00m \u001b[38;5;21mforward\u001b[39m(\u001b[38;5;28mself\u001b[39m, \u001b[38;5;28minput\u001b[39m: Tensor) \u001b[38;5;241m-\u001b[39m\u001b[38;5;241m>\u001b[39m Tensor:\n\u001b[1;32m--> 125\u001b[0m     \u001b[38;5;28;01mreturn\u001b[39;00m \u001b[43mF\u001b[49m\u001b[38;5;241;43m.\u001b[39;49m\u001b[43mlinear\u001b[49m\u001b[43m(\u001b[49m\u001b[38;5;28;43minput\u001b[39;49m\u001b[43m,\u001b[49m\u001b[43m \u001b[49m\u001b[38;5;28;43mself\u001b[39;49m\u001b[38;5;241;43m.\u001b[39;49m\u001b[43mweight\u001b[49m\u001b[43m,\u001b[49m\u001b[43m \u001b[49m\u001b[38;5;28;43mself\u001b[39;49m\u001b[38;5;241;43m.\u001b[39;49m\u001b[43mbias\u001b[49m\u001b[43m)\u001b[49m\n",
      "\u001b[1;31mRuntimeError\u001b[0m: mat1 and mat2 shapes cannot be multiplied (1x12544 and 3136x128)"
     ]
    }
   ],
   "source": [
    "#########################################################################\n",
    "# TODO: Adapt the definition from the CNN class above to work on CIFAR.\n",
    "# You can copy and run the following prompt for evaluation:\n",
    "# CNN()(torch.randn(1,3,32,32)).shape\n",
    "# It should print 'torch.Size([1, 10])'\n",
    "# Hint: You need to change 2 things. \n",
    "#########################################################################\n",
    "\n",
    "class CNN(nn.Module):\n",
    "    def __init__(self):\n",
    "        super(CNN, self).__init__()    \n",
    "                     \n",
    "        self.conv1 = nn.Conv2d(3, 32, 3, 1, 0)\n",
    "        self.conv2 = nn.Conv2d(32, 64, 3, 1, 0)\n",
    "        self.pool = nn.MaxPool2d(2, 2, 0)\n",
    "        self.dropout1 = nn.Dropout2d(0.25)     \n",
    "        \n",
    "        # After conv1: (32-3+1) x (32-3+1) = 30 x 30\n",
    "        # After conv2: (30-3+1) x (30-3+1) = 28 x 28\n",
    "        # After pooling: (28/2) x (28/2) = 14 x 14\n",
    "        # Total features = 14 * 14 * 64 = 12544\n",
    "        self.fc1 = nn.Linear(14 * 14 * 64, 128)\n",
    "        self.dropout2 = nn.Dropout(0.5)\n",
    "        self.fc2 = nn.Linear(128, 10)\n",
    "        \n",
    "        self.relu = nn.ReLU()\n",
    "        \n",
    "        \n",
    "        \n",
    "    def forward(self, x):\n",
    "        \n",
    "        x = self.conv1(x)\n",
    "        x = self.relu(x)\n",
    "        x = self.conv2(x)\n",
    "        x = self.relu(x)\n",
    "        x = self.pool(x)\n",
    "        x = self.dropout1(x)\n",
    "        \n",
    "        x = torch.flatten(x, 1)\n",
    "        \n",
    "        x = self.fc1(x)\n",
    "        x = self.relu(x)\n",
    "        x = self.dropout2(x)\n",
    "        x = self.fc2(x)\n",
    "        \n",
    "        \n",
    "        return x\n",
    "\n",
    "\n",
    "CNN()(torch.randn(1,3,32,32)).shape"
   ]
  },
  {
   "cell_type": "markdown",
   "metadata": {},
   "source": [
    "Let's try again"
   ]
  },
  {
   "cell_type": "code",
   "execution_count": 61,
   "metadata": {
    "scrolled": true
   },
   "outputs": [
    {
     "ename": "RuntimeError",
     "evalue": "mat1 and mat2 shapes cannot be multiplied (128x12544 and 9216x128)",
     "output_type": "error",
     "traceback": [
      "\u001b[1;31m---------------------------------------------------------------------------\u001b[0m",
      "\u001b[1;31mRuntimeError\u001b[0m                              Traceback (most recent call last)",
      "Cell \u001b[1;32mIn[61], line 7\u001b[0m\n\u001b[0;32m      5\u001b[0m epochs \u001b[38;5;241m=\u001b[39m \u001b[38;5;241m10\u001b[39m\n\u001b[0;32m      6\u001b[0m \u001b[38;5;28;01mfor\u001b[39;00m epoch \u001b[38;5;129;01min\u001b[39;00m \u001b[38;5;28mrange\u001b[39m(\u001b[38;5;241m1\u001b[39m, epochs \u001b[38;5;241m+\u001b[39m \u001b[38;5;241m1\u001b[39m):\n\u001b[1;32m----> 7\u001b[0m     \u001b[43mtrain\u001b[49m\u001b[43m(\u001b[49m\u001b[43mcnn\u001b[49m\u001b[43m,\u001b[49m\u001b[43m \u001b[49m\u001b[43mdl_train\u001b[49m\u001b[43m,\u001b[49m\u001b[43m \u001b[49m\u001b[43moptimizer\u001b[49m\u001b[43m,\u001b[49m\u001b[43m \u001b[49m\u001b[43mepoch\u001b[49m\u001b[43m,\u001b[49m\u001b[43m \u001b[49m\u001b[43mlog_interval\u001b[49m\u001b[38;5;241;43m=\u001b[39;49m\u001b[38;5;241;43m100\u001b[39;49m\u001b[43m)\u001b[49m\n\u001b[0;32m      8\u001b[0m     test(cnn, dl_test)    \n\u001b[0;32m      9\u001b[0m     scheduler\u001b[38;5;241m.\u001b[39mstep()\n",
      "Cell \u001b[1;32mIn[35], line 17\u001b[0m, in \u001b[0;36mtrain\u001b[1;34m(model, dl_train, optimizer, epoch, log_interval, device)\u001b[0m\n\u001b[0;32m     14\u001b[0m optimizer\u001b[38;5;241m.\u001b[39mzero_grad()         \n\u001b[0;32m     16\u001b[0m \u001b[38;5;66;03m##### implement this part #####\u001b[39;00m\n\u001b[1;32m---> 17\u001b[0m output \u001b[38;5;241m=\u001b[39m \u001b[43mmodel\u001b[49m\u001b[43m(\u001b[49m\u001b[43mdata\u001b[49m\u001b[43m)\u001b[49m\n\u001b[0;32m     18\u001b[0m loss \u001b[38;5;241m=\u001b[39m F\u001b[38;5;241m.\u001b[39mcross_entropy(output, target)\n\u001b[0;32m     19\u001b[0m loss\u001b[38;5;241m.\u001b[39mbackward()\n",
      "File \u001b[1;32mc:\\Users\\Joanna Brodbeck\\miniconda3\\envs\\dl4cv\\lib\\site-packages\\torch\\nn\\modules\\module.py:1736\u001b[0m, in \u001b[0;36mModule._wrapped_call_impl\u001b[1;34m(self, *args, **kwargs)\u001b[0m\n\u001b[0;32m   1734\u001b[0m     \u001b[38;5;28;01mreturn\u001b[39;00m \u001b[38;5;28mself\u001b[39m\u001b[38;5;241m.\u001b[39m_compiled_call_impl(\u001b[38;5;241m*\u001b[39margs, \u001b[38;5;241m*\u001b[39m\u001b[38;5;241m*\u001b[39mkwargs)  \u001b[38;5;66;03m# type: ignore[misc]\u001b[39;00m\n\u001b[0;32m   1735\u001b[0m \u001b[38;5;28;01melse\u001b[39;00m:\n\u001b[1;32m-> 1736\u001b[0m     \u001b[38;5;28;01mreturn\u001b[39;00m \u001b[38;5;28mself\u001b[39m\u001b[38;5;241m.\u001b[39m_call_impl(\u001b[38;5;241m*\u001b[39margs, \u001b[38;5;241m*\u001b[39m\u001b[38;5;241m*\u001b[39mkwargs)\n",
      "File \u001b[1;32mc:\\Users\\Joanna Brodbeck\\miniconda3\\envs\\dl4cv\\lib\\site-packages\\torch\\nn\\modules\\module.py:1747\u001b[0m, in \u001b[0;36mModule._call_impl\u001b[1;34m(self, *args, **kwargs)\u001b[0m\n\u001b[0;32m   1742\u001b[0m \u001b[38;5;66;03m# If we don't have any hooks, we want to skip the rest of the logic in\u001b[39;00m\n\u001b[0;32m   1743\u001b[0m \u001b[38;5;66;03m# this function, and just call forward.\u001b[39;00m\n\u001b[0;32m   1744\u001b[0m \u001b[38;5;28;01mif\u001b[39;00m \u001b[38;5;129;01mnot\u001b[39;00m (\u001b[38;5;28mself\u001b[39m\u001b[38;5;241m.\u001b[39m_backward_hooks \u001b[38;5;129;01mor\u001b[39;00m \u001b[38;5;28mself\u001b[39m\u001b[38;5;241m.\u001b[39m_backward_pre_hooks \u001b[38;5;129;01mor\u001b[39;00m \u001b[38;5;28mself\u001b[39m\u001b[38;5;241m.\u001b[39m_forward_hooks \u001b[38;5;129;01mor\u001b[39;00m \u001b[38;5;28mself\u001b[39m\u001b[38;5;241m.\u001b[39m_forward_pre_hooks\n\u001b[0;32m   1745\u001b[0m         \u001b[38;5;129;01mor\u001b[39;00m _global_backward_pre_hooks \u001b[38;5;129;01mor\u001b[39;00m _global_backward_hooks\n\u001b[0;32m   1746\u001b[0m         \u001b[38;5;129;01mor\u001b[39;00m _global_forward_hooks \u001b[38;5;129;01mor\u001b[39;00m _global_forward_pre_hooks):\n\u001b[1;32m-> 1747\u001b[0m     \u001b[38;5;28;01mreturn\u001b[39;00m forward_call(\u001b[38;5;241m*\u001b[39margs, \u001b[38;5;241m*\u001b[39m\u001b[38;5;241m*\u001b[39mkwargs)\n\u001b[0;32m   1749\u001b[0m result \u001b[38;5;241m=\u001b[39m \u001b[38;5;28;01mNone\u001b[39;00m\n\u001b[0;32m   1750\u001b[0m called_always_called_hooks \u001b[38;5;241m=\u001b[39m \u001b[38;5;28mset\u001b[39m()\n",
      "Cell \u001b[1;32mIn[60], line 38\u001b[0m, in \u001b[0;36mCNN.forward\u001b[1;34m(self, x)\u001b[0m\n\u001b[0;32m     34\u001b[0m x \u001b[38;5;241m=\u001b[39m \u001b[38;5;28mself\u001b[39m\u001b[38;5;241m.\u001b[39mdropout1(x)\n\u001b[0;32m     36\u001b[0m x \u001b[38;5;241m=\u001b[39m torch\u001b[38;5;241m.\u001b[39mflatten(x, \u001b[38;5;241m1\u001b[39m)\n\u001b[1;32m---> 38\u001b[0m x \u001b[38;5;241m=\u001b[39m \u001b[38;5;28;43mself\u001b[39;49m\u001b[38;5;241;43m.\u001b[39;49m\u001b[43mfc1\u001b[49m\u001b[43m(\u001b[49m\u001b[43mx\u001b[49m\u001b[43m)\u001b[49m\n\u001b[0;32m     39\u001b[0m x \u001b[38;5;241m=\u001b[39m \u001b[38;5;28mself\u001b[39m\u001b[38;5;241m.\u001b[39mrelu(x)\n\u001b[0;32m     40\u001b[0m x \u001b[38;5;241m=\u001b[39m \u001b[38;5;28mself\u001b[39m\u001b[38;5;241m.\u001b[39mdropout2(x)\n",
      "File \u001b[1;32mc:\\Users\\Joanna Brodbeck\\miniconda3\\envs\\dl4cv\\lib\\site-packages\\torch\\nn\\modules\\module.py:1736\u001b[0m, in \u001b[0;36mModule._wrapped_call_impl\u001b[1;34m(self, *args, **kwargs)\u001b[0m\n\u001b[0;32m   1734\u001b[0m     \u001b[38;5;28;01mreturn\u001b[39;00m \u001b[38;5;28mself\u001b[39m\u001b[38;5;241m.\u001b[39m_compiled_call_impl(\u001b[38;5;241m*\u001b[39margs, \u001b[38;5;241m*\u001b[39m\u001b[38;5;241m*\u001b[39mkwargs)  \u001b[38;5;66;03m# type: ignore[misc]\u001b[39;00m\n\u001b[0;32m   1735\u001b[0m \u001b[38;5;28;01melse\u001b[39;00m:\n\u001b[1;32m-> 1736\u001b[0m     \u001b[38;5;28;01mreturn\u001b[39;00m \u001b[38;5;28mself\u001b[39m\u001b[38;5;241m.\u001b[39m_call_impl(\u001b[38;5;241m*\u001b[39margs, \u001b[38;5;241m*\u001b[39m\u001b[38;5;241m*\u001b[39mkwargs)\n",
      "File \u001b[1;32mc:\\Users\\Joanna Brodbeck\\miniconda3\\envs\\dl4cv\\lib\\site-packages\\torch\\nn\\modules\\module.py:1747\u001b[0m, in \u001b[0;36mModule._call_impl\u001b[1;34m(self, *args, **kwargs)\u001b[0m\n\u001b[0;32m   1742\u001b[0m \u001b[38;5;66;03m# If we don't have any hooks, we want to skip the rest of the logic in\u001b[39;00m\n\u001b[0;32m   1743\u001b[0m \u001b[38;5;66;03m# this function, and just call forward.\u001b[39;00m\n\u001b[0;32m   1744\u001b[0m \u001b[38;5;28;01mif\u001b[39;00m \u001b[38;5;129;01mnot\u001b[39;00m (\u001b[38;5;28mself\u001b[39m\u001b[38;5;241m.\u001b[39m_backward_hooks \u001b[38;5;129;01mor\u001b[39;00m \u001b[38;5;28mself\u001b[39m\u001b[38;5;241m.\u001b[39m_backward_pre_hooks \u001b[38;5;129;01mor\u001b[39;00m \u001b[38;5;28mself\u001b[39m\u001b[38;5;241m.\u001b[39m_forward_hooks \u001b[38;5;129;01mor\u001b[39;00m \u001b[38;5;28mself\u001b[39m\u001b[38;5;241m.\u001b[39m_forward_pre_hooks\n\u001b[0;32m   1745\u001b[0m         \u001b[38;5;129;01mor\u001b[39;00m _global_backward_pre_hooks \u001b[38;5;129;01mor\u001b[39;00m _global_backward_hooks\n\u001b[0;32m   1746\u001b[0m         \u001b[38;5;129;01mor\u001b[39;00m _global_forward_hooks \u001b[38;5;129;01mor\u001b[39;00m _global_forward_pre_hooks):\n\u001b[1;32m-> 1747\u001b[0m     \u001b[38;5;28;01mreturn\u001b[39;00m forward_call(\u001b[38;5;241m*\u001b[39margs, \u001b[38;5;241m*\u001b[39m\u001b[38;5;241m*\u001b[39mkwargs)\n\u001b[0;32m   1749\u001b[0m result \u001b[38;5;241m=\u001b[39m \u001b[38;5;28;01mNone\u001b[39;00m\n\u001b[0;32m   1750\u001b[0m called_always_called_hooks \u001b[38;5;241m=\u001b[39m \u001b[38;5;28mset\u001b[39m()\n",
      "File \u001b[1;32mc:\\Users\\Joanna Brodbeck\\miniconda3\\envs\\dl4cv\\lib\\site-packages\\torch\\nn\\modules\\linear.py:125\u001b[0m, in \u001b[0;36mLinear.forward\u001b[1;34m(self, input)\u001b[0m\n\u001b[0;32m    124\u001b[0m \u001b[38;5;28;01mdef\u001b[39;00m \u001b[38;5;21mforward\u001b[39m(\u001b[38;5;28mself\u001b[39m, \u001b[38;5;28minput\u001b[39m: Tensor) \u001b[38;5;241m-\u001b[39m\u001b[38;5;241m>\u001b[39m Tensor:\n\u001b[1;32m--> 125\u001b[0m     \u001b[38;5;28;01mreturn\u001b[39;00m \u001b[43mF\u001b[49m\u001b[38;5;241;43m.\u001b[39;49m\u001b[43mlinear\u001b[49m\u001b[43m(\u001b[49m\u001b[38;5;28;43minput\u001b[39;49m\u001b[43m,\u001b[49m\u001b[43m \u001b[49m\u001b[38;5;28;43mself\u001b[39;49m\u001b[38;5;241;43m.\u001b[39;49m\u001b[43mweight\u001b[49m\u001b[43m,\u001b[49m\u001b[43m \u001b[49m\u001b[38;5;28;43mself\u001b[39;49m\u001b[38;5;241;43m.\u001b[39;49m\u001b[43mbias\u001b[49m\u001b[43m)\u001b[49m\n",
      "\u001b[1;31mRuntimeError\u001b[0m: mat1 and mat2 shapes cannot be multiplied (128x12544 and 9216x128)"
     ]
    }
   ],
   "source": [
    "cnn = CNN()\n",
    "optimizer = optim.SGD(cnn.parameters(), lr=0.1, momentum=0.9, weight_decay=5e-4)\n",
    "scheduler = torch.optim.lr_scheduler.CosineAnnealingLR(optimizer, T_max=200)\n",
    "\n",
    "epochs = 10\n",
    "for epoch in range(1, epochs + 1):\n",
    "    train(cnn, dl_train, optimizer, epoch, log_interval=100)\n",
    "    test(cnn, dl_test)    \n",
    "    scheduler.step()"
   ]
  },
  {
   "cell_type": "markdown",
   "metadata": {},
   "source": [
    "This should give 40 - 50 % - and if you are not already on Colab it will give you a stressed out laptop. The performance is a lot better than random, but we can definitely do better."
   ]
  },
  {
   "cell_type": "markdown",
   "metadata": {},
   "source": [
    "### Have fun with GPUs\n",
    "You can already call it a day until this point because we won't grade the rest of the excecise. You can have more fun with the rest :)\n"
   ]
  },
  {
   "cell_type": "markdown",
   "metadata": {},
   "source": [
    "\n",
    "If you didn't already, move to colab. To use a GPU, follow on the collaboratory menu tabs, \"Runtime\" => \"Change runtime type\" and set it to GPU. Then run the same training loop but now on GPU. \n",
    "\n",
    "It as easy as:"
   ]
  },
  {
   "cell_type": "code",
   "execution_count": null,
   "metadata": {},
   "outputs": [],
   "source": [
    "device = 'cuda'\n",
    "if device == 'cuda': torch.backends.cudnn.benchmark = True # additional speed up\n",
    "\n",
    "cnn = CNN()\n",
    "optimizer = optim.SGD(cnn.parameters(), lr=0.1, momentum=0.9, weight_decay=5e-4)\n",
    "scheduler = torch.optim.lr_scheduler.CosineAnnealingLR(optimizer, T_max=200)\n",
    "cnn = cnn.to(device)\n",
    "\n",
    "epochs = 10\n",
    "for epoch in range(1, epochs + 1):\n",
    "    train(cnn, dl_train, optimizer, epoch, log_interval=100, device=device)\n",
    "    test(cnn, dl_test, device=device)    \n",
    "    scheduler.step()"
   ]
  },
  {
   "cell_type": "markdown",
   "metadata": {},
   "source": [
    "This should be way faster now. But the true advantage of the GPU is that we can use much bigger models now and still train them in a reasonable amount of time. PyTorch is again very handy. The torchvision library comes with varies state-of-the-art model architectures, some of which you have seen in the lecture."
   ]
  },
  {
   "cell_type": "code",
   "execution_count": null,
   "metadata": {},
   "outputs": [],
   "source": [
    "from torchvision.models import resnet18"
   ]
  },
  {
   "cell_type": "code",
   "execution_count": null,
   "metadata": {
    "scrolled": true
   },
   "outputs": [],
   "source": [
    "cnn = resnet18()\n",
    "print(cnn)"
   ]
  },
  {
   "cell_type": "markdown",
   "metadata": {},
   "source": [
    "Looks scary! But the only thing you need to change to make it work on CIFAR is the last layer.\n",
    "Currently the last layer is:\n",
    "```\n",
    "  (fc): Linear(in_features=512, out_features=1000, bias=True)\n",
    "```\n",
    "out_features is the number of classes. This models are developed for Imagenet, a dataset with 1000 classes. So this part of the model you need to adapt. Additionally, you need to add a log-softmax layer again, as we us negative log-likelihood as the training criterion. "
   ]
  },
  {
   "cell_type": "code",
   "execution_count": null,
   "metadata": {},
   "outputs": [],
   "source": [
    "#########################################################################\n",
    "# TODO: Adapt the Resnet to work on CIFAR\n",
    "#########################################################################\n"
   ]
  },
  {
   "cell_type": "code",
   "execution_count": null,
   "metadata": {},
   "outputs": [],
   "source": [
    "# This should print 'torch.Size([16, 10])'\n",
    "cnn(torch.randn(16,3,32,32)).shape"
   ]
  },
  {
   "cell_type": "code",
   "execution_count": null,
   "metadata": {},
   "outputs": [],
   "source": [
    "device = 'cuda'\n",
    "if device == 'cuda': torch.backends.cudnn.benchmark = True # this gives us additional speed up\n",
    "\n",
    "optimizer = optim.SGD(cnn.parameters(), lr=0.1, momentum=0.9, weight_decay=5e-4)\n",
    "scheduler = torch.optim.lr_scheduler.CosineAnnealingLR(optimizer, T_max=200)\n",
    "cnn = cnn.to(device)\n",
    "\n",
    "epochs = 50\n",
    "for epoch in range(1, epochs + 1):\n",
    "    train(cnn, dl_train, optimizer, epoch, log_interval=100, device=device)\n",
    "    test(cnn, dl_test, device=device)    \n",
    "    scheduler.step()"
   ]
  },
  {
   "cell_type": "markdown",
   "metadata": {},
   "source": [
    "This should get us well above 75%, the best we got was ~ 80%.\n",
    "\n",
    "Now, use different torchvision architectures, different optimizers (Adam is always a good choice), data augmentation techniques, and hyperparameter search to achieve a test accuracy of >90 %"
   ]
  },
  {
   "cell_type": "code",
   "execution_count": null,
   "metadata": {},
   "outputs": [],
   "source": []
  }
 ],
 "metadata": {
  "kernelspec": {
   "display_name": "dl4cv",
   "language": "python",
   "name": "python3"
  },
  "language_info": {
   "codemirror_mode": {
    "name": "ipython",
    "version": 3
   },
   "file_extension": ".py",
   "mimetype": "text/x-python",
   "name": "python",
   "nbconvert_exporter": "python",
   "pygments_lexer": "ipython3",
   "version": "3.9.20"
  }
 },
 "nbformat": 4,
 "nbformat_minor": 4
}
